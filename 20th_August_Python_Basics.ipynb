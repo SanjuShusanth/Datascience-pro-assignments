{
 "cells": [
  {
   "cell_type": "markdown",
   "id": "12cf7931",
   "metadata": {},
   "source": [
    "### TOPIC: Python Basics Variable"
   ]
  },
  {
   "cell_type": "markdown",
   "id": "75c310ab",
   "metadata": {},
   "source": [
    "#### 1. Declare two variables, x and y, and assign them integer values. Swap the values of these variables without using any temporary variable."
   ]
  },
  {
   "cell_type": "code",
   "execution_count": 7,
   "id": "027e6f56",
   "metadata": {},
   "outputs": [
    {
     "name": "stdout",
     "output_type": "stream",
     "text": [
      "2 4\n"
     ]
    }
   ],
   "source": [
    "x = 2\n",
    "y =4\n",
    "\n",
    "print(x,y)"
   ]
  },
  {
   "cell_type": "code",
   "execution_count": 8,
   "id": "9bd26bfc",
   "metadata": {},
   "outputs": [
    {
     "name": "stdout",
     "output_type": "stream",
     "text": [
      "4 2\n"
     ]
    }
   ],
   "source": [
    "x,y = y,x\n",
    "\n",
    "print(x,y)"
   ]
  },
  {
   "cell_type": "markdown",
   "id": "f28a5c7c",
   "metadata": {},
   "source": [
    "### 2. Create a program that calculates the area of a rectangle. Take the length and width as inputs from the user and store them in variables. Calculate and display the area."
   ]
  },
  {
   "cell_type": "code",
   "execution_count": 11,
   "id": "3a6237d7",
   "metadata": {},
   "outputs": [
    {
     "name": "stdout",
     "output_type": "stream",
     "text": [
      "Enter the length: 10\n",
      "Enter the Width: 18\n",
      "Area of Rectangle 180\n"
     ]
    }
   ],
   "source": [
    "Length = int(input('Enter the length: '))\n",
    "Width = int(input('Enter the Width: '))\n",
    "\n",
    "Area_of_Rectangle = Length * Width\n",
    "print('Area of Rectangle',Area_of_Rectangle)"
   ]
  },
  {
   "cell_type": "markdown",
   "id": "8c4f9a70",
   "metadata": {},
   "source": [
    "### 3. Write a Python program that converts temperature from Celsius to Fahrenheit. Take the temperature in Celsius as input, store it in a variable, convert it to Fahrenheit, and display the result."
   ]
  },
  {
   "cell_type": "code",
   "execution_count": 29,
   "id": "105c19ca",
   "metadata": {},
   "outputs": [
    {
     "name": "stdout",
     "output_type": "stream",
     "text": [
      "Please enter the Celsius: 98.21\n",
      "Temperature in 208.778\n"
     ]
    }
   ],
   "source": [
    "Celsius = float(input('Please enter the Celsius: '))\n",
    "Fahrenheit = Celsius*(9/5) +32\n",
    "print(f'Temperature in {Fahrenheit}')"
   ]
  },
  {
   "cell_type": "markdown",
   "id": "edb05400",
   "metadata": {},
   "source": [
    "### String based questions\n"
   ]
  },
  {
   "cell_type": "markdown",
   "id": "87ac4e51",
   "metadata": {},
   "source": [
    "### 1. Write a Python program that takes a string as input and prints the length of the string.\n"
   ]
  },
  {
   "cell_type": "code",
   "execution_count": 32,
   "id": "f8a2ff63",
   "metadata": {},
   "outputs": [
    {
     "name": "stdout",
     "output_type": "stream",
     "text": [
      "Please enter you ambition: ML Engineer\n",
      "11\n"
     ]
    }
   ],
   "source": [
    "string = input('Please enter you ambition: ')\n",
    "print(len(string))"
   ]
  },
  {
   "cell_type": "markdown",
   "id": "bd9fef2a",
   "metadata": {},
   "source": [
    "#### 2. Create a program that takes a sentence from the user and counts the number of vowels (a, e, i, o, u) in the string.\n"
   ]
  },
  {
   "cell_type": "code",
   "execution_count": 88,
   "id": "ef687003",
   "metadata": {},
   "outputs": [
    {
     "name": "stdout",
     "output_type": "stream",
     "text": [
      "please enter a sentence: sanju is ml engineer\n"
     ]
    }
   ],
   "source": [
    "sentence = input('please enter a sentence: ')\n",
    "vowels = 'aeiou'"
   ]
  },
  {
   "cell_type": "code",
   "execution_count": 89,
   "id": "f4cd8acf",
   "metadata": {},
   "outputs": [
    {
     "name": "stdout",
     "output_type": "stream",
     "text": [
      "7\n"
     ]
    }
   ],
   "source": [
    "count = 0\n",
    "for i in sentence:\n",
    "    if i in vowels:\n",
    "        count+=1\n",
    "print(count)"
   ]
  },
  {
   "cell_type": "markdown",
   "id": "18a91f72",
   "metadata": {},
   "source": [
    "#### 3. Given a string, reverse the order of characters using string slicing and print the reversed string.\n"
   ]
  },
  {
   "cell_type": "code",
   "execution_count": 93,
   "id": "5ff0d4a1",
   "metadata": {},
   "outputs": [],
   "source": [
    "string = 'Sanju is ML Engineer'"
   ]
  },
  {
   "cell_type": "code",
   "execution_count": 120,
   "id": "40e4a857",
   "metadata": {},
   "outputs": [],
   "source": [
    "reverse_string = string[::-1]"
   ]
  },
  {
   "cell_type": "code",
   "execution_count": 121,
   "id": "12e80609",
   "metadata": {},
   "outputs": [
    {
     "data": {
      "text/plain": [
       "'reenignE LM si ujnaS'"
      ]
     },
     "execution_count": 121,
     "metadata": {},
     "output_type": "execute_result"
    }
   ],
   "source": [
    "reverse_string"
   ]
  },
  {
   "cell_type": "markdown",
   "id": "c4c6826e",
   "metadata": {},
   "source": [
    "#### 4. Write a program that takes a string as input and checks if it is a palindrome (reads the same forwards and backwards).\n"
   ]
  },
  {
   "cell_type": "code",
   "execution_count": 131,
   "id": "c2ae9681",
   "metadata": {},
   "outputs": [
    {
     "name": "stdout",
     "output_type": "stream",
     "text": [
      "Please enter a Palindrome word: malayalam\n",
      "It is a palindrome word\n"
     ]
    }
   ],
   "source": [
    "string_input = input('Please enter a Palindrome word: ')\n",
    "\n",
    "if string_input[::-1] == string_input[0:]:\n",
    "    print('It is a palindrome word')\n",
    "else:\n",
    "    print('It is not a palindrome word')"
   ]
  },
  {
   "cell_type": "markdown",
   "id": "f34037bc",
   "metadata": {},
   "source": [
    "#### 5. Create a program that takes a string as input and removes all the spaces from it. Print the modified string without spaces.\n"
   ]
  },
  {
   "cell_type": "code",
   "execution_count": 132,
   "id": "f225bc23",
   "metadata": {},
   "outputs": [
    {
     "name": "stdout",
     "output_type": "stream",
     "text": [
      "Enter a string: Sanju is a ML Engineer\n",
      "Modified string without spaces: SanjuisaMLEngineer\n"
     ]
    }
   ],
   "source": [
    "user_input = input(\"Enter a string: \")\n",
    "modified_string = user_input.replace(\" \", \"\")\n",
    "print(\"Modified string without spaces:\", modified_string)"
   ]
  },
  {
   "cell_type": "code",
   "execution_count": null,
   "id": "2bbd123a",
   "metadata": {},
   "outputs": [],
   "source": []
  }
 ],
 "metadata": {
  "kernelspec": {
   "display_name": "Python 3 (ipykernel)",
   "language": "python",
   "name": "python3"
  },
  "language_info": {
   "codemirror_mode": {
    "name": "ipython",
    "version": 3
   },
   "file_extension": ".py",
   "mimetype": "text/x-python",
   "name": "python",
   "nbconvert_exporter": "python",
   "pygments_lexer": "ipython3",
   "version": "3.9.13"
  }
 },
 "nbformat": 4,
 "nbformat_minor": 5
}

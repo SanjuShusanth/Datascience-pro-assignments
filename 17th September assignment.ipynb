{
 "cells": [
  {
   "cell_type": "markdown",
   "id": "27e10654",
   "metadata": {},
   "source": [
    "#### 1. Write a Python program to print numbers from 1 to 10 using a for loop."
   ]
  },
  {
   "cell_type": "code",
   "execution_count": 1,
   "id": "8c22411d",
   "metadata": {},
   "outputs": [
    {
     "name": "stdout",
     "output_type": "stream",
     "text": [
      "1\n",
      "2\n",
      "3\n",
      "4\n",
      "5\n",
      "6\n",
      "7\n",
      "8\n",
      "9\n",
      "10\n"
     ]
    }
   ],
   "source": [
    "for i in range(1,10+1):\n",
    "    print(i)"
   ]
  },
  {
   "cell_type": "markdown",
   "id": "b9c0c606",
   "metadata": {},
   "source": [
    "#### 2. Explain the difference between a for loop and a while loop in Python."
   ]
  },
  {
   "cell_type": "markdown",
   "id": "0b688c3e",
   "metadata": {},
   "source": [
    "#### For Loop -  \n",
    "\n",
    "They are generally used when you know the number of times you want to iterate over a block of code, such as when iterating through elements in a list.\n",
    "\n",
    "#### While Loop - \n",
    "\n",
    "They are used when you want to repeatedly execute a block of code as long as a certain condition is met. They are often used when the number of iterations is not known in advance."
   ]
  },
  {
   "cell_type": "markdown",
   "id": "84645009",
   "metadata": {},
   "source": [
    "#### 3. Write a Python program to calculate the sum of all numbers from 1 to 100 using a for loop."
   ]
  },
  {
   "cell_type": "code",
   "execution_count": 7,
   "id": "fe92e94a",
   "metadata": {},
   "outputs": [
    {
     "name": "stdout",
     "output_type": "stream",
     "text": [
      "5050\n"
     ]
    }
   ],
   "source": [
    "sum_of_numbers = sum([num for num in range(1,101)])\n",
    "\n",
    "print(sum_of_numbers)"
   ]
  },
  {
   "cell_type": "markdown",
   "id": "7bd3f1a3",
   "metadata": {},
   "source": [
    "#### 4. How do you iterate through a list using a for loop in Python?"
   ]
  },
  {
   "cell_type": "code",
   "execution_count": 8,
   "id": "6affef50",
   "metadata": {},
   "outputs": [
    {
     "name": "stdout",
     "output_type": "stream",
     "text": [
      "1\n",
      "2\n",
      "3\n",
      "4\n",
      "5\n"
     ]
    }
   ],
   "source": [
    "lst = [1,2,3,4,5]\n",
    "\n",
    "for i in lst:\n",
    "    print(i)"
   ]
  },
  {
   "cell_type": "markdown",
   "id": "895ef74a",
   "metadata": {},
   "source": [
    "#### 5. Write a Python program to find the product of all elements in a list using a for loop."
   ]
  },
  {
   "cell_type": "code",
   "execution_count": 5,
   "id": "12acc751",
   "metadata": {},
   "outputs": [
    {
     "name": "stdout",
     "output_type": "stream",
     "text": [
      "3628800\n"
     ]
    }
   ],
   "source": [
    "lst = [1,2,3,4,5,6,7,8,9,10]\n",
    "\n",
    "product = 1\n",
    "\n",
    "for i in lst:\n",
    "    product *= i\n",
    "print(product)"
   ]
  },
  {
   "cell_type": "markdown",
   "id": "26f25485",
   "metadata": {},
   "source": [
    "#### 6. Create a Python program that prints all even numbers from 1 to 20 using a for loop."
   ]
  },
  {
   "cell_type": "code",
   "execution_count": 10,
   "id": "9445ce35",
   "metadata": {},
   "outputs": [
    {
     "name": "stdout",
     "output_type": "stream",
     "text": [
      "[2, 4, 6, 8, 10, 12, 14, 16, 18, 20]\n"
     ]
    }
   ],
   "source": [
    "even_numbers= [num for num in range(1,21) if  num % 2 == 0]\n",
    "\n",
    "print(even_numbers)"
   ]
  },
  {
   "cell_type": "markdown",
   "id": "a017dcdb",
   "metadata": {},
   "source": [
    "#### 7. Write a Python program that calculates the factorial of a number using a for loop."
   ]
  },
  {
   "cell_type": "code",
   "execution_count": 64,
   "id": "210ce006",
   "metadata": {},
   "outputs": [],
   "source": [
    "def Factorial(num):\n",
    "    prod = 1 \n",
    "    for i in range(1, num+1):\n",
    "        prod *= i\n",
    "    return(prod)"
   ]
  },
  {
   "cell_type": "code",
   "execution_count": 65,
   "id": "1efa9c0a",
   "metadata": {},
   "outputs": [
    {
     "data": {
      "text/plain": [
       "120"
      ]
     },
     "execution_count": 65,
     "metadata": {},
     "output_type": "execute_result"
    }
   ],
   "source": [
    "Factorial(num=5)"
   ]
  },
  {
   "cell_type": "markdown",
   "id": "4a583f65",
   "metadata": {},
   "source": [
    "#### 8. How can you iterate through the characters of a string using a for loop in Python?"
   ]
  },
  {
   "cell_type": "code",
   "execution_count": 68,
   "id": "f1a29a8c",
   "metadata": {},
   "outputs": [
    {
     "name": "stdout",
     "output_type": "stream",
     "text": [
      "s\n",
      "a\n",
      "n\n",
      "j\n",
      "u\n"
     ]
    }
   ],
   "source": [
    "string = 'sanju'\n",
    "\n",
    "for char in string:\n",
    "    print(char)"
   ]
  },
  {
   "cell_type": "markdown",
   "id": "9b6830be",
   "metadata": {},
   "source": [
    "#### 9. Write a Python program to find the largest number in a list using a for loop."
   ]
  },
  {
   "cell_type": "code",
   "execution_count": 78,
   "id": "0d95063a",
   "metadata": {},
   "outputs": [],
   "source": [
    "lst = [1,2,3,4,5,6,7,8,9,10]\n",
    "\n",
    "lst.sort(reverse=True)"
   ]
  },
  {
   "cell_type": "code",
   "execution_count": 79,
   "id": "49b5f8f7",
   "metadata": {},
   "outputs": [
    {
     "name": "stdout",
     "output_type": "stream",
     "text": [
      "Largest num in the list 10\n"
     ]
    }
   ],
   "source": [
    "print('Largest num in the list', lst[0])"
   ]
  },
  {
   "cell_type": "markdown",
   "id": "ebb16f1c",
   "metadata": {},
   "source": [
    "#### 10. Create a Python program that prints the Fibonacci sequence up to a specified limit using a forloop."
   ]
  },
  {
   "cell_type": "code",
   "execution_count": 106,
   "id": "1dffe2ec",
   "metadata": {},
   "outputs": [],
   "source": [
    "def Fibonacci(num):\n",
    "    fibo = [0,1]\n",
    "    for i in range(2,num):\n",
    "        fibo.append(fibo[-1] + fibo[-2])\n",
    "    return fibo"
   ]
  },
  {
   "cell_type": "code",
   "execution_count": 107,
   "id": "92a331df",
   "metadata": {},
   "outputs": [
    {
     "data": {
      "text/plain": [
       "[0, 1, 1, 2, 3, 5, 8, 13, 21, 34]"
      ]
     },
     "execution_count": 107,
     "metadata": {},
     "output_type": "execute_result"
    }
   ],
   "source": [
    "Fibonacci(num=10)"
   ]
  },
  {
   "cell_type": "markdown",
   "id": "b5ea5891",
   "metadata": {},
   "source": [
    "#### 11. Write a Python program to count the number of vowels in a given string using a for loop."
   ]
  },
  {
   "cell_type": "code",
   "execution_count": 2,
   "id": "999724a3",
   "metadata": {},
   "outputs": [
    {
     "name": "stdout",
     "output_type": "stream",
     "text": [
      "8\n"
     ]
    }
   ],
   "source": [
    "vowels = 'AEIOUaeiou'\n",
    "\n",
    "string = 'sanju is a ML engineer'\n",
    "\n",
    "count=0\n",
    "\n",
    "for i in string:\n",
    "    if i in vowels:\n",
    "        count+=1\n",
    "print(count)"
   ]
  },
  {
   "cell_type": "markdown",
   "id": "8cb45fb6",
   "metadata": {},
   "source": [
    "#### 12. Create a Python program that generates a multiplication table for a given number using a for loop."
   ]
  },
  {
   "cell_type": "code",
   "execution_count": 8,
   "id": "aaf85ecf",
   "metadata": {},
   "outputs": [],
   "source": [
    "def Multiplication_table(num):\n",
    "    \n",
    "    for i in range(1, num+1):\n",
    "        print(i*num)"
   ]
  },
  {
   "cell_type": "code",
   "execution_count": 9,
   "id": "99a5ab3b",
   "metadata": {},
   "outputs": [
    {
     "name": "stdout",
     "output_type": "stream",
     "text": [
      "10\n",
      "20\n",
      "30\n",
      "40\n",
      "50\n",
      "60\n",
      "70\n",
      "80\n",
      "90\n",
      "100\n"
     ]
    }
   ],
   "source": [
    "Multiplication_table(num=10)"
   ]
  },
  {
   "cell_type": "markdown",
   "id": "3d281d93",
   "metadata": {},
   "source": [
    "#### 13. Write a Python program to reverse a list using a for loop."
   ]
  },
  {
   "cell_type": "code",
   "execution_count": 18,
   "id": "597b8098",
   "metadata": {},
   "outputs": [
    {
     "name": "stdout",
     "output_type": "stream",
     "text": [
      "5\n",
      "4\n",
      "3\n",
      "2\n",
      "1\n"
     ]
    }
   ],
   "source": [
    "lst=[1,2,3,4,5]\n",
    "\n",
    "for i in lst[::-1]:\n",
    "    print(i)"
   ]
  },
  {
   "cell_type": "markdown",
   "id": "ac89a61d",
   "metadata": {},
   "source": [
    "#### 14. Write a Python program to find the common elements between two lists using a for loop."
   ]
  },
  {
   "cell_type": "code",
   "execution_count": 19,
   "id": "97d11c6f",
   "metadata": {},
   "outputs": [
    {
     "name": "stdout",
     "output_type": "stream",
     "text": [
      "2\n",
      "4\n",
      "5\n"
     ]
    }
   ],
   "source": [
    "lst1 = [1,2,3,4,5]\n",
    "\n",
    "lst2 = [2,4,5,6]\n",
    "\n",
    "for i in lst1:\n",
    "    if i in lst2:\n",
    "        print(i)"
   ]
  },
  {
   "cell_type": "markdown",
   "id": "8f78a3a2",
   "metadata": {},
   "source": [
    "#### 15. Explain how to use a for loop to iterate through the keys and values of a dictionary in Python."
   ]
  },
  {
   "cell_type": "markdown",
   "id": "2cccdbd6",
   "metadata": {},
   "source": [
    " By using for loop to iterate over the items returned by my_dict.items(). In each iteration, key will be assigned the key of the current pair, and value will be assigned the corresponding value."
   ]
  },
  {
   "cell_type": "code",
   "execution_count": 22,
   "id": "a53a05ac",
   "metadata": {},
   "outputs": [
    {
     "name": "stdout",
     "output_type": "stream",
     "text": [
      "sanju 54\n",
      "nandhu 89\n",
      "Rahul 97\n"
     ]
    }
   ],
   "source": [
    "my_dict = {'sanju': 54, 'nandhu':89, 'Rahul':97}\n",
    "\n",
    "for key, value in my_dict.items():\n",
    "    print(key, value)"
   ]
  },
  {
   "cell_type": "markdown",
   "id": "c2c2db83",
   "metadata": {},
   "source": [
    "#### 17. Create a Python program that checks if a string is a palindrome using a for loop."
   ]
  },
  {
   "cell_type": "code",
   "execution_count": 25,
   "id": "af4e9ed3",
   "metadata": {},
   "outputs": [
    {
     "name": "stdout",
     "output_type": "stream",
     "text": [
      "racecar\n",
      "The string is palindrome\n"
     ]
    }
   ],
   "source": [
    "string = input()\n",
    "\n",
    "if string[::] == string[::-1]:\n",
    "    print('The string is palindrome')\n",
    "else:\n",
    "    print('It is not a palindrome')"
   ]
  },
  {
   "cell_type": "markdown",
   "id": "79b0a840",
   "metadata": {},
   "source": [
    "#### 18. Write a Python program to remove duplicates from a list using a for loop."
   ]
  },
  {
   "cell_type": "code",
   "execution_count": 28,
   "id": "b67cd884",
   "metadata": {},
   "outputs": [
    {
     "name": "stdout",
     "output_type": "stream",
     "text": [
      "[0, 1, 2, 3, 4, 5, 6, 7, 8, 9]\n"
     ]
    }
   ],
   "source": [
    "lst = [1,2,3,4,5,6,2,3,4,5,6,7,8,9,0]\n",
    "\n",
    "new = set()\n",
    "\n",
    "for i in lst:\n",
    "    if i not in new:\n",
    "        new.add(i)\n",
    "print(list(new))"
   ]
  },
  {
   "cell_type": "markdown",
   "id": "2e76b06e",
   "metadata": {},
   "source": [
    "#### 19. Create a Python program that counts the number of words in a sentence using a for loop."
   ]
  },
  {
   "cell_type": "code",
   "execution_count": 29,
   "id": "12631e2d",
   "metadata": {},
   "outputs": [
    {
     "name": "stdout",
     "output_type": "stream",
     "text": [
      "22\n"
     ]
    }
   ],
   "source": [
    "string = 'sanju is a ML engineer'\n",
    "\n",
    "count=0\n",
    "\n",
    "for i in string:\n",
    "    count+=1\n",
    "print(count)"
   ]
  },
  {
   "cell_type": "markdown",
   "id": "bae35cbe",
   "metadata": {},
   "source": [
    "#### 20. Write a Python program to find the sum of all odd numbers from 1 to 50 using a for loop."
   ]
  },
  {
   "cell_type": "code",
   "execution_count": 40,
   "id": "45b1b468",
   "metadata": {},
   "outputs": [],
   "source": [
    "def Odd_num(num): # I have used while because, i wanted to implement in while\n",
    "    total = 0\n",
    "    i = 1\n",
    "    while i <= num:\n",
    "        total += i\n",
    "        i+=2\n",
    "    return total"
   ]
  },
  {
   "cell_type": "code",
   "execution_count": 41,
   "id": "8b87f519",
   "metadata": {},
   "outputs": [
    {
     "data": {
      "text/plain": [
       "625"
      ]
     },
     "execution_count": 41,
     "metadata": {},
     "output_type": "execute_result"
    }
   ],
   "source": [
    "Odd_num(50)"
   ]
  },
  {
   "cell_type": "markdown",
   "id": "fb90bca3",
   "metadata": {},
   "source": [
    "#### 21. Write a Python program that checks if a given year is a leap year using a for loop."
   ]
  },
  {
   "cell_type": "code",
   "execution_count": 42,
   "id": "3cbecafa",
   "metadata": {},
   "outputs": [],
   "source": [
    "def given_year(year):\n",
    "    if (year % 4 ==0 and year % 100 !=0) or (year % 400 == 0):\n",
    "        return 'It is a leap year'\n",
    "    else:\n",
    "        return 'It is not a leap year'\n",
    "    "
   ]
  },
  {
   "cell_type": "code",
   "execution_count": 44,
   "id": "375af9da",
   "metadata": {},
   "outputs": [
    {
     "data": {
      "text/plain": [
       "'It is a leap year'"
      ]
     },
     "execution_count": 44,
     "metadata": {},
     "output_type": "execute_result"
    }
   ],
   "source": [
    "given_year(2024)"
   ]
  },
  {
   "cell_type": "markdown",
   "id": "74ffa1f5",
   "metadata": {},
   "source": [
    "#### 22. Create a Python program that calculates the square root of a number using a for loop."
   ]
  },
  {
   "cell_type": "code",
   "execution_count": 61,
   "id": "6046fed2",
   "metadata": {},
   "outputs": [
    {
     "name": "stdout",
     "output_type": "stream",
     "text": [
      "8\n",
      "The square root is approximately 2.8284\n"
     ]
    }
   ],
   "source": [
    "def sqrt(num):\n",
    "    return round(num**0.5,4)\n",
    " \n",
    "result = sqrt(num = int(input()))\n",
    "print(f\"The square root is approximately {result}\")\n",
    "\n"
   ]
  },
  {
   "cell_type": "markdown",
   "id": "1b54663c",
   "metadata": {},
   "source": [
    "#### 23. Write a Python program to find the LCM (Least Common Multiple) of two numbers using a for loop."
   ]
  },
  {
   "cell_type": "code",
   "execution_count": 5,
   "id": "e5eb131e",
   "metadata": {},
   "outputs": [],
   "source": [
    "def LCM(n1, n2):\n",
    "    multiples_n1 = [i for i in range(n1, (n1*10)+1, n1)]\n",
    "    multiples_n2 = [i for i in range(n2, (n2*10)+1, n2)]\n",
    "    \n",
    "    lcm = sorted([])\n",
    "    \n",
    "    for i in multiples_n1:\n",
    "        if i in multiples_n2:\n",
    "            lcm.append(i)\n",
    "    \n",
    "    return lcm[0]"
   ]
  },
  {
   "cell_type": "code",
   "execution_count": 6,
   "id": "ddb45805",
   "metadata": {},
   "outputs": [
    {
     "data": {
      "text/plain": [
       "36"
      ]
     },
     "execution_count": 6,
     "metadata": {},
     "output_type": "execute_result"
    }
   ],
   "source": [
    "LCM(4, 9)"
   ]
  },
  {
   "cell_type": "markdown",
   "id": "1dcaed4c",
   "metadata": {},
   "source": [
    "#### 1. Write a Python program to check if a number is positive, negative, or zero using an if-else statement."
   ]
  },
  {
   "cell_type": "code",
   "execution_count": 14,
   "id": "7749eb4f",
   "metadata": {},
   "outputs": [
    {
     "name": "stdout",
     "output_type": "stream",
     "text": [
      "Please enter a number: 9\n",
      "The 9 is Positive\n"
     ]
    }
   ],
   "source": [
    "num = int(input('Please enter a number: '))\n",
    "\n",
    "if num < 0: \n",
    "    print(f'The {num} is negative')\n",
    "elif num == 0:\n",
    "    print(f'The {num} is Zero')\n",
    "else:\n",
    "    print(f'The {num} is Positive')"
   ]
  },
  {
   "cell_type": "markdown",
   "id": "97e4b690",
   "metadata": {},
   "source": [
    "#### 2. Create a Python program that checks if a given number is even or odd using an if-else statement."
   ]
  },
  {
   "cell_type": "code",
   "execution_count": 15,
   "id": "68ebe063",
   "metadata": {},
   "outputs": [
    {
     "name": "stdout",
     "output_type": "stream",
     "text": [
      "Please enter a number: 8\n",
      "The 8 is Even Number\n"
     ]
    }
   ],
   "source": [
    "num = int(input('Please enter a number: '))\n",
    "\n",
    "if num % 2 == 0: \n",
    "    print(f'The {num} is Even Number')\n",
    "else:\n",
    "    print(f'The {num} is Odd Number')"
   ]
  },
  {
   "cell_type": "markdown",
   "id": "4b7d5fce",
   "metadata": {},
   "source": [
    "#### 3. How can you use nested if-else statements in Python, and provide an example?"
   ]
  },
  {
   "cell_type": "code",
   "execution_count": 29,
   "id": "da934ea0",
   "metadata": {},
   "outputs": [
    {
     "name": "stdout",
     "output_type": "stream",
     "text": [
      "Please enter the total price of your purchase to avail the offer: 2001\n",
      "No Free gifts\n"
     ]
    }
   ],
   "source": [
    "Total = int(input('Please enter the total price of your purchase to avail the offer: '))\n",
    "\n",
    "if Total>3000:\n",
    "    if Total >=3500 and Total <=4000:\n",
    "        print(f'You have received a discount of 25 percent, amount to be paid {Total - (Total*(25/100))}')\n",
    "    elif Total > 4000:\n",
    "        print(f'You have received a discount of 30 percent, amount to be paid {Total - (Total*(30/100))}')\n",
    "else:\n",
    "    if Total >=2500 and Total<=3000:\n",
    "        print('You have a received a free bag')\n",
    "    else:\n",
    "        print('No Free gifts')"
   ]
  },
  {
   "cell_type": "markdown",
   "id": "15e61ab9",
   "metadata": {},
   "source": [
    "#### 4. Write a Python program to determine the largest of three numbers using if-else."
   ]
  },
  {
   "cell_type": "code",
   "execution_count": 30,
   "id": "81b4c238",
   "metadata": {},
   "outputs": [],
   "source": [
    "def largest_number(n1,n2,n3):\n",
    "    if n1>=n2 and n1  >=n3:\n",
    "        return n1\n",
    "    elif n2>=n1 and n2>=n3:\n",
    "        return n2\n",
    "    else:\n",
    "        return n3"
   ]
  },
  {
   "cell_type": "code",
   "execution_count": 31,
   "id": "76b39aed",
   "metadata": {},
   "outputs": [
    {
     "data": {
      "text/plain": [
       "5"
      ]
     },
     "execution_count": 31,
     "metadata": {},
     "output_type": "execute_result"
    }
   ],
   "source": [
    "largest_number(5,3,4)"
   ]
  },
  {
   "cell_type": "markdown",
   "id": "5ec74f8a",
   "metadata": {},
   "source": [
    "#### 5. Write a Python program that calculates the absolute value of a number using if-else."
   ]
  },
  {
   "cell_type": "code",
   "execution_count": 36,
   "id": "db577331",
   "metadata": {},
   "outputs": [
    {
     "name": "stdout",
     "output_type": "stream",
     "text": [
      "Enter a number: 8\n",
      "The absolute value of 8.0 is 8.0.\n"
     ]
    }
   ],
   "source": [
    "def absolute(num):\n",
    "    if num >=0:\n",
    "        return num\n",
    "    else:\n",
    "        return num\n",
    "number = float(input(\"Enter a number: \"))\n",
    "\n",
    "value = absolute(number)\n",
    "\n",
    "print(f\"The absolute value of {number} is {value}.\")"
   ]
  },
  {
   "cell_type": "markdown",
   "id": "030d3103",
   "metadata": {},
   "source": [
    "#### 6. Create a Python program that checks if a given character is a vowel or consonant using if-else."
   ]
  },
  {
   "cell_type": "code",
   "execution_count": 42,
   "id": "f155161a",
   "metadata": {},
   "outputs": [
    {
     "name": "stdout",
     "output_type": "stream",
     "text": [
      "a\n",
      "The character a is a vowel\n"
     ]
    }
   ],
   "source": [
    "def is_vowel(char):\n",
    "    vowels = 'AEIOUaeiou'\n",
    "    if char in vowels:\n",
    "        print(f'The character {char} is a vowel')\n",
    "    else:\n",
    "        print(f'The character {char} is a consonant')\n",
    "        \n",
    "def main():\n",
    "        result = is_vowel(input())\n",
    "        return (result)\n",
    "\n",
    "if __name__ =='__main__':\n",
    "    main()\n"
   ]
  },
  {
   "cell_type": "markdown",
   "id": "d8ffcb85",
   "metadata": {},
   "source": [
    "#### 7. Write a Python program to determine if a user is eligible to vote based on their age using if-else."
   ]
  },
  {
   "cell_type": "code",
   "execution_count": 47,
   "id": "91dce8c9",
   "metadata": {},
   "outputs": [
    {
     "name": "stdout",
     "output_type": "stream",
     "text": [
      "Please enter your age: 14\n",
      "He is not eligible to vote, please come back after 4 years\n"
     ]
    }
   ],
   "source": [
    "user_age = int(input('Please enter your age: '))\n",
    "\n",
    "if user_age>=18:\n",
    "    print('He is eligible to vote')\n",
    "else:\n",
    "    print('He is not eligible to vote, please come back after {} years'.format(18-user_age))"
   ]
  },
  {
   "cell_type": "markdown",
   "id": "d7c03fc1",
   "metadata": {},
   "source": [
    "#### 8. Create a Python program that calculates the discount amount based on the purchase amount using if-else."
   ]
  },
  {
   "cell_type": "code",
   "execution_count": 48,
   "id": "bee6490f",
   "metadata": {},
   "outputs": [
    {
     "name": "stdout",
     "output_type": "stream",
     "text": [
      "Please enter the total price of your purchase to avail the offer: 5000\n",
      "You have received a discount of 30 percent, amount to be paid 3500.0\n"
     ]
    }
   ],
   "source": [
    "Total = int(input('Please enter the total price of your purchase to avail the offer: '))\n",
    "\n",
    "if Total>3000:\n",
    "    if Total >=3500 and Total <=4000:\n",
    "        print(f'You have received a discount of 25 percent, amount to be paid {Total - (Total*(25/100))}')\n",
    "    elif Total > 4000:\n",
    "        print(f'You have received a discount of 30 percent, amount to be paid {Total - (Total*(30/100))}')\n",
    "else:\n",
    "    if Total >=2500 and Total<=3000:\n",
    "        print(f'You have received a discount of 10 percent, amount to be paid {Total - (Total*(10/100))}')\n",
    "    else:\n",
    "        print('You will get a free bag')"
   ]
  },
  {
   "cell_type": "markdown",
   "id": "ebe41783",
   "metadata": {},
   "source": [
    "#### 9. Write a Python program to check if a number is within a specified range using if-else."
   ]
  },
  {
   "cell_type": "code",
   "execution_count": 52,
   "id": "743b01c2",
   "metadata": {},
   "outputs": [],
   "source": [
    "def check_no(num):\n",
    "    \n",
    "    if num in range(1,100):\n",
    "        print(f'The {num} is in the specified range')\n",
    "    else:\n",
    "        print(f'The {num} is not in the specified range')"
   ]
  },
  {
   "cell_type": "code",
   "execution_count": 53,
   "id": "ea1f4c16",
   "metadata": {},
   "outputs": [
    {
     "name": "stdout",
     "output_type": "stream",
     "text": [
      "The 101 is not in the specified range\n"
     ]
    }
   ],
   "source": [
    "check_no(101)"
   ]
  },
  {
   "cell_type": "markdown",
   "id": "0295b0a1",
   "metadata": {},
   "source": [
    "#### 10. Create a Python program that determines the grade of a student based on their score using if-else."
   ]
  },
  {
   "cell_type": "code",
   "execution_count": 59,
   "id": "5a977406",
   "metadata": {},
   "outputs": [
    {
     "name": "stdout",
     "output_type": "stream",
     "text": [
      "Please enter the score: 90\n",
      "Your Grade is A+\n"
     ]
    }
   ],
   "source": [
    "student_score = int(input('Please enter the score: '))\n",
    "\n",
    "if student_score>=90 and student_score <=100:\n",
    "    print('Your Grade is A+')\n",
    "elif student_score <90 and student_score >=80:\n",
    "    print('Your Grade is A')\n",
    "elif student_score <60 and student_score >=70:\n",
    "    print('Your Grade is B')\n",
    "elif student_score <50 and student_score >=60:\n",
    "    print('Your Grade is C')\n",
    "else:\n",
    "    print('Fail')"
   ]
  },
  {
   "cell_type": "markdown",
   "id": "7308f35c",
   "metadata": {},
   "source": [
    "#### 11. Write a Python program to check if a string is empty or not using if-else."
   ]
  },
  {
   "cell_type": "code",
   "execution_count": 63,
   "id": "404e56b9",
   "metadata": {},
   "outputs": [
    {
     "name": "stdout",
     "output_type": "stream",
     "text": [
      "\n",
      "The string is empty\n"
     ]
    }
   ],
   "source": [
    "string = input()\n",
    "\n",
    "if len(string) == 0:\n",
    "    print('The string is empty')\n",
    "else:\n",
    "    print('The string is not empty')"
   ]
  },
  {
   "cell_type": "markdown",
   "id": "999c622e",
   "metadata": {},
   "source": [
    "#### 12. Create a Python program that identifies the type of a triangle (e.g., equilateral, isosceles, or scalene) based on input values using if-else."
   ]
  },
  {
   "cell_type": "code",
   "execution_count": 72,
   "id": "b2ec72a6",
   "metadata": {},
   "outputs": [
    {
     "name": "stdout",
     "output_type": "stream",
     "text": [
      "6\n",
      "4\n",
      "8\n",
      "It is a scalene triangle\n"
     ]
    }
   ],
   "source": [
    "def find_triangle(a,b,c):\n",
    "    if a == b == c:\n",
    "        print('It is equilateral triangle')\n",
    "    elif a == b or b == c or c==a:\n",
    "        print('It is a Isosceles triangle')\n",
    "    else:\n",
    "        print('It is a scalene triangle')\n",
    "def main():\n",
    "    a = int(input())\n",
    "    b= int(input())\n",
    "    c= int(input())\n",
    "    result = find_triangle(a,b,c)\n",
    "    \n",
    "    return result\n",
    "\n",
    "if __name__ =='__main__':\n",
    "    main()"
   ]
  },
  {
   "cell_type": "markdown",
   "id": "61808ea2",
   "metadata": {},
   "source": [
    "#### 13. Write a Python program to determine the day of the week based on a user-provided number using if-else."
   ]
  },
  {
   "cell_type": "code",
   "execution_count": 92,
   "id": "d8027b38",
   "metadata": {},
   "outputs": [
    {
     "name": "stdout",
     "output_type": "stream",
     "text": [
      "Please enter the number between 1 to 7 : 4\n",
      "Thursday\n"
     ]
    }
   ],
   "source": [
    "user_input = int(input('Please enter the number between 1 to 7 : '))\n",
    "\n",
    "weekday = {'Monday':1, 'Tuesday':2, 'Wednesday':3, 'Thursday':4, 'Friday':5, 'Saturday': 6, 'Sunday': 7}\n",
    "                 \n",
    "for day, num in weekday.items():\n",
    "    if user_input == num:\n",
    "        print(day)\n",
    "        break\n",
    "else:\n",
    "    print('You should enter the number only between 1 to 7')"
   ]
  },
  {
   "cell_type": "markdown",
   "id": "23ce0a18",
   "metadata": {},
   "source": [
    "#### 14. Create a Python program that checks if a given year is a leap year using both if-else and a function."
   ]
  },
  {
   "cell_type": "code",
   "execution_count": 96,
   "id": "8319ef10",
   "metadata": {},
   "outputs": [],
   "source": [
    "def given_year(year):\n",
    "    if (year % 4 ==0 and year % 100 !=0) or (year % 400 == 0):\n",
    "        print('It is a leap year')\n",
    "    else:\n",
    "        print('It is not a leap year')\n",
    "    "
   ]
  },
  {
   "cell_type": "code",
   "execution_count": 102,
   "id": "bffd63c4",
   "metadata": {},
   "outputs": [
    {
     "name": "stdout",
     "output_type": "stream",
     "text": [
      "2020\n",
      "It is a leap year\n"
     ]
    }
   ],
   "source": [
    "result = given_year(int(input()))"
   ]
  },
  {
   "cell_type": "markdown",
   "id": "c8022591",
   "metadata": {},
   "source": [
    "#### 15. How do you use the \"assert\" statement in Python to add debugging checks within if-else blocks?"
   ]
  },
  {
   "cell_type": "code",
   "execution_count": 110,
   "id": "ac9bd6b8",
   "metadata": {},
   "outputs": [
    {
     "name": "stdout",
     "output_type": "stream",
     "text": [
      "10\n",
      "0\n",
      "None\n"
     ]
    }
   ],
   "source": [
    "def divide(a, b):\n",
    "    assert b != 0\n",
    "    return a / b\n",
    "\n",
    "\n",
    "num1 = int(input())\n",
    "num2 = int(input())\n",
    "\n",
    "if num2 != 0:\n",
    "    result = divide(num1, num2)\n",
    "else:\n",
    "    result = None\n",
    "\n",
    "print(result)"
   ]
  },
  {
   "cell_type": "markdown",
   "id": "ffd3754e",
   "metadata": {},
   "source": [
    "#### 16. Create a Python program that determines the eligibility of a person for a senior citizen discount based on age using if-else."
   ]
  },
  {
   "cell_type": "code",
   "execution_count": 121,
   "id": "394d22a2",
   "metadata": {},
   "outputs": [
    {
     "name": "stdout",
     "output_type": "stream",
     "text": [
      "Please enter the age : 75\n",
      "Please enter the bill: 8000\n",
      "You have received a discount of 50 percent, amount to be paid 4000.0\n"
     ]
    }
   ],
   "source": [
    "age = int(input('Please enter the age : '))\n",
    "\n",
    "bill_amt = int(input('Please enter the bill: '))\n",
    "\n",
    "if age<100:\n",
    "    if age>=51 and age <=70:\n",
    "        print(f'You have received a discount of 30 percent, amount to be paid {bill_amt - (bill_amt*(30/100))}')\n",
    "    elif age > 70:\n",
    "        print(f'You have received a discount of 50 percent, amount to be paid {bill_amt - (bill_amt*(50/100))}')\n",
    "else:\n",
    "    if age >=25 and age<=50:\n",
    "        print(f'You have received a discount of 10 percent, amount to be paid {bill_amt - (bill_amt*(10/100))}')\n",
    "    else:\n",
    "        print('You will get a free bag')"
   ]
  },
  {
   "cell_type": "markdown",
   "id": "40d3c062",
   "metadata": {},
   "source": [
    "#### 17. Write a Python program to categorize a given character as uppercase, lowercase, or neither using if-else."
   ]
  },
  {
   "cell_type": "code",
   "execution_count": 134,
   "id": "ad40b314",
   "metadata": {},
   "outputs": [],
   "source": [
    "def categorize(string):\n",
    "    \n",
    "    for char in range(len(string)):\n",
    "        if string[char].isupper():\n",
    "            print(f'{string[char]}, is uppercase')\n",
    "        else:\n",
    "            print(f'{string[char]} is lowercase')"
   ]
  },
  {
   "cell_type": "code",
   "execution_count": 135,
   "id": "07cd454a",
   "metadata": {},
   "outputs": [
    {
     "name": "stdout",
     "output_type": "stream",
     "text": [
      "S, is uppercase\n",
      "a is lowercase\n",
      "n is lowercase\n",
      "j is lowercase\n",
      "u is lowercase\n"
     ]
    }
   ],
   "source": [
    "categorize('Sanju')"
   ]
  },
  {
   "cell_type": "markdown",
   "id": "608c6610",
   "metadata": {},
   "source": [
    "#### 18. Write a Python program to determine the roots of a quadratic equation using if-else."
   ]
  },
  {
   "cell_type": "code",
   "execution_count": 136,
   "id": "46763f44",
   "metadata": {},
   "outputs": [
    {
     "name": "stdout",
     "output_type": "stream",
     "text": [
      "Enter the coefficient 'a': 8.9\n",
      "Enter the coefficient 'b': 6\n",
      "Enter the coefficient 'c': 7.5\n",
      "The roots of the quadratic equation are: ((-0.33707865168539325+0.8538586603129587j), (-0.33707865168539325-0.8538586603129587j))\n"
     ]
    }
   ],
   "source": [
    "import math\n",
    "\n",
    "def quadratic_roots(a, b, c):\n",
    "    discriminant = b**2 - 4*a*c\n",
    "    \n",
    "    if discriminant > 0:\n",
    "        root1 = (-b + math.sqrt(discriminant)) / (2*a)\n",
    "        root2 = (-b - math.sqrt(discriminant)) / (2*a)\n",
    "        return root1, root2\n",
    "    elif discriminant == 0:\n",
    "        root = -b / (2*a)\n",
    "        return root, root\n",
    "    else:\n",
    "        real_part = -b / (2*a)\n",
    "        imaginary_part = math.sqrt(abs(discriminant)) / (2*a)\n",
    "        return (real_part + imaginary_part*1j, real_part - imaginary_part*1j)\n",
    "\n",
    "a = float(input(\"Enter the coefficient 'a': \"))\n",
    "b = float(input(\"Enter the coefficient 'b': \"))\n",
    "c = float(input(\"Enter the coefficient 'c': \"))\n",
    "\n",
    "roots = quadratic_roots(a, b, c)\n",
    "\n",
    "print(f\"The roots of the quadratic equation are: {roots}\")\n"
   ]
  },
  {
   "cell_type": "markdown",
   "id": "9623658a",
   "metadata": {},
   "source": [
    "#### 19. Create a Python program that checks if a given year is a century year or not using if-else."
   ]
  },
  {
   "cell_type": "code",
   "execution_count": 138,
   "id": "a8ed2cc2",
   "metadata": {},
   "outputs": [
    {
     "name": "stdout",
     "output_type": "stream",
     "text": [
      "2000\n",
      "The 2000 year is a leap year also a century year\n"
     ]
    }
   ],
   "source": [
    "year = int(input())\n",
    "if ((year % 4 == 0 and year % 100 != 0) or (year % 400 == 0)) and (year % 100 == 0):\n",
    "    print(f'The {year} year is a leap year also a century year')\n",
    "elif (year % 4 == 0 and year % 100 != 0) or (year % 400 == 0):\n",
    "    print(f'The {year} is a leap year but not a century year')\n",
    "else:\n",
    "    print(f'The {year} is not a leap year and not a century year as well')"
   ]
  },
  {
   "cell_type": "markdown",
   "id": "c5867d43",
   "metadata": {},
   "source": [
    "#### 20. Write a Python program to determine if a given number is a perfect square using if-else."
   ]
  },
  {
   "cell_type": "code",
   "execution_count": 142,
   "id": "71e4d357",
   "metadata": {},
   "outputs": [],
   "source": [
    "def perfect_square(num):\n",
    "    sqrt = int(num**0.5)\n",
    "    \n",
    "    if sqrt**2 == num:\n",
    "        print(f'{num} is a perfect square')\n",
    "    else:\n",
    "        print(f'{num} is not a perfect square')"
   ]
  },
  {
   "cell_type": "code",
   "execution_count": 144,
   "id": "d611bc78",
   "metadata": {},
   "outputs": [
    {
     "name": "stdout",
     "output_type": "stream",
     "text": [
      "16 is a perfect square\n"
     ]
    }
   ],
   "source": [
    "perfect_square(16)"
   ]
  },
  {
   "cell_type": "markdown",
   "id": "273a6188",
   "metadata": {},
   "source": [
    "#### 21. Explain the purpose of the \"continue\" and \"break\" statements within if-else loops."
   ]
  },
  {
   "cell_type": "markdown",
   "id": "386aae6f",
   "metadata": {},
   "source": [
    "Continue - Continue is used when we are iterating over a list, if we want to skip the particular index then we can use continue"
   ]
  },
  {
   "cell_type": "code",
   "execution_count": 145,
   "id": "9fbe006b",
   "metadata": {},
   "outputs": [
    {
     "name": "stdout",
     "output_type": "stream",
     "text": [
      "1\n",
      "2\n",
      "3\n",
      "4\n",
      "5\n",
      "6\n",
      "8\n",
      "9\n"
     ]
    }
   ],
   "source": [
    "for i in range(1,10):\n",
    "    skip = 7\n",
    "    if i == skip:\n",
    "        continue\n",
    "    print(i)\n",
    "    "
   ]
  },
  {
   "cell_type": "markdown",
   "id": "691ee892",
   "metadata": {},
   "source": [
    "#### 22. Create a Python program that calculates the BMI (Body Mass Index) of a person based on their weight and height using if-else."
   ]
  },
  {
   "cell_type": "code",
   "execution_count": 155,
   "id": "360377e3",
   "metadata": {},
   "outputs": [
    {
     "name": "stdout",
     "output_type": "stream",
     "text": [
      "Please enter your weight is kgs: 69\n",
      "Please enter your height in meters: 1.78\n",
      "Normal weight\n"
     ]
    }
   ],
   "source": [
    "weight = float(input('Please enter your weight is kgs: '))\n",
    "\n",
    "height = float(input('Please enter your height in meters: '))\n",
    "\n",
    "bmi = weight/(height**2)\n",
    "\n",
    "if bmi < 18.5:\n",
    "    print(\"Underweight\")\n",
    "elif 18.5 <= bmi < 24.9:\n",
    "    print(\"Normal weight\")\n",
    "elif 25 <= bmi < 29.9:\n",
    "    print(\"Overweight\")\n",
    "else:\n",
    "    print(\"Obese\")"
   ]
  },
  {
   "cell_type": "markdown",
   "id": "d9c74315",
   "metadata": {},
   "source": [
    "#### 23. How can you use the \"filter()\" function with if-else statements to filter elements from a list?"
   ]
  },
  {
   "cell_type": "code",
   "execution_count": 162,
   "id": "f390e6ce",
   "metadata": {},
   "outputs": [
    {
     "name": "stdout",
     "output_type": "stream",
     "text": [
      "[6, 7, 8, 9, 10]\n"
     ]
    }
   ],
   "source": [
    "def function(a):\n",
    "    if a > 5:\n",
    "        return True\n",
    "    else:\n",
    "        return False\n",
    "\n",
    "numbers = [1,2,3,4,5,6,7,8,9,10]\n",
    "\n",
    "filter_number = list(filter(function, numbers))\n",
    "\n",
    "print(filter_number)"
   ]
  },
  {
   "cell_type": "markdown",
   "id": "2775f8b0",
   "metadata": {},
   "source": [
    "#### 24. Write a Python program to determine if a given number is prime or not using if-else."
   ]
  },
  {
   "cell_type": "code",
   "execution_count": 167,
   "id": "49519d10",
   "metadata": {},
   "outputs": [
    {
     "name": "stdout",
     "output_type": "stream",
     "text": [
      "Enter a number: 7\n",
      "7 is a prime number.\n"
     ]
    }
   ],
   "source": [
    "def prime(number):\n",
    "    if number < 2:\n",
    "        return False\n",
    "    elif number == 2:\n",
    "        return True\n",
    "    elif number % 2 == 0:\n",
    "        return False\n",
    "    else:\n",
    "        sqrt_num = int(number**0.5) + 1\n",
    "        for i in range(3, sqrt_num, 2):\n",
    "            if number % i == 0:\n",
    "                return False\n",
    "        return True\n",
    "\n",
    "num = int(input(\"Enter a number: \"))\n",
    "\n",
    "if prime(num):\n",
    "    print(f\"{num} is a prime number.\")\n",
    "else:\n",
    "    print(f\"{num} is not a prime number.\")"
   ]
  },
  {
   "cell_type": "markdown",
   "id": "25e508ed",
   "metadata": {},
   "source": [
    "### Map"
   ]
  },
  {
   "cell_type": "markdown",
   "id": "296d9881",
   "metadata": {},
   "source": [
    "#### 1. Explain the purpose of the `map()` function in Python and provide an example of how it can be used to apply a function to each element of an iterable."
   ]
  },
  {
   "cell_type": "markdown",
   "id": "eb86a69b",
   "metadata": {},
   "source": [
    "`map()` is  a Inbuild function that works as a iterator to return a result after applying a function to every item of an iterable. "
   ]
  },
  {
   "cell_type": "code",
   "execution_count": 6,
   "id": "e08ea6e4",
   "metadata": {},
   "outputs": [],
   "source": [
    "def add(n):\n",
    "    return n+1"
   ]
  },
  {
   "cell_type": "code",
   "execution_count": 7,
   "id": "06161d8b",
   "metadata": {},
   "outputs": [
    {
     "data": {
      "text/plain": [
       "[2, 3, 4, 5, 6]"
      ]
     },
     "execution_count": 7,
     "metadata": {},
     "output_type": "execute_result"
    }
   ],
   "source": [
    "lst=[1,2,3,4,5]\n",
    "\n",
    "result = list(map(add, lst))\n",
    "\n",
    "result"
   ]
  },
  {
   "cell_type": "markdown",
   "id": "ebf483da",
   "metadata": {},
   "source": [
    "#### 2. Write a Python program that uses the `map()` function to square each element of a list of numbers."
   ]
  },
  {
   "cell_type": "code",
   "execution_count": 8,
   "id": "7aedb020",
   "metadata": {},
   "outputs": [
    {
     "name": "stdout",
     "output_type": "stream",
     "text": [
      "[25, 36, 49, 64, 81, 100]\n"
     ]
    }
   ],
   "source": [
    "def sqrt(n):\n",
    "    return n**2\n",
    "\n",
    "lst =[5,6,7,8,9,10]\n",
    "\n",
    "squared = list(map(sqrt, lst))\n",
    "\n",
    "print(squared)"
   ]
  },
  {
   "cell_type": "markdown",
   "id": "1c02cbdb",
   "metadata": {},
   "source": [
    "#### 3. How does the `map()` function differ from a list comprehension in Python, and when would you choose one over the other?"
   ]
  },
  {
   "cell_type": "markdown",
   "id": "1305dcf8",
   "metadata": {},
   "source": [
    "`map()` and list comprehension are both used to apply a function to all the elements in the iterable. list comprehension is more readable and pythonic for simple operations, map() is used when we want to apply the funtion to multiple iterators"
   ]
  },
  {
   "cell_type": "markdown",
   "id": "d35aef5a",
   "metadata": {},
   "source": [
    "#### 4. Create a Python program that uses the `map()` function to convert a list of names to uppercase."
   ]
  },
  {
   "cell_type": "code",
   "execution_count": 20,
   "id": "c6c346b2",
   "metadata": {},
   "outputs": [
    {
     "name": "stdout",
     "output_type": "stream",
     "text": [
      "['SANJU', 'NANDHU']\n"
     ]
    }
   ],
   "source": [
    "lst = ['sanju', 'nandhu']\n",
    "new_lst = list(map(lambda x: x.upper(),lst))\n",
    "print(new_lst)"
   ]
  },
  {
   "cell_type": "markdown",
   "id": "8f351f70",
   "metadata": {},
   "source": [
    "#### 5. Write a Python program that uses the `map()` function to calculate the length of each word in a list of strings."
   ]
  },
  {
   "cell_type": "code",
   "execution_count": 7,
   "id": "5ed22f2b",
   "metadata": {},
   "outputs": [
    {
     "name": "stdout",
     "output_type": "stream",
     "text": [
      "dict_items([('sanju', 5), ('is', 2), ('a', 1), ('ML', 2), ('Engineer', 8)])\n"
     ]
    }
   ],
   "source": [
    "lst = ['sanju', 'is', 'a', 'ML', 'Engineer']\n",
    "\n",
    "updated_lst = list(map(lambda x: len(x), lst))\n",
    "\n",
    "new = dict(zip(lst, updated_lst))\n",
    "\n",
    "print(new.items())"
   ]
  },
  {
   "cell_type": "markdown",
   "id": "e6802a4c",
   "metadata": {},
   "source": [
    "#### 6. How can you use the `map()` function to apply a custom function to elements of multiple lists simultaneously in Python?"
   ]
  },
  {
   "cell_type": "code",
   "execution_count": 12,
   "id": "815b4e06",
   "metadata": {},
   "outputs": [
    {
     "name": "stdout",
     "output_type": "stream",
     "text": [
      "[3, 8, 15, 24, 35]\n"
     ]
    }
   ],
   "source": [
    "def multiply(num1, num2):\n",
    "    return num1*num2\n",
    "\n",
    "lst1 = [1,2,3,4,5]\n",
    "\n",
    "lst2 = [3,4,5,6,7]\n",
    "\n",
    "new = list(map(lambda x, y : multiply(x, y), lst1, lst2))\n",
    "\n",
    "print(new)"
   ]
  },
  {
   "cell_type": "markdown",
   "id": "2644bb87",
   "metadata": {},
   "source": [
    "#### 7. Create a Python program that uses `map()` to convert a list of temperatures from Celsius to Fahrenheit."
   ]
  },
  {
   "cell_type": "code",
   "execution_count": 8,
   "id": "1d9c291d",
   "metadata": {},
   "outputs": [
    {
     "name": "stdout",
     "output_type": "stream",
     "text": [
      "[91.4, 113.0, 150.8, 192.20000000000002, 168.8]\n"
     ]
    }
   ],
   "source": [
    "lst = [33,45,66,89,76]\n",
    "\n",
    "Fahrenheit = list(map(lambda x: x*(9/5)+32, lst))\n",
    "\n",
    "print(Fahrenheit)"
   ]
  },
  {
   "cell_type": "markdown",
   "id": "9465c5f5",
   "metadata": {},
   "source": [
    "#### 8. Write a Python program that uses the `map()` function to round each element of a list of floating-point numbers to the nearest integer."
   ]
  },
  {
   "cell_type": "code",
   "execution_count": 10,
   "id": "c8d2675d",
   "metadata": {},
   "outputs": [
    {
     "name": "stdout",
     "output_type": "stream",
     "text": [
      "[92, 114, 151, 192, 169]\n"
     ]
    }
   ],
   "source": [
    "lst= [91.5, 113.8, 150.8, 192.20000000000002, 168.8]\n",
    "\n",
    "new = list(map(lambda x: round(x), lst))\n",
    "\n",
    "print(new)"
   ]
  },
  {
   "cell_type": "markdown",
   "id": "b6d38eb2",
   "metadata": {},
   "source": [
    "### Reduce"
   ]
  },
  {
   "cell_type": "markdown",
   "id": "77db2919",
   "metadata": {},
   "source": [
    "#### 1. What is the `reduce()` function in Python, and what module should you import to use it? Provide an example of its basic usage."
   ]
  },
  {
   "cell_type": "markdown",
   "id": "7528b2b5",
   "metadata": {},
   "source": [
    "`reduce()` function is part of functools library, reduce function is used to perform specific function to sequence of elements, cumulatively. "
   ]
  },
  {
   "cell_type": "code",
   "execution_count": 12,
   "id": "fe1c7566",
   "metadata": {},
   "outputs": [],
   "source": [
    "from functools import reduce"
   ]
  },
  {
   "cell_type": "code",
   "execution_count": 13,
   "id": "88936955",
   "metadata": {},
   "outputs": [
    {
     "name": "stdout",
     "output_type": "stream",
     "text": [
      "15\n"
     ]
    }
   ],
   "source": [
    "def add(x, y):\n",
    "    return x+y\n",
    "\n",
    "lst = [1,2,3,4,5]\n",
    "\n",
    "new = reduce(add, lst)\n",
    "\n",
    "print(new)"
   ]
  },
  {
   "cell_type": "markdown",
   "id": "555f7f13",
   "metadata": {},
   "source": [
    "#### 2. Write a Python program that uses the `reduce()` function to find the product of all elements in a list."
   ]
  },
  {
   "cell_type": "code",
   "execution_count": 19,
   "id": "addfbcf7",
   "metadata": {},
   "outputs": [
    {
     "name": "stdout",
     "output_type": "stream",
     "text": [
      "15120\n"
     ]
    }
   ],
   "source": [
    "def product(x,y):\n",
    "    return x*y\n",
    "\n",
    "lst = [9,8,7,6,5]\n",
    "\n",
    "new = reduce(product, lst)\n",
    "\n",
    "print(new)"
   ]
  },
  {
   "cell_type": "markdown",
   "id": "125f973c",
   "metadata": {},
   "source": [
    "#### 3. Create a Python program that uses `reduce()` to find the maximum element in a list of numbers.\n"
   ]
  },
  {
   "cell_type": "code",
   "execution_count": 20,
   "id": "dbb22b44",
   "metadata": {},
   "outputs": [
    {
     "name": "stdout",
     "output_type": "stream",
     "text": [
      "89\n"
     ]
    }
   ],
   "source": [
    "lst = [54,23,89,65,54,13,9,78]\n",
    "\n",
    "def maximum(x, y):\n",
    "    return x if x > y else y\n",
    "\n",
    "new = reduce(maximum, lst)\n",
    "\n",
    "print(new)"
   ]
  },
  {
   "cell_type": "markdown",
   "id": "d48edb49",
   "metadata": {},
   "source": [
    "#### 4. How can you use the `reduce()` function to concatenate a list of strings into a single string?"
   ]
  },
  {
   "cell_type": "code",
   "execution_count": 24,
   "id": "0a677375",
   "metadata": {},
   "outputs": [
    {
     "name": "stdout",
     "output_type": "stream",
     "text": [
      "sanjuisaMLEngineer\n"
     ]
    }
   ],
   "source": [
    "def concatenate(x,y):\n",
    "    return x+y\n",
    "\n",
    "lst = ['sanju', 'is', 'a', 'ML', 'Engineer']\n",
    "\n",
    "new = reduce(concatenate, lst)\n",
    "\n",
    "print(new)"
   ]
  },
  {
   "cell_type": "markdown",
   "id": "410c7096",
   "metadata": {},
   "source": [
    "#### 5. Write a Python program that calculates the factorial of a number using the `reduce()` function."
   ]
  },
  {
   "cell_type": "code",
   "execution_count": 37,
   "id": "b7cdc843",
   "metadata": {},
   "outputs": [
    {
     "name": "stdout",
     "output_type": "stream",
     "text": [
      "4\n",
      "24\n"
     ]
    }
   ],
   "source": [
    "def factorial(n):\n",
    "    def product(x, y):\n",
    "        return x*y\n",
    "    return reduce(product, range(1, n+1))\n",
    "\n",
    "number = int(input())\n",
    "\n",
    "result = factorial(number)\n",
    "\n",
    "print(result)"
   ]
  },
  {
   "cell_type": "markdown",
   "id": "3436c315",
   "metadata": {},
   "source": [
    "#### 6. Create a Python program that uses `reduce()` to find the GCD (Greatest Common Divisor) of a list of numbers."
   ]
  },
  {
   "cell_type": "code",
   "execution_count": 45,
   "id": "c52fa4e4",
   "metadata": {},
   "outputs": [
    {
     "name": "stdout",
     "output_type": "stream",
     "text": [
      "12\n"
     ]
    }
   ],
   "source": [
    "import math\n",
    "\n",
    "def GCD(numbers):\n",
    "    return reduce(math.gcd, numbers)\n",
    "\n",
    "numbers = [24, 36]\n",
    "result = GCD(numbers)\n",
    "\n",
    "print(result)"
   ]
  },
  {
   "cell_type": "markdown",
   "id": "a45c8831",
   "metadata": {},
   "source": [
    "#### 7. Write a Python program that uses the `reduce()` function to find the sum of the digits of a given number."
   ]
  },
  {
   "cell_type": "code",
   "execution_count": 46,
   "id": "05031240",
   "metadata": {},
   "outputs": [
    {
     "name": "stdout",
     "output_type": "stream",
     "text": [
      "15\n"
     ]
    }
   ],
   "source": [
    "def sum_of_digits(x,y):\n",
    "    return x+y\n",
    "\n",
    "lst= [1,2,3,4,5]\n",
    "\n",
    "new =reduce(sum_of_digits, lst)\n",
    "\n",
    "print(new)"
   ]
  },
  {
   "cell_type": "markdown",
   "id": "18654478",
   "metadata": {},
   "source": [
    "### Filter"
   ]
  },
  {
   "cell_type": "markdown",
   "id": "abdf0f65",
   "metadata": {},
   "source": [
    "#### 1. Explain the purpose of the `filter()` function in Python and provide an example of how it can be used to filter elements from an iterable."
   ]
  },
  {
   "cell_type": "markdown",
   "id": "e76442cd",
   "metadata": {},
   "source": [
    "`filter()` it is inbuild function, used to filter out the element in iterable. "
   ]
  },
  {
   "cell_type": "code",
   "execution_count": 51,
   "id": "05e0158f",
   "metadata": {},
   "outputs": [
    {
     "name": "stdout",
     "output_type": "stream",
     "text": [
      "[1, 3, 5, 7, 9]\n"
     ]
    }
   ],
   "source": [
    "def odd_number(n):\n",
    "    return n%2 !=0\n",
    "\n",
    "numbers = [1,2,3,4,5,6,7,8,9,10]\n",
    "\n",
    "new = list(filter(odd_number, numbers))\n",
    "\n",
    "print(new)"
   ]
  },
  {
   "cell_type": "markdown",
   "id": "dada9c25",
   "metadata": {},
   "source": [
    "#### 2. Write a Python program that uses the `filter()` function to select even numbers from a list of integers."
   ]
  },
  {
   "cell_type": "code",
   "execution_count": 52,
   "id": "1b282a38",
   "metadata": {},
   "outputs": [
    {
     "name": "stdout",
     "output_type": "stream",
     "text": [
      "[2, 4, 6, 8, 10]\n"
     ]
    }
   ],
   "source": [
    "def even_number(n):\n",
    "    return n%2 ==0\n",
    "\n",
    "numbers = [1,2,3,4,5,6,7,8,9,10]\n",
    "\n",
    "new = list(filter(even_number, numbers))\n",
    "\n",
    "print(new)"
   ]
  },
  {
   "cell_type": "markdown",
   "id": "c6ce2b42",
   "metadata": {},
   "source": [
    "#### 3. Create a Python program that uses the `filter()` function to select names that start with a specific letter from a list of strings."
   ]
  },
  {
   "cell_type": "code",
   "execution_count": 68,
   "id": "9e847d09",
   "metadata": {},
   "outputs": [
    {
     "data": {
      "text/plain": [
       "['sanju', 'sandy']"
      ]
     },
     "execution_count": 68,
     "metadata": {},
     "output_type": "execute_result"
    }
   ],
   "source": [
    "def specific_name(letter, name):\n",
    "    return list(filter(lambda name: name.startswith(letter), name))\n",
    "\n",
    "specific_name(letter='s', name=['sanju', 'rahul', 'sandy'])"
   ]
  },
  {
   "cell_type": "markdown",
   "id": "c5785314",
   "metadata": {},
   "source": [
    "#### 4. Write a Python program that uses the `filter()` function to select prime numbers from a list of integers."
   ]
  },
  {
   "cell_type": "code",
   "execution_count": 8,
   "id": "ab6224c3",
   "metadata": {},
   "outputs": [
    {
     "name": "stdout",
     "output_type": "stream",
     "text": [
      "[2, 3, 5, 7]\n"
     ]
    }
   ],
   "source": [
    "def prime_no(num):\n",
    "        if num < 2:\n",
    "            return False\n",
    "        elif num ==2:\n",
    "            return True\n",
    "        elif num % 2 == 0:\n",
    "            return False\n",
    "        else:\n",
    "            sqrt_num = int(num**0.5) + 1\n",
    "            for i in range(3, sqrt_num, 2):\n",
    "                if num % i == 0:\n",
    "                    return False\n",
    "            return True\n",
    "lst= [1,2,3,4,5,6,7,8,9,10]\n",
    "result = list(filter(prime_no,lst))\n",
    "print(result)              "
   ]
  },
  {
   "cell_type": "markdown",
   "id": "14f4d941",
   "metadata": {},
   "source": [
    "#### 5. How can you use the `filter()` function to remove None values from a list in Python?"
   ]
  },
  {
   "cell_type": "code",
   "execution_count": 11,
   "id": "f79a7550",
   "metadata": {},
   "outputs": [
    {
     "name": "stdout",
     "output_type": "stream",
     "text": [
      "[54, 42, 73, 34, 58]\n"
     ]
    }
   ],
   "source": [
    "lst = [54, None, 42, 73, None, 34, None, 58]\n",
    "\n",
    "def is_none(element):\n",
    "    return element is not None\n",
    "\n",
    "filtered = list(filter(is_none,lst))\n",
    "\n",
    "print(filtered)"
   ]
  },
  {
   "cell_type": "markdown",
   "id": "e1fc5aa6",
   "metadata": {},
   "source": [
    "#### 6. Create a Python program that uses `filter()` to select words longer than a certain length from a list of strings"
   ]
  },
  {
   "cell_type": "code",
   "execution_count": 2,
   "id": "767504cb",
   "metadata": {},
   "outputs": [
    {
     "name": "stdout",
     "output_type": "stream",
     "text": [
      "['sanju', 'nandhu', 'rahul']\n"
     ]
    }
   ],
   "source": [
    "lst = ['sanju', 'raju', 'nandhu', 'rahul']\n",
    "\n",
    "filtered = list(filter(lambda x: len(x) >  4, lst) )\n",
    "\n",
    "print(filtered)"
   ]
  },
  {
   "cell_type": "markdown",
   "id": "a056dc56",
   "metadata": {},
   "source": [
    "#### 7. Write a Python program that uses the `filter()` function to select elements greater than a specified threshold from a list of values."
   ]
  },
  {
   "cell_type": "code",
   "execution_count": 8,
   "id": "8a680d25",
   "metadata": {},
   "outputs": [
    {
     "name": "stdout",
     "output_type": "stream",
     "text": [
      "[50]\n"
     ]
    }
   ],
   "source": [
    "def select_elements(lst, threshold):\n",
    "    filtered_list = list(filter(lambda x: x > threshold, lst))\n",
    "    return filtered_list\n",
    "\n",
    "lst = [10,20,30,40,50]\n",
    "threshold = 40\n",
    "\n",
    "results = select_elements(lst, threshold)\n",
    "\n",
    "print(results)"
   ]
  },
  {
   "cell_type": "markdown",
   "id": "7bebfc0c",
   "metadata": {},
   "source": [
    "### Recursion:-"
   ]
  },
  {
   "cell_type": "markdown",
   "id": "5d2e4d40",
   "metadata": {},
   "source": [
    "#### 1. Explain the concept of recursion in Python. How does it differ from iteration?"
   ]
  },
  {
   "cell_type": "markdown",
   "id": "68716795",
   "metadata": {},
   "source": [
    "Recursion is a technique in which a function calls itself as a subroutine. It's a way to break down a complex problem into smaller, more manageable subproblems. Iteration is a process of repeating set of instruction a specified number of times to until it reaches the specified number of times"
   ]
  },
  {
   "cell_type": "markdown",
   "id": "a086d5e9",
   "metadata": {},
   "source": [
    "#### 2. Write a Python program to calculate the factorial of a number using recursion."
   ]
  },
  {
   "cell_type": "code",
   "execution_count": 9,
   "id": "953d75dc",
   "metadata": {},
   "outputs": [],
   "source": [
    "def factorial(n):\n",
    "    if n == 0:\n",
    "        return 1\n",
    "    else:\n",
    "        return n*factorial(n-1)"
   ]
  },
  {
   "cell_type": "code",
   "execution_count": 10,
   "id": "fc29eb5f",
   "metadata": {},
   "outputs": [
    {
     "data": {
      "text/plain": [
       "120"
      ]
     },
     "execution_count": 10,
     "metadata": {},
     "output_type": "execute_result"
    }
   ],
   "source": [
    "factorial(5)"
   ]
  },
  {
   "cell_type": "markdown",
   "id": "0817b522",
   "metadata": {},
   "source": [
    "#### 3. Create a recursive Python function to find the nth Fibonacci number."
   ]
  },
  {
   "cell_type": "code",
   "execution_count": 15,
   "id": "aad5b1cc",
   "metadata": {},
   "outputs": [],
   "source": [
    "def fibonachi(n):\n",
    "    fibo = [0,1]\n",
    "    \n",
    "    for i in range(1, n+1):\n",
    "        fibo.append(fibo[-1] + fibo[-2])\n",
    "    return fibo"
   ]
  },
  {
   "cell_type": "code",
   "execution_count": 16,
   "id": "0a38247b",
   "metadata": {},
   "outputs": [
    {
     "data": {
      "text/plain": [
       "[0, 1, 1, 2, 3, 5, 8]"
      ]
     },
     "execution_count": 16,
     "metadata": {},
     "output_type": "execute_result"
    }
   ],
   "source": [
    "fibonachi(5)"
   ]
  },
  {
   "cell_type": "code",
   "execution_count": 4,
   "id": "26b9a61c",
   "metadata": {},
   "outputs": [],
   "source": [
    "def Fibonachi(n):\n",
    "    if n<=1:\n",
    "        return [0]\n",
    "    elif n == 2:\n",
    "        return [0,1]\n",
    "    \n",
    "    else:\n",
    "        fibo = Fibonachi(n-1)\n",
    "        fibo.append(fibo[-1] + fibo[-2])\n",
    "    return fibo"
   ]
  },
  {
   "cell_type": "code",
   "execution_count": 10,
   "id": "8c6336c7",
   "metadata": {},
   "outputs": [
    {
     "data": {
      "text/plain": [
       "[0, 1, 1, 2, 3]"
      ]
     },
     "execution_count": 10,
     "metadata": {},
     "output_type": "execute_result"
    }
   ],
   "source": [
    "Fibonachi(5)"
   ]
  },
  {
   "cell_type": "markdown",
   "id": "9d2cdfdf",
   "metadata": {},
   "source": [
    "#### 4. Write a recursive Python function to calculate the sum of all elements in a list."
   ]
  },
  {
   "cell_type": "code",
   "execution_count": 5,
   "id": "8562e479",
   "metadata": {},
   "outputs": [],
   "source": [
    "def recurssion(lst, total=0):\n",
    "    if not lst:\n",
    "        return total\n",
    "    return recurssion(lst[1:], total + lst[0])"
   ]
  },
  {
   "cell_type": "code",
   "execution_count": 9,
   "id": "b9c5d292",
   "metadata": {},
   "outputs": [
    {
     "data": {
      "text/plain": [
       "8"
      ]
     },
     "execution_count": 9,
     "metadata": {},
     "output_type": "execute_result"
    }
   ],
   "source": [
    "recurssion(lst=[1,7])"
   ]
  },
  {
   "cell_type": "markdown",
   "id": "d6e7bf15",
   "metadata": {},
   "source": [
    "#### 5. How can you prevent a recursive function from running indefinitely, causing a stack overflow error?"
   ]
  },
  {
   "cell_type": "markdown",
   "id": "885d0f3f",
   "metadata": {},
   "source": [
    "We can prevent a recursive function from running indefinitely by strictly the function should have base case that provides a condition for the recursion to stop. the input argument should be modified in a way that brings closer to base case."
   ]
  },
  {
   "cell_type": "markdown",
   "id": "eb1582fc",
   "metadata": {},
   "source": [
    "#### 6. Create a recursive Python function to find the greatest common divisor (GCD) of two numbers using the Euclidean algorithm."
   ]
  },
  {
   "cell_type": "code",
   "execution_count": 31,
   "id": "d13b5768",
   "metadata": {},
   "outputs": [],
   "source": [
    "def GCD(n1, n2):\n",
    "    if n2 == 0:\n",
    "        return n1\n",
    "    else:\n",
    "        return GCD(n2, n1%n2)"
   ]
  },
  {
   "cell_type": "code",
   "execution_count": 32,
   "id": "f8ffacc8",
   "metadata": {},
   "outputs": [
    {
     "data": {
      "text/plain": [
       "1"
      ]
     },
     "execution_count": 32,
     "metadata": {},
     "output_type": "execute_result"
    }
   ],
   "source": [
    "GCD(4,5)"
   ]
  },
  {
   "cell_type": "markdown",
   "id": "84deaa1a",
   "metadata": {},
   "source": [
    "#### 7. Write a recursive Python function to reverse a string."
   ]
  },
  {
   "cell_type": "code",
   "execution_count": 10,
   "id": "2cc569d7",
   "metadata": {},
   "outputs": [],
   "source": [
    "def reverse(string): \n",
    "    if len(string) <=1:\n",
    "        return string\n",
    "    else:\n",
    "        return reverse(string[1:]) + string[0]"
   ]
  },
  {
   "cell_type": "code",
   "execution_count": 11,
   "id": "5ec4db3b",
   "metadata": {},
   "outputs": [
    {
     "data": {
      "text/plain": [
       "'98765'"
      ]
     },
     "execution_count": 11,
     "metadata": {},
     "output_type": "execute_result"
    }
   ],
   "source": [
    "reverse(string='56789')"
   ]
  },
  {
   "cell_type": "markdown",
   "id": "c5f5bc3c",
   "metadata": {},
   "source": [
    "#### 8. Create a recursive Python function to calculate the power of a number (x^n)."
   ]
  },
  {
   "cell_type": "code",
   "execution_count": 20,
   "id": "73d2c7b0",
   "metadata": {},
   "outputs": [
    {
     "name": "stdout",
     "output_type": "stream",
     "text": [
      "0.0001\n"
     ]
    }
   ],
   "source": [
    "def power(x, n):\n",
    "    if n == 0:\n",
    "        return 1\n",
    "    elif n > 0:\n",
    "        return x * power(x, n - 1)\n",
    "    else:\n",
    "        return 1 / power(x, -n)\n",
    "\n",
    "result = power(10, -4) \n",
    "print(result) "
   ]
  },
  {
   "cell_type": "markdown",
   "id": "843e11d5",
   "metadata": {},
   "source": [
    "#### 9. Write a recursive Python function to find all permutations of a given string."
   ]
  },
  {
   "cell_type": "code",
   "execution_count": 13,
   "id": "6ee979b6",
   "metadata": {},
   "outputs": [
    {
     "name": "stdout",
     "output_type": "stream",
     "text": [
      "['abc', 'acb', 'bac', 'bca', 'cab', 'cba']\n"
     ]
    }
   ],
   "source": [
    "def permutations(input_str):\n",
    "    if len(input_str) == 1:\n",
    "        return [input_str]\n",
    "\n",
    "    result = []\n",
    "\n",
    "    for i, char in enumerate(input_str):\n",
    "        remaining_chars = input_str[:i] + input_str[i+1:]\n",
    "        sub_permutations = permutations(remaining_chars)\n",
    "\n",
    "        for perm in sub_permutations:\n",
    "            result.append(char + perm)\n",
    "\n",
    "    return result\n",
    "\n",
    "result = permutations(\"abc\")\n",
    "print(result)"
   ]
  },
  {
   "cell_type": "markdown",
   "id": "a36c7daa",
   "metadata": {},
   "source": [
    "#### 10. Write a recursive Python function to check if a string is a palindrome."
   ]
  },
  {
   "cell_type": "code",
   "execution_count": 20,
   "id": "79835325",
   "metadata": {},
   "outputs": [],
   "source": [
    "def palindrome(string):\n",
    "    if len(string) <=1:\n",
    "        return True\n",
    "    \n",
    "    if string[0] == string[-1]:\n",
    "        return palindrome(string[1:-1])\n",
    "    \n",
    "    return False"
   ]
  },
  {
   "cell_type": "code",
   "execution_count": 24,
   "id": "28c16f76",
   "metadata": {},
   "outputs": [
    {
     "data": {
      "text/plain": [
       "True"
      ]
     },
     "execution_count": 24,
     "metadata": {},
     "output_type": "execute_result"
    }
   ],
   "source": [
    "palindrome('racecar')"
   ]
  },
  {
   "cell_type": "markdown",
   "id": "e36e34fa",
   "metadata": {},
   "source": [
    "#### 11. Create a recursive Python function to generate all possible combinations of a list of elements."
   ]
  },
  {
   "cell_type": "code",
   "execution_count": 25,
   "id": "1cf64994",
   "metadata": {},
   "outputs": [
    {
     "name": "stdout",
     "output_type": "stream",
     "text": [
      "[[1, 2, 3], [1, 2], [1, 3], [1], [2, 3], [2], [3], []]\n"
     ]
    }
   ],
   "source": [
    "def generate_combinations(elements):\n",
    "    if len(elements) == 0:\n",
    "        return [[]]\n",
    "\n",
    "    first_element = elements[0]\n",
    "    remaining_elements = elements[1:]\n",
    "    \n",
    "    combinations_without_first = generate_combinations(remaining_elements)\n",
    "\n",
    "    combinations_with_first = []\n",
    "    for combination in combinations_without_first:\n",
    "        combinations_with_first.append([first_element] + combination)\n",
    "\n",
    "    return combinations_with_first + combinations_without_first\n",
    "\n",
    "result = generate_combinations([1, 2, 3])\n",
    "print(result)"
   ]
  },
  {
   "cell_type": "markdown",
   "id": "e1e44449",
   "metadata": {},
   "source": [
    "### Basics of Functions:"
   ]
  },
  {
   "cell_type": "markdown",
   "id": "4f03c675",
   "metadata": {},
   "source": [
    "#### 1. What is a function in Python, and why is it used?"
   ]
  },
  {
   "cell_type": "markdown",
   "id": "25ea48dd",
   "metadata": {},
   "source": [
    "Functions are block of code that returns a specific task, these block of code can be used multiple times instead of writing the code again and again. "
   ]
  },
  {
   "cell_type": "markdown",
   "id": "90381a3b",
   "metadata": {},
   "source": [
    "#### 2. How do you define a function in Python? Provide an example."
   ]
  },
  {
   "cell_type": "markdown",
   "id": "cc82f037",
   "metadata": {},
   "source": [
    "firstly we need to pass the keyword called `def`, which means define followed by the function name and open brackets and we can pass the arguments."
   ]
  },
  {
   "cell_type": "code",
   "execution_count": 26,
   "id": "f57281c8",
   "metadata": {},
   "outputs": [
    {
     "name": "stdout",
     "output_type": "stream",
     "text": [
      "13\n"
     ]
    }
   ],
   "source": [
    "def add(x, y):\n",
    "    return x+y\n",
    "result = add(5,8)\n",
    "print(result)"
   ]
  },
  {
   "cell_type": "markdown",
   "id": "16698c7b",
   "metadata": {},
   "source": [
    "#### 3. Explain the difference between a function definition and a function call."
   ]
  },
  {
   "cell_type": "markdown",
   "id": "de9a8d45",
   "metadata": {},
   "source": [
    "function - It performs the activity or task that the user is willing to perform\n",
    "\n",
    "function call - Where user actually invoke or execute a function that has been defined."
   ]
  },
  {
   "cell_type": "markdown",
   "id": "c4c3ce65",
   "metadata": {},
   "source": [
    "#### 4. Write a Python program that defines a function to calculate the sum of two numbers and then calls the function."
   ]
  },
  {
   "cell_type": "code",
   "execution_count": 27,
   "id": "a95016fb",
   "metadata": {},
   "outputs": [],
   "source": [
    "# function\n",
    "def add(x, y):\n",
    "    return x+y"
   ]
  },
  {
   "cell_type": "code",
   "execution_count": 28,
   "id": "4fe36d69",
   "metadata": {},
   "outputs": [
    {
     "data": {
      "text/plain": [
       "13"
      ]
     },
     "execution_count": 28,
     "metadata": {},
     "output_type": "execute_result"
    }
   ],
   "source": [
    "# function call\n",
    "add(5,8)"
   ]
  },
  {
   "cell_type": "markdown",
   "id": "db3a89dd",
   "metadata": {},
   "source": [
    "#### 5. What is a function signature, and what information does it typically include?"
   ]
  },
  {
   "cell_type": "markdown",
   "id": "cc765818",
   "metadata": {},
   "source": [
    "A function's signature is a complete document or description of the code or the task that it is undergoing, which includes 'def add(x,y):' add is function name followed by the parameters, ending the execution of the function by calling the keyword `return`"
   ]
  },
  {
   "cell_type": "markdown",
   "id": "270d6c1d",
   "metadata": {},
   "source": [
    "#### 6. Create a Python function that takes two arguments and returns their product."
   ]
  },
  {
   "cell_type": "code",
   "execution_count": 29,
   "id": "224f5336",
   "metadata": {},
   "outputs": [
    {
     "data": {
      "text/plain": [
       "45"
      ]
     },
     "execution_count": 29,
     "metadata": {},
     "output_type": "execute_result"
    }
   ],
   "source": [
    "def product(x, y):\n",
    "    return x*y\n",
    "\n",
    "product(5,9)"
   ]
  },
  {
   "cell_type": "markdown",
   "id": "c18cae4d",
   "metadata": {},
   "source": [
    "### Function Parameters and Arguments:"
   ]
  },
  {
   "cell_type": "markdown",
   "id": "01cf3e09",
   "metadata": {},
   "source": [
    "#### 1. Explain the concepts of formal parameters and actual arguments in Python functions."
   ]
  },
  {
   "cell_type": "markdown",
   "id": "80c715b3",
   "metadata": {},
   "source": [
    "Formal Parameters are the placeholders or variable that are used in the function definition to represent the inputs that the function expects.\n",
    "\n",
    "Actual arguments are used when the function is called to perform a specific task, where we pass the arguments to run the block of code."
   ]
  },
  {
   "cell_type": "markdown",
   "id": "f2652935",
   "metadata": {},
   "source": [
    "#### 2. Write a Python program that defines a function with default argument values."
   ]
  },
  {
   "cell_type": "code",
   "execution_count": 27,
   "id": "8b100ea1",
   "metadata": {},
   "outputs": [
    {
     "data": {
      "text/plain": [
       "'Hello, Sanju'"
      ]
     },
     "execution_count": 27,
     "metadata": {},
     "output_type": "execute_result"
    }
   ],
   "source": [
    "def greet(message='Hello',user = 'Sanju'):\n",
    "    return f'{message}, {user}'\n",
    "greet()"
   ]
  },
  {
   "cell_type": "markdown",
   "id": "31bcf1cd",
   "metadata": {},
   "source": [
    "#### 3. How do you use keyword arguments in Python function calls? Provide an example."
   ]
  },
  {
   "cell_type": "markdown",
   "id": "9f2d527a",
   "metadata": {},
   "source": [
    "keyword arguments allow you to specify arguments by their parameter names when calling a function. This provides clarity and flexibility, especially when a function has multiple parameters."
   ]
  },
  {
   "cell_type": "code",
   "execution_count": 33,
   "id": "fa82d77e",
   "metadata": {},
   "outputs": [
    {
     "name": "stdout",
     "output_type": "stream",
     "text": [
      "Hi, Sanju!\n"
     ]
    }
   ],
   "source": [
    "def greet(name, greeting=\"Hello\"):\n",
    "    return f\"{greeting}, {name}!\"\n",
    "\n",
    "custom_greeting = greet(greeting=\"Hi\", name=\"Sanju\")\n",
    "print(custom_greeting) "
   ]
  },
  {
   "cell_type": "markdown",
   "id": "dc296f7a",
   "metadata": {},
   "source": [
    "#### 4. Create a Python function that accepts a variable number of arguments and calculates their sum."
   ]
  },
  {
   "cell_type": "code",
   "execution_count": 35,
   "id": "b8125e77",
   "metadata": {},
   "outputs": [
    {
     "data": {
      "text/plain": [
       "22"
      ]
     },
     "execution_count": 35,
     "metadata": {},
     "output_type": "execute_result"
    }
   ],
   "source": [
    "def Total(*args):\n",
    "    total = sum(args)\n",
    "    return total\n",
    "\n",
    "Total(4,5,6,7)"
   ]
  },
  {
   "cell_type": "markdown",
   "id": "756b451f",
   "metadata": {},
   "source": [
    "#### 5. What is the purpose of the `*args` and `**kwargs` syntax in function parameter lists?"
   ]
  },
  {
   "cell_type": "markdown",
   "id": "24102b66",
   "metadata": {},
   "source": [
    "*args are used to assign multiple parameter without any placeholders.\n",
    "\n",
    "**kwargs are used in dictionary where we can assign key and values."
   ]
  },
  {
   "cell_type": "markdown",
   "id": "537ebbee",
   "metadata": {},
   "source": [
    "### Return Values and Scoping:"
   ]
  },
  {
   "cell_type": "markdown",
   "id": "5ab0b82b",
   "metadata": {},
   "source": [
    "#### 1. Describe the role of the `return` statement in Python functions and provide examples."
   ]
  },
  {
   "cell_type": "markdown",
   "id": "ad74d8fc",
   "metadata": {},
   "source": [
    "`return` statement in function is used to end the execution of the function calls."
   ]
  },
  {
   "cell_type": "code",
   "execution_count": 36,
   "id": "ff048105",
   "metadata": {},
   "outputs": [
    {
     "data": {
      "text/plain": [
       "45"
      ]
     },
     "execution_count": 36,
     "metadata": {},
     "output_type": "execute_result"
    }
   ],
   "source": [
    "def product(x, y):\n",
    "    return x*y\n",
    "\n",
    "product(5,9)"
   ]
  },
  {
   "cell_type": "markdown",
   "id": "0dc79308",
   "metadata": {},
   "source": [
    "#### 2. Explain the concept of variable scope in Python, including local and global variables."
   ]
  },
  {
   "cell_type": "markdown",
   "id": "df3302c4",
   "metadata": {},
   "source": [
    "Local variable is defined within the block of code, it is only accessible within the function which is defined."
   ]
  },
  {
   "cell_type": "markdown",
   "id": "92df1f75",
   "metadata": {},
   "source": [
    "Eg:"
   ]
  },
  {
   "cell_type": "code",
   "execution_count": 1,
   "id": "d8c2d421",
   "metadata": {},
   "outputs": [
    {
     "name": "stdout",
     "output_type": "stream",
     "text": [
      "10\n"
     ]
    },
    {
     "ename": "NameError",
     "evalue": "name 'local_var' is not defined",
     "output_type": "error",
     "traceback": [
      "\u001b[1;31m---------------------------------------------------------------------------\u001b[0m",
      "\u001b[1;31mNameError\u001b[0m                                 Traceback (most recent call last)",
      "Cell \u001b[1;32mIn[1], line 6\u001b[0m\n\u001b[0;32m      3\u001b[0m     \u001b[38;5;28mprint\u001b[39m(local_var)\n\u001b[0;32m      5\u001b[0m my_function()  \u001b[38;5;66;03m# Output: 10\u001b[39;00m\n\u001b[1;32m----> 6\u001b[0m \u001b[38;5;28mprint\u001b[39m(\u001b[43mlocal_var\u001b[49m)\n",
      "\u001b[1;31mNameError\u001b[0m: name 'local_var' is not defined"
     ]
    }
   ],
   "source": [
    "def my_function():\n",
    "    local_var = 10\n",
    "    print(local_var)\n",
    "    \n",
    "my_function()  # Output: 10\n",
    "print(local_var)  # Error: NameError - name 'local_var' is not defined"
   ]
  },
  {
   "cell_type": "markdown",
   "id": "7c50096e",
   "metadata": {},
   "source": [
    "Global variable is a variable defined outside of any function or class. It is accessible throughtout the entire program, including inside functions."
   ]
  },
  {
   "cell_type": "code",
   "execution_count": 32,
   "id": "9b2a3191",
   "metadata": {},
   "outputs": [
    {
     "name": "stdout",
     "output_type": "stream",
     "text": [
      "11\n"
     ]
    }
   ],
   "source": [
    "var = 10\n",
    "def my_function(var):\n",
    "    var += 1\n",
    "    print(var)\n",
    "    \n",
    "my_function(var)  "
   ]
  },
  {
   "cell_type": "markdown",
   "id": "e54435dd",
   "metadata": {},
   "source": [
    "#### 3. Write a Python program that demonstrates the use of global variables within functions."
   ]
  },
  {
   "cell_type": "code",
   "execution_count": 9,
   "id": "414c8ab5",
   "metadata": {},
   "outputs": [
    {
     "name": "stdout",
     "output_type": "stream",
     "text": [
      "11\n",
      "11\n"
     ]
    }
   ],
   "source": [
    "global_var = 10\n",
    "\n",
    "def my_function():\n",
    "    global global_var\n",
    "    global_var += 1\n",
    "    print(global_var)\n",
    "    \n",
    "my_function()  \n",
    "print(global_var)  "
   ]
  },
  {
   "cell_type": "markdown",
   "id": "5d22e09e",
   "metadata": {},
   "source": [
    "#### 4. Create a Python function that calculates the factorial of a number and returns it."
   ]
  },
  {
   "cell_type": "code",
   "execution_count": 12,
   "id": "72f81587",
   "metadata": {},
   "outputs": [
    {
     "data": {
      "text/plain": [
       "120"
      ]
     },
     "execution_count": 12,
     "metadata": {},
     "output_type": "execute_result"
    }
   ],
   "source": [
    "product = 1\n",
    "def factorial(n):\n",
    "    for i in range(1, n+1):\n",
    "        product*=i\n",
    "    return product\n",
    "\n",
    "factorial(5)\n",
    "        "
   ]
  },
  {
   "cell_type": "markdown",
   "id": "01f11881",
   "metadata": {},
   "source": [
    "#### 5. How can you access variables defined outside a function from within the function?"
   ]
  },
  {
   "cell_type": "code",
   "execution_count": 15,
   "id": "e132ec97",
   "metadata": {},
   "outputs": [
    {
     "data": {
      "text/plain": [
       "120"
      ]
     },
     "execution_count": 15,
     "metadata": {},
     "output_type": "execute_result"
    }
   ],
   "source": [
    "product = 1\n",
    "def factorial(n):\n",
    "    global product\n",
    "    for i in range(1, n+1):\n",
    "        product*=i\n",
    "    return product\n",
    "\n",
    "factorial(5)"
   ]
  },
  {
   "cell_type": "markdown",
   "id": "da5cdacc",
   "metadata": {},
   "source": [
    "### Built-in Functions:"
   ]
  },
  {
   "cell_type": "markdown",
   "id": "0f58ec48",
   "metadata": {},
   "source": [
    "#### 1. Describe the role of built-in functions like `len()`, `max()`, and `min()` in Python."
   ]
  },
  {
   "cell_type": "markdown",
   "id": "b10f5ff4",
   "metadata": {},
   "source": [
    "`len()` -   is used to determine the length of a sequence or collection in Python. \n",
    "\n",
    "`max()` - is used to find the maximum value in a collection, such as a list or tuple.\n",
    "\n",
    "`min()` -  is used to find the minimum value in a collection, such as a list or tuple."
   ]
  },
  {
   "cell_type": "markdown",
   "id": "c2579552",
   "metadata": {},
   "source": [
    "#### 2. Write a Python program that uses the `map()` function to apply a function to each element of a list."
   ]
  },
  {
   "cell_type": "code",
   "execution_count": 2,
   "id": "741e877b",
   "metadata": {},
   "outputs": [
    {
     "data": {
      "text/plain": [
       "[2, 4, 6, 8, 10, 12, 14, 16, 18]"
      ]
     },
     "execution_count": 2,
     "metadata": {},
     "output_type": "execute_result"
    }
   ],
   "source": [
    "def multiply(a):\n",
    "    return a *2\n",
    "\n",
    "lst = list(map(multiply, range(1, 10)))\n",
    "\n",
    "lst"
   ]
  },
  {
   "cell_type": "markdown",
   "id": "0bc72d59",
   "metadata": {},
   "source": [
    "#### 3. How does the `filter()` function work in Python, and when would you use it?"
   ]
  },
  {
   "cell_type": "code",
   "execution_count": 4,
   "id": "b949d340",
   "metadata": {},
   "outputs": [
    {
     "data": {
      "text/plain": [
       "[2, 4, 6, 8, 10]"
      ]
     },
     "execution_count": 4,
     "metadata": {},
     "output_type": "execute_result"
    }
   ],
   "source": [
    "def is_even(num):\n",
    "    return num % 2 == 0\n",
    "\n",
    "numbers = [1, 2, 3, 4, 5, 6, 7, 8, 9, 10]\n",
    "\n",
    "even_numbers = list(filter(is_even, numbers))\n",
    "\n",
    "even_numbers"
   ]
  },
  {
   "cell_type": "markdown",
   "id": "4095ea51",
   "metadata": {},
   "source": [
    "#### 4. Create a Python program that uses the `reduce()` function to find the product of all elements in a list."
   ]
  },
  {
   "cell_type": "code",
   "execution_count": 6,
   "id": "71544d9b",
   "metadata": {},
   "outputs": [
    {
     "data": {
      "text/plain": [
       "120"
      ]
     },
     "execution_count": 6,
     "metadata": {},
     "output_type": "execute_result"
    }
   ],
   "source": [
    "from functools import reduce\n",
    "\n",
    "def multiply(x, y):\n",
    "    return x * y\n",
    "\n",
    "numbers = [1, 2, 3, 4, 5]\n",
    "\n",
    "product = reduce(multiply, numbers)\n",
    "\n",
    "product"
   ]
  },
  {
   "cell_type": "markdown",
   "id": "8e41f1fa",
   "metadata": {},
   "source": [
    "### Function Documentation and Best Practices:\n",
    "\n"
   ]
  },
  {
   "cell_type": "markdown",
   "id": "b7be4f29",
   "metadata": {},
   "source": [
    "#### 1. Explain the purpose of docstrings in Python functions and how to write them."
   ]
  },
  {
   "cell_type": "markdown",
   "id": "05cb2ddb",
   "metadata": {},
   "source": [
    "* Docstrings in Python serve as inline documentation, explaining the purpose, usage, and parameters of functions, modules, classes, and methods. \n",
    "\n",
    "* They enhance code readability and assist users in understanding how to interact with the code effectively."
   ]
  },
  {
   "cell_type": "code",
   "execution_count": 7,
   "id": "661ba3f8",
   "metadata": {},
   "outputs": [],
   "source": [
    "def square(x):\n",
    "    \"\"\"\n",
    "    Returns the square of a number.\n",
    "\n",
    "    Argument:\n",
    "        x (int): The number to be squared.\n",
    "\n",
    "    Returns:\n",
    "        int: The square of the input number.\n",
    "    \"\"\"\n",
    "    return x ** 2"
   ]
  },
  {
   "cell_type": "code",
   "execution_count": 10,
   "id": "e99e5e35",
   "metadata": {},
   "outputs": [
    {
     "data": {
      "text/plain": [
       "81"
      ]
     },
     "execution_count": 10,
     "metadata": {},
     "output_type": "execute_result"
    }
   ],
   "source": [
    "square(9)"
   ]
  },
  {
   "cell_type": "markdown",
   "id": "5aff4387",
   "metadata": {},
   "source": [
    "#### 2. Describe some best practices for naming functions and variables in python, including naming conventions and guidelines"
   ]
  },
  {
   "cell_type": "markdown",
   "id": "4168192b",
   "metadata": {},
   "source": [
    "* Functions and variables should have names that clearly convey their purpose or what they represent. Avoid using vague or generic names like temp or data.\n",
    "\n",
    "* Use lowercase letters and underscores (_) to separate words in function and variable names. For example, calculate_average, user_input, total_count.\n",
    "\n",
    "* Do not use Python's reserved keywords (like if, for, while, etc.) as names for functions or variables. This can cause syntax errors.\n",
    "\n",
    "* Maintain a consistent naming style throughout your codebase. If you use a certain convention for one variable or function, stick to it. This helps in making your code more predictable and readable.\n",
    "\n",
    "* Functions should have names that reflect their purpose or the action they perform. For example, if a function calculates the area of a circle, a good name would be calculate_circle_area."
   ]
  },
  {
   "cell_type": "code",
   "execution_count": null,
   "id": "4752c37f",
   "metadata": {},
   "outputs": [],
   "source": []
  }
 ],
 "metadata": {
  "kernelspec": {
   "display_name": "Python 3 (ipykernel)",
   "language": "python",
   "name": "python3"
  },
  "language_info": {
   "codemirror_mode": {
    "name": "ipython",
    "version": 3
   },
   "file_extension": ".py",
   "mimetype": "text/x-python",
   "name": "python",
   "nbconvert_exporter": "python",
   "pygments_lexer": "ipython3",
   "version": "3.9.13"
  }
 },
 "nbformat": 4,
 "nbformat_minor": 5
}

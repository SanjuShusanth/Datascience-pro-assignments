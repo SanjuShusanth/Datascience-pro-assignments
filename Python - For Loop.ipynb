{
 "cells": [
  {
   "cell_type": "markdown",
   "id": "3681795e",
   "metadata": {},
   "source": [
    "### Basic Level:"
   ]
  },
  {
   "cell_type": "markdown",
   "id": "65a950de",
   "metadata": {},
   "source": [
    "#### 1. Write a Python program to print the numbers from 1 to 10 using a `for` loop."
   ]
  },
  {
   "cell_type": "code",
   "execution_count": 1,
   "id": "f1a957d4",
   "metadata": {},
   "outputs": [
    {
     "name": "stdout",
     "output_type": "stream",
     "text": [
      "1\n",
      "2\n",
      "3\n",
      "4\n",
      "5\n",
      "6\n",
      "7\n",
      "8\n",
      "9\n",
      "10\n"
     ]
    }
   ],
   "source": [
    "for i in range(1,11):\n",
    "    print(i)"
   ]
  },
  {
   "cell_type": "markdown",
   "id": "820df400",
   "metadata": {},
   "source": [
    "#### 2. Create a program that calculates the sum of all numbers in a list using a `for` loop."
   ]
  },
  {
   "cell_type": "code",
   "execution_count": 3,
   "id": "7c765fc5",
   "metadata": {},
   "outputs": [
    {
     "name": "stdout",
     "output_type": "stream",
     "text": [
      "36\n"
     ]
    }
   ],
   "source": [
    "lst = [1,2,3,4,5,6,7,8]\n",
    "\n",
    "sum_all = 0\n",
    "\n",
    "for i in lst:\n",
    "    sum_all += i\n",
    "print(sum_all)"
   ]
  },
  {
   "cell_type": "markdown",
   "id": "aa933bb9",
   "metadata": {},
   "source": [
    "#### 3. Write a program to print the characters of a string in reverse order using a `for` loop."
   ]
  },
  {
   "cell_type": "code",
   "execution_count": 5,
   "id": "6173494f",
   "metadata": {},
   "outputs": [
    {
     "name": "stdout",
     "output_type": "stream",
     "text": [
      "ujnas"
     ]
    }
   ],
   "source": [
    "string = 'sanju'\n",
    "\n",
    "for i in string[::-1]:\n",
    "    print(i, end='')\n",
    "    "
   ]
  },
  {
   "cell_type": "markdown",
   "id": "b82ab632",
   "metadata": {},
   "source": [
    "#### 4. Develop a program that finds the factorial of a given number using a `for` loop."
   ]
  },
  {
   "cell_type": "code",
   "execution_count": 31,
   "id": "2955d9f1",
   "metadata": {},
   "outputs": [],
   "source": [
    "def factorial(n):\n",
    "    new = 1\n",
    "    for i in range(1,n+1):\n",
    "        new  *= i\n",
    "    return new"
   ]
  },
  {
   "cell_type": "code",
   "execution_count": 32,
   "id": "47b6d836",
   "metadata": {},
   "outputs": [
    {
     "data": {
      "text/plain": [
       "24"
      ]
     },
     "execution_count": 32,
     "metadata": {},
     "output_type": "execute_result"
    }
   ],
   "source": [
    "factorial(4)"
   ]
  },
  {
   "cell_type": "markdown",
   "id": "cac01333",
   "metadata": {},
   "source": [
    "#### 5. Create a program to print the multiplication table of a given number using a `for` loop."
   ]
  },
  {
   "cell_type": "code",
   "execution_count": 38,
   "id": "41275d75",
   "metadata": {},
   "outputs": [],
   "source": [
    "def table(n):\n",
    "    for i in range(1,11):\n",
    "        print(i*n)"
   ]
  },
  {
   "cell_type": "code",
   "execution_count": 39,
   "id": "ff57319c",
   "metadata": {},
   "outputs": [
    {
     "name": "stdout",
     "output_type": "stream",
     "text": [
      "12\n",
      "24\n",
      "36\n",
      "48\n",
      "60\n",
      "72\n",
      "84\n",
      "96\n",
      "108\n",
      "120\n"
     ]
    }
   ],
   "source": [
    "table(12)"
   ]
  },
  {
   "cell_type": "markdown",
   "id": "8c5291c4",
   "metadata": {},
   "source": [
    "#### 6. Write a program that counts the number of even and odd numbers in a list using a `for` loop."
   ]
  },
  {
   "cell_type": "code",
   "execution_count": 41,
   "id": "2f8b2029",
   "metadata": {},
   "outputs": [
    {
     "name": "stdout",
     "output_type": "stream",
     "text": [
      "Even Numbers: [2, 4, 6, 8, 10]\n",
      "Odd Numbers: [1, 3, 5, 7, 9]\n"
     ]
    }
   ],
   "source": [
    "lst = [1,2,3,4,5,6,7,8,9,10]\n",
    "\n",
    "even_number = []\n",
    "\n",
    "odd_number = []\n",
    "\n",
    "for i in lst:\n",
    "    if i % 2 == 0:\n",
    "        even_number.append(i)\n",
    "    else:\n",
    "        odd_number.append(i)\n",
    "print('Even Numbers:', even_number)\n",
    "\n",
    "print('Odd Numbers:', odd_number)"
   ]
  },
  {
   "cell_type": "markdown",
   "id": "fbcec0d8",
   "metadata": {},
   "source": [
    "#### 7. Develop a program that prints the squares of numbers from 1 to 5 using a `for` loop."
   ]
  },
  {
   "cell_type": "code",
   "execution_count": 50,
   "id": "ab6251f5",
   "metadata": {},
   "outputs": [
    {
     "name": "stdout",
     "output_type": "stream",
     "text": [
      "[1, 4, 9, 16, 25]\n"
     ]
    }
   ],
   "source": [
    "lst =[]\n",
    "for i in range(1,6):\n",
    "    lst.append(i**2)\n",
    "    \n",
    "print(lst)"
   ]
  },
  {
   "cell_type": "markdown",
   "id": "9e9e7243",
   "metadata": {},
   "source": [
    "#### 8. Create a program to find the length of a string without using the `len()` function. "
   ]
  },
  {
   "cell_type": "code",
   "execution_count": 52,
   "id": "7981c32b",
   "metadata": {},
   "outputs": [
    {
     "name": "stdout",
     "output_type": "stream",
     "text": [
      "5\n"
     ]
    }
   ],
   "source": [
    "string = 'sanju'\n",
    "\n",
    "count = 0\n",
    "\n",
    "for i in range(1,len(string)+1):\n",
    "    count +=1\n",
    "    \n",
    "print(count)"
   ]
  },
  {
   "cell_type": "markdown",
   "id": "29c0854e",
   "metadata": {},
   "source": [
    "#### 9. Write a program that calculates the average of a list of numbers using a `for` loop."
   ]
  },
  {
   "cell_type": "code",
   "execution_count": 58,
   "id": "9d62fac6",
   "metadata": {},
   "outputs": [
    {
     "name": "stdout",
     "output_type": "stream",
     "text": [
      "3.0\n"
     ]
    }
   ],
   "source": [
    "lst =[1,2,3,4,5]\n",
    "\n",
    "sum_of_number = 0\n",
    "\n",
    "for i in lst:\n",
    "    sum_of_number = sum_of_number+i\n",
    "    \n",
    "average = sum_of_number/len(lst)\n",
    "    \n",
    "print(average)"
   ]
  },
  {
   "cell_type": "markdown",
   "id": "7d58afc8",
   "metadata": {},
   "source": [
    "#### 10. Develop a program that prints the first `n` Fibonacci numbers using a `for` loop."
   ]
  },
  {
   "cell_type": "code",
   "execution_count": 60,
   "id": "fd4eb89c",
   "metadata": {},
   "outputs": [],
   "source": [
    "def fibonacci(n):\n",
    "    fibo = [0,1]\n",
    "    for i in range(2,n+1):\n",
    "        next_fibo = fibo[i-1] + fibo[i-2]\n",
    "        fibo.append(next_fibo)\n",
    "    return fibo"
   ]
  },
  {
   "cell_type": "code",
   "execution_count": 61,
   "id": "cc0ec55b",
   "metadata": {},
   "outputs": [
    {
     "data": {
      "text/plain": [
       "[0, 1, 1, 2, 3, 5]"
      ]
     },
     "execution_count": 61,
     "metadata": {},
     "output_type": "execute_result"
    }
   ],
   "source": [
    "fibonacci(5)"
   ]
  },
  {
   "cell_type": "markdown",
   "id": "e4af7b3f",
   "metadata": {},
   "source": [
    "#### Intermediate Level:\n"
   ]
  },
  {
   "cell_type": "markdown",
   "id": "8b0a43c2",
   "metadata": {},
   "source": [
    "#### 11. Write a program to check if a given list contains any duplicates using a `for` loop."
   ]
  },
  {
   "cell_type": "code",
   "execution_count": 25,
   "id": "70b8a075",
   "metadata": {},
   "outputs": [
    {
     "name": "stdout",
     "output_type": "stream",
     "text": [
      "There is no duplicate values in the list\n"
     ]
    }
   ],
   "source": [
    "lst = [1,2,3,4,5,6,7]\n",
    "\n",
    "new = set()\n",
    "\n",
    "for i in lst:\n",
    "    if i in new:\n",
    "        print('The list contains duplicate values')\n",
    "        break\n",
    "    new.add(i)\n",
    "\n",
    "else:\n",
    "    print('There is no duplicate values in the list')"
   ]
  },
  {
   "cell_type": "markdown",
   "id": "5555fcdc",
   "metadata": {},
   "source": [
    "#### 12. Create a program that prints the prime numbers in a given range using a `for` loop."
   ]
  },
  {
   "cell_type": "code",
   "execution_count": 37,
   "id": "14fa69f0",
   "metadata": {},
   "outputs": [
    {
     "name": "stdout",
     "output_type": "stream",
     "text": [
      "[2, 3, 5, 7, 11, 13, 17, 19, 23, 29]\n"
     ]
    }
   ],
   "source": [
    "def prime_no(num):\n",
    "    if num < 2:\n",
    "        return False\n",
    "    for i in range(2,int(num**0.5)+1):\n",
    "        if num%i == 0:\n",
    "            return False\n",
    "    return True\n",
    "\n",
    "prime_number = [num for num in range(2,30) if prime_no(num)]\n",
    "\n",
    "print(prime_number)"
   ]
  },
  {
   "cell_type": "markdown",
   "id": "c0f8e65a",
   "metadata": {},
   "source": [
    "#### 13. Develop a program that counts the number of vowels in a string using a `for` loop."
   ]
  },
  {
   "cell_type": "code",
   "execution_count": 41,
   "id": "010e5d92",
   "metadata": {},
   "outputs": [
    {
     "name": "stdout",
     "output_type": "stream",
     "text": [
      "8\n"
     ]
    }
   ],
   "source": [
    "string = 'sanju is a ml engineer'\n",
    "\n",
    "vowels = 'AEIOUaeiou'\n",
    "\n",
    "count = 0\n",
    "\n",
    "for i in string:\n",
    "    if i in vowels:\n",
    "        count+=1\n",
    "print(count)"
   ]
  },
  {
   "cell_type": "markdown",
   "id": "1d3d7f3a",
   "metadata": {},
   "source": [
    "#### 14. Write a program to find the maximum element in a 2D list using a nested `for` loop."
   ]
  },
  {
   "cell_type": "code",
   "execution_count": 52,
   "id": "5411be39",
   "metadata": {},
   "outputs": [
    {
     "name": "stdout",
     "output_type": "stream",
     "text": [
      "87\n"
     ]
    }
   ],
   "source": [
    "lst = [[10,33,12,45,75,2,56,78,23,87]]\n",
    "\n",
    "maximum = max([j for i in lst for j in i])\n",
    "\n",
    "print(maximum)"
   ]
  },
  {
   "cell_type": "markdown",
   "id": "ccdb8400",
   "metadata": {},
   "source": [
    "#### 15. Create a program that removes all occurrences of a specific element from a list using a `for` loop."
   ]
  },
  {
   "cell_type": "code",
   "execution_count": 62,
   "id": "4434253b",
   "metadata": {},
   "outputs": [
    {
     "name": "stdout",
     "output_type": "stream",
     "text": [
      "[2, 3, 4, 5, 6, 7, 8]\n"
     ]
    }
   ],
   "source": [
    "lst = [1,2,3,4,5,6,1,7,8,1]\n",
    "\n",
    "element = 1\n",
    "\n",
    "for i in lst:\n",
    "    updated_lst = list(filter((element).__ne__, lst))\n",
    "print(updated_lst)"
   ]
  },
  {
   "cell_type": "markdown",
   "id": "5816feab",
   "metadata": {},
   "source": [
    "#### 16. Develop a program that generates a multiplication table for numbers from 1 to 5 using a nested `for` loop."
   ]
  },
  {
   "cell_type": "code",
   "execution_count": 9,
   "id": "9e09847e",
   "metadata": {},
   "outputs": [
    {
     "name": "stdout",
     "output_type": "stream",
     "text": [
      "1\t2\t3\t4\t5\t\n",
      "2\t4\t6\t8\t10\t\n",
      "3\t6\t9\t12\t15\t\n",
      "4\t8\t12\t16\t20\t\n",
      "5\t10\t15\t20\t25\t\n"
     ]
    }
   ],
   "source": [
    "for i in range(1,6):\n",
    "    for j in range(1,6):\n",
    "        print(i*j, end='\\t')\n",
    "    print()"
   ]
  },
  {
   "cell_type": "markdown",
   "id": "515d812b",
   "metadata": {},
   "source": [
    "#### 17. Write a program that converts a list of Fahrenheit temperatures to Celsius using a `for` loop."
   ]
  },
  {
   "cell_type": "code",
   "execution_count": 11,
   "id": "2e2aba05",
   "metadata": {},
   "outputs": [
    {
     "name": "stdout",
     "output_type": "stream",
     "text": [
      "[0.56, 6.67, 13.33, 25.0, 31.11, 37.22]\n"
     ]
    }
   ],
   "source": [
    "lst_Fahrenheit= [33,44,56,77,88,99]\n",
    "\n",
    "lst_Celsius = []\n",
    "\n",
    "for i in lst_Fahrenheit:\n",
    "    lst_Celsius.append(round((i-32)*5/9,2))\n",
    "    \n",
    "print(lst_Celsius)"
   ]
  },
  {
   "cell_type": "markdown",
   "id": "3ca94510",
   "metadata": {},
   "source": [
    "#### 18. Create a program to print the common elements from two lists using a `for` loop."
   ]
  },
  {
   "cell_type": "code",
   "execution_count": 17,
   "id": "08821971",
   "metadata": {},
   "outputs": [
    {
     "name": "stdout",
     "output_type": "stream",
     "text": [
      "is\ta\tML\tEngineer\t"
     ]
    }
   ],
   "source": [
    "lst1 = ['sanju', 'is', 'a', 'ML', 'Engineer']\n",
    "\n",
    "lst2 = ['He', 'is', 'desired', 'to', 'become', 'a', 'ML', 'Engineer']\n",
    "\n",
    "for i in lst1:\n",
    "    if i in lst2:\n",
    "        print(i, end='\\t')"
   ]
  },
  {
   "cell_type": "markdown",
   "id": "4bbcc586",
   "metadata": {},
   "source": [
    "#### 19. Develop a program that prints the pattern of right-angled triangles using a `for` loop. Use ‘*’ to draw the pattern\n"
   ]
  },
  {
   "cell_type": "code",
   "execution_count": 8,
   "id": "2c284d54",
   "metadata": {},
   "outputs": [
    {
     "name": "stdout",
     "output_type": "stream",
     "text": [
      "                  *\n",
      "                **\n",
      "              ***\n",
      "            ****\n",
      "          *****\n",
      "        ******\n",
      "      *******\n",
      "    ********\n",
      "  *********\n"
     ]
    }
   ],
   "source": [
    "for i in range(1,10):\n",
    "    print('  '*(10-i) + '*'*i)"
   ]
  },
  {
   "cell_type": "markdown",
   "id": "f23af614",
   "metadata": {},
   "source": [
    "#### 20. Write a program to find the greatest common divisor (GCD) of two numbers using a `for` loop."
   ]
  },
  {
   "cell_type": "code",
   "execution_count": 30,
   "id": "617623ae",
   "metadata": {},
   "outputs": [
    {
     "name": "stdout",
     "output_type": "stream",
     "text": [
      "The GCD of 10 and 50 is 10\n"
     ]
    }
   ],
   "source": [
    "Factors_10 = []\n",
    "\n",
    "Factors_50 = []\n",
    "\n",
    "GCD = []\n",
    "\n",
    "for i in range(1,50):\n",
    "        if 10 % i == 0:\n",
    "            Factors_10.append(i) \n",
    "        if 50 % i == 0:\n",
    "            Factors_50.append(i)\n",
    "            \n",
    "for i in Factors_10:\n",
    "    if i in Factors_50:\n",
    "        GCD.append(i)\n",
    "        \n",
    "print(f'The GCD of 10 and 50 is {max(GCD)}')"
   ]
  },
  {
   "cell_type": "markdown",
   "id": "b667c3be",
   "metadata": {},
   "source": [
    "### Advanced Level:"
   ]
  },
  {
   "cell_type": "markdown",
   "id": "bf04353c",
   "metadata": {},
   "source": [
    "#### 21. Create a program that calculates the sum of the digits of numbers in a list using a list comprehension."
   ]
  },
  {
   "cell_type": "code",
   "execution_count": 11,
   "id": "b8a0919f",
   "metadata": {},
   "outputs": [
    {
     "name": "stdout",
     "output_type": "stream",
     "text": [
      "105\n"
     ]
    }
   ],
   "source": [
    "sum_of_digits = sum([i for i in range(1,15)])\n",
    "\n",
    "print(sum_of_digits)"
   ]
  },
  {
   "cell_type": "markdown",
   "id": "5c35788d",
   "metadata": {},
   "source": [
    "#### 22. Write a program to find the prime factors of a given number using a `for` loop and list comprehension."
   ]
  },
  {
   "cell_type": "code",
   "execution_count": 17,
   "id": "2831092a",
   "metadata": {},
   "outputs": [],
   "source": [
    "def prime_factors(n):\n",
    "    for i in range(1, n+1):\n",
    "        if n % i == 0:\n",
    "            flag =0\n",
    "            for j in range(2,i):\n",
    "                if i%j == 0:\n",
    "                    flag = 1\n",
    "                    break\n",
    "            if flag == 0:\n",
    "                print(i, end=' ')"
   ]
  },
  {
   "cell_type": "code",
   "execution_count": 20,
   "id": "421d3e69",
   "metadata": {},
   "outputs": [
    {
     "name": "stdout",
     "output_type": "stream",
     "text": [
      "1 3 11 "
     ]
    }
   ],
   "source": [
    "prime_factors(99)"
   ]
  },
  {
   "cell_type": "markdown",
   "id": "76f4066b",
   "metadata": {},
   "source": [
    "#### 23. Develop a program that extracts unique elements from a list and stores them in a new list using a list comprehension."
   ]
  },
  {
   "cell_type": "code",
   "execution_count": 16,
   "id": "02179401",
   "metadata": {},
   "outputs": [
    {
     "name": "stdout",
     "output_type": "stream",
     "text": [
      "[4, 6, 8]\n"
     ]
    }
   ],
   "source": [
    "lst = [1,1,3,3,4,5,5,5,6,7,7,7,7,8]\n",
    "\n",
    "elements = [i for i in lst if lst.count(i) == 1]\n",
    "\n",
    "print(elements)"
   ]
  },
  {
   "cell_type": "markdown",
   "id": "709a6eab",
   "metadata": {},
   "source": [
    "#### 24. Create a program that generates a list of all palindromic numbers up to a specified limit using a list comprehension.\n"
   ]
  },
  {
   "cell_type": "code",
   "execution_count": 26,
   "id": "5289c80a",
   "metadata": {},
   "outputs": [
    {
     "name": "stdout",
     "output_type": "stream",
     "text": [
      "[1, 2, 3, 4, 5, 6, 7, 8, 9, 11, 22, 33, 44, 55, 66, 77, 88, 99]\n"
     ]
    }
   ],
   "source": [
    "def palindrome(number):\n",
    "    return str(number) == str(number)[::-1]\n",
    "\n",
    "specific_limit = 100\n",
    "\n",
    "palidromic_numbers =[i for i in range(1, specific_limit+1) if palindrome(i)]\n",
    "\n",
    "print(palidromic_numbers)"
   ]
  },
  {
   "cell_type": "markdown",
   "id": "6b3f4980",
   "metadata": {},
   "source": [
    "#### 25. Write a program to flatten a nested list using list comprehension."
   ]
  },
  {
   "cell_type": "code",
   "execution_count": 29,
   "id": "4a93e89d",
   "metadata": {},
   "outputs": [
    {
     "name": "stdout",
     "output_type": "stream",
     "text": [
      "[1, 2, 3, 4, 5, 6, 7, 8, 9]\n"
     ]
    }
   ],
   "source": [
    "lst = [[1,2,3],[4,5,6],[7,8,9]]\n",
    "\n",
    "flatten_lst = [j for i in lst for j in i]\n",
    "\n",
    "print(flatten_lst)"
   ]
  },
  {
   "cell_type": "markdown",
   "id": "ce4d1d6e",
   "metadata": {},
   "source": [
    "#### 26. Develop a program that computes the sum of even and odd numbers in a list separately using list comprehension."
   ]
  },
  {
   "cell_type": "code",
   "execution_count": 40,
   "id": "0034c438",
   "metadata": {},
   "outputs": [
    {
     "name": "stdout",
     "output_type": "stream",
     "text": [
      "The even numbers [2, 4, 6, 8, 10]  and \tThe odd numbers [1, 3, 5, 7, 9]\n"
     ]
    }
   ],
   "source": [
    "even_numbers = [i for i in range(1,11) if i % 2 == 0]\n",
    "\n",
    "odd_numbers =[i for i in range(1,11) if i %2 != 0]\n",
    "\n",
    "print(f'The even numbers {even_numbers}  and \\tThe odd numbers {odd_numbers}')"
   ]
  },
  {
   "cell_type": "markdown",
   "id": "927f10ac",
   "metadata": {},
   "source": [
    "#### 27. Create a program that generates a list of squares of odd numbers between 1 and 10 using list comprehension."
   ]
  },
  {
   "cell_type": "code",
   "execution_count": 42,
   "id": "afef37c7",
   "metadata": {},
   "outputs": [
    {
     "name": "stdout",
     "output_type": "stream",
     "text": [
      "[1, 9, 25, 49, 81]\n"
     ]
    }
   ],
   "source": [
    "squares = [i**2 for i in range(1,11) if i % 2 != 0]\n",
    "\n",
    "print(squares)"
   ]
  },
  {
   "cell_type": "markdown",
   "id": "ad100dd1",
   "metadata": {},
   "source": [
    "#### 28. Write a program that combines two lists into a dictionary using list comprehension. "
   ]
  },
  {
   "cell_type": "code",
   "execution_count": 51,
   "id": "f8fa7f07",
   "metadata": {},
   "outputs": [
    {
     "name": "stdout",
     "output_type": "stream",
     "text": [
      "[(1, 4), (2, 5), (3, 6)]\n"
     ]
    }
   ],
   "source": [
    "lst1 = [1,2,3]\n",
    "lst2 = [4,5,6]\n",
    "\n",
    "new = [(i,j) for i, j in zip(lst1, lst2)]\n",
    "            \n",
    "print(new)"
   ]
  },
  {
   "cell_type": "markdown",
   "id": "4cbb5067",
   "metadata": {},
   "source": [
    "#### 29. Develop a program that extracts the vowels from a string and stores them in a list using list comprehension."
   ]
  },
  {
   "cell_type": "code",
   "execution_count": 59,
   "id": "89691933",
   "metadata": {},
   "outputs": [
    {
     "name": "stdout",
     "output_type": "stream",
     "text": [
      "['a', 'u', 'i', 'a', 'e', 'i', 'e', 'e']\n"
     ]
    }
   ],
   "source": [
    "string = 'sanju is a ml engineer'\n",
    "\n",
    "vowels = 'AEIOUaeiou'\n",
    "\n",
    "extract_vowels = [i for i in string if i in vowels]\n",
    "\n",
    "print(extract_vowels)"
   ]
  },
  {
   "cell_type": "markdown",
   "id": "b7351c8e",
   "metadata": {},
   "source": [
    "#### 30. Create a program that removes all non-numeric characters from a list of strings using list comprehension."
   ]
  },
  {
   "cell_type": "code",
   "execution_count": 68,
   "id": "21818534",
   "metadata": {},
   "outputs": [
    {
     "name": "stdout",
     "output_type": "stream",
     "text": [
      "['s', 'a', 'n', 'j', 'u', 'r', 'a', 'v', 'i', 'r', 'a', 'h', 'u', 'l']\n"
     ]
    }
   ],
   "source": [
    "strings = ['sanju123', 'ravi1897', '9012rahul']\n",
    "\n",
    "Non_numeric = [j for i in strings for j in i if not j.isnumeric()]\n",
    "\n",
    "print(Non_numeric)"
   ]
  },
  {
   "cell_type": "markdown",
   "id": "2229c064",
   "metadata": {},
   "source": [
    "### Challenge Level:"
   ]
  },
  {
   "cell_type": "markdown",
   "id": "797c9cac",
   "metadata": {},
   "source": [
    "#### 31. Write a program to generate a list of prime numbers using the Sieve of Eratosthenes algorithm and list comprehension."
   ]
  },
  {
   "cell_type": "code",
   "execution_count": 6,
   "id": "7d02aaac",
   "metadata": {},
   "outputs": [
    {
     "name": "stdout",
     "output_type": "stream",
     "text": [
      "[2, 3, 5, 7, 11, 13, 17, 19, 23, 29, 31, 37, 41, 43, 47]\n"
     ]
    }
   ],
   "source": [
    "def prime(n):\n",
    "    if n <2:\n",
    "        return False\n",
    "    for i in range(2, int(n**0.5) +1):\n",
    "        if n % i == 0:\n",
    "            return False\n",
    "    return True\n",
    "\n",
    "size = 50\n",
    "\n",
    "prime_numbers = [i for i in range(2, size+1) if prime(i)]\n",
    "\n",
    "print(prime_numbers)"
   ]
  },
  {
   "cell_type": "markdown",
   "id": "c5f81d4f",
   "metadata": {},
   "source": [
    "#### 32. Create a program that generates a list of all Pythagorean triplets up to a specified limit using list comprehension."
   ]
  },
  {
   "cell_type": "code",
   "execution_count": 21,
   "id": "68c14fb8",
   "metadata": {},
   "outputs": [
    {
     "name": "stdout",
     "output_type": "stream",
     "text": [
      "[(1, 1, 1), (1, 2, 2), (2, 2, 2)]\n"
     ]
    }
   ],
   "source": [
    "def find_pythagorean_triplets(limit):\n",
    "    triplets = [(a, b, int((a**2 + b**2)**0.5)) for a in range(1, limit+1) for b in range(a, limit+1) if (a**2 + b**2)**0.5 <= limit and (a**2 + b**2)**0.5.is_integer()]\n",
    "    return triplets\n",
    "\n",
    "limit = 3\n",
    "triplets = find_pythagorean_triplets(limit)\n",
    "print(triplets)\n"
   ]
  },
  {
   "cell_type": "markdown",
   "id": "ed03e51c",
   "metadata": {},
   "source": [
    "#### 33. Develop a program that generates a list of all possible combinations of two lists using list comprehension."
   ]
  },
  {
   "cell_type": "code",
   "execution_count": 36,
   "id": "7fb8d88f",
   "metadata": {},
   "outputs": [
    {
     "name": "stdout",
     "output_type": "stream",
     "text": [
      "[(1, '-'), (1, '*'), (2, '-'), (2, '*'), (3, '-'), (3, '*')]\n"
     ]
    }
   ],
   "source": [
    "lst1 = [1,2,3]\n",
    "\n",
    "lst2 = ['-', '*']\n",
    "        \n",
    "possible_combinations = [(i, j) for i in lst1 for j in lst2]\n",
    "    \n",
    "print(possible_combinations)"
   ]
  },
  {
   "cell_type": "markdown",
   "id": "a4b74493",
   "metadata": {},
   "source": [
    "#### 34. Write a program that calculates the mean, median, and mode of a list of numbers using list comprehension."
   ]
  },
  {
   "cell_type": "code",
   "execution_count": 41,
   "id": "7f49a07b",
   "metadata": {},
   "outputs": [],
   "source": [
    "import statistics as st"
   ]
  },
  {
   "cell_type": "code",
   "execution_count": 43,
   "id": "e3d9ca46",
   "metadata": {},
   "outputs": [
    {
     "name": "stdout",
     "output_type": "stream",
     "text": [
      "5.5\n",
      "[5.5]\n",
      "1\n"
     ]
    }
   ],
   "source": [
    "lst = [1,2,3,4,5,6,7,8,9,10]\n",
    "\n",
    "mean = sum([i for i in lst])/len(lst)\n",
    "\n",
    "sorted_lst = sorted(lst)\n",
    "\n",
    "midpoint = len(sorted_lst)//2\n",
    "\n",
    "median = [(sorted_lst[midpoint -1] + sorted_lst[midpoint])/2 if len(lst) % 2 == 0 else sorted_lst[mid]]\n",
    "\n",
    "mode = st.mode(lst)\n",
    "\n",
    "print(mean)\n",
    "\n",
    "print(median)\n",
    "\n",
    "print(mode)"
   ]
  },
  {
   "cell_type": "markdown",
   "id": "918e7f13",
   "metadata": {},
   "source": [
    "#### 35. Create a program that generates Pascal's triangle up to a specified number of rows using list comprehension."
   ]
  },
  {
   "cell_type": "code",
   "execution_count": 47,
   "id": "9573ad71",
   "metadata": {},
   "outputs": [
    {
     "name": "stdout",
     "output_type": "stream",
     "text": [
      "      1      \n",
      "     1 1     \n",
      "    1 2 1    \n",
      "   1 3 3 1   \n",
      "  1 4 6 4 1  \n",
      "1 5 10 10 5 1\n"
     ]
    }
   ],
   "source": [
    "def pascals_triangle(n):\n",
    "    triangle = [[1]]\n",
    "    for i in range(1, n):\n",
    "        row = [1]\n",
    "        for j in range(1, i):\n",
    "            row.append(triangle[i-1][j-1] + triangle[i-1][j])\n",
    "        row.append(1)\n",
    "        triangle.append(row)\n",
    "    return triangle\n",
    "\n",
    "def triangle(triangle):\n",
    "    max_width = len(' '.join(map(str, triangle[-1])))\n",
    "    for row in triangle:\n",
    "        print(' '.join(map(str, row)).center(max_width))\n",
    "\n",
    "num_rows = 6\n",
    "pascals_triangle = pascals_triangle(num_rows)\n",
    "triangle(pascals_triangle)\n"
   ]
  },
  {
   "cell_type": "markdown",
   "id": "99480d13",
   "metadata": {},
   "source": [
    "#### 36. Develop a program that calculates the sum of the digits of a factorial of numbers from 1 to 5 using list comprehension."
   ]
  },
  {
   "cell_type": "code",
   "execution_count": 48,
   "id": "baef0e0e",
   "metadata": {},
   "outputs": [
    {
     "name": "stdout",
     "output_type": "stream",
     "text": [
      "[1, 2, 6, 6, 3]\n"
     ]
    }
   ],
   "source": [
    "def factorial(n):\n",
    "    if n == 0 or n == 1:\n",
    "        return 1\n",
    "    else:\n",
    "        return n * factorial(n-1)\n",
    "\n",
    "def sum_of_digits(num):\n",
    "    return sum(int(i) for i in str(num))\n",
    "\n",
    "factorials_sum_digits = [sum_of_digits(factorial(i)) for i in range(1, 6)]\n",
    "\n",
    "print(factorials_sum_digits)"
   ]
  },
  {
   "cell_type": "markdown",
   "id": "d2187d0d",
   "metadata": {},
   "source": [
    "#### 37. Write a program that finds the longest word in a sentence using list comprehension."
   ]
  },
  {
   "cell_type": "code",
   "execution_count": 58,
   "id": "62221e30",
   "metadata": {},
   "outputs": [
    {
     "name": "stdout",
     "output_type": "stream",
     "text": [
      "engineer\n"
     ]
    }
   ],
   "source": [
    "string = 'sanju is a ml engineer'\n",
    "\n",
    "longest_word = max([i for i in string.split( )], key=len)\n",
    "\n",
    "print(longest_word)"
   ]
  },
  {
   "cell_type": "markdown",
   "id": "ecfc4202",
   "metadata": {},
   "source": [
    "#### 38. Create a program that filters a list of strings to include only those with more than three vowels using list comprehension."
   ]
  },
  {
   "cell_type": "code",
   "execution_count": 66,
   "id": "675a9718",
   "metadata": {},
   "outputs": [
    {
     "name": "stdout",
     "output_type": "stream",
     "text": [
      "['engineer']\n"
     ]
    }
   ],
   "source": [
    "def count_vowels(word):\n",
    "    return sum(1 for i in word if i.lower() in 'aeiou')\n",
    "\n",
    "def filter_strings(lst):\n",
    "    return [word for word in lst if count_vowels(word) > 3]\n",
    "\n",
    "words = ['sanju', 'is', 'a', 'machine', 'learning', 'engineer']\n",
    "filtered_words = filter_strings(words)\n",
    "\n",
    "print(filtered_words)"
   ]
  },
  {
   "cell_type": "markdown",
   "id": "98566746",
   "metadata": {},
   "source": [
    "#### 39. Develop a program that calculates the sum of the digits of numbers from 1 to 1000 using list comprehension."
   ]
  },
  {
   "cell_type": "code",
   "execution_count": 68,
   "id": "9324586c",
   "metadata": {},
   "outputs": [
    {
     "name": "stdout",
     "output_type": "stream",
     "text": [
      "500500\n"
     ]
    }
   ],
   "source": [
    "sum_of_digits = sum([i for i in range(1,1001)])\n",
    "\n",
    "print(sum_of_digits)"
   ]
  },
  {
   "cell_type": "markdown",
   "id": "22468b7d",
   "metadata": {},
   "source": [
    "#### 40. Write a program that generates a list of prime palindromic numbers using list comprehension"
   ]
  },
  {
   "cell_type": "code",
   "execution_count": 73,
   "id": "19b08b95",
   "metadata": {},
   "outputs": [
    {
     "name": "stdout",
     "output_type": "stream",
     "text": [
      "[2, 3, 5, 7, 11]\n"
     ]
    }
   ],
   "source": [
    "def prime(n):\n",
    "    if n < 2:\n",
    "        return False\n",
    "    for i in range(2,int(n**0.5) +1):\n",
    "        if n%i == 0:\n",
    "            return False\n",
    "    return True\n",
    "\n",
    "def palindrome(n):\n",
    "    return str(n) == str(n)[::-1]\n",
    "\n",
    "prime_palindome = [i for i in range(2,100) if prime(i) and palindrome(i)]\n",
    "\n",
    "print(prime_palindome)"
   ]
  },
  {
   "cell_type": "code",
   "execution_count": null,
   "id": "fbd56f8c",
   "metadata": {},
   "outputs": [],
   "source": []
  }
 ],
 "metadata": {
  "kernelspec": {
   "display_name": "Python 3 (ipykernel)",
   "language": "python",
   "name": "python3"
  },
  "language_info": {
   "codemirror_mode": {
    "name": "ipython",
    "version": 3
   },
   "file_extension": ".py",
   "mimetype": "text/x-python",
   "name": "python",
   "nbconvert_exporter": "python",
   "pygments_lexer": "ipython3",
   "version": "3.9.13"
  }
 },
 "nbformat": 4,
 "nbformat_minor": 5
}

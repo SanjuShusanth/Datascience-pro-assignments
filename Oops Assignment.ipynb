{
 "cells": [
  {
   "cell_type": "markdown",
   "id": "705827f8",
   "metadata": {},
   "source": [
    "1. Bank Account Create a class representing a bank account with attributes like account number, account holder name, and balance. Implement methods to deposit and withdraw money from the account."
   ]
  },
  {
   "cell_type": "code",
   "execution_count": 57,
   "id": "f2156c66",
   "metadata": {},
   "outputs": [],
   "source": [
    "class Bank_account():\n",
    "    \n",
    "    def __init__(self, acc_name, acc_holder, balance):\n",
    "        self.acc_name = acc_name\n",
    "        self.acc_holder = acc_holder\n",
    "        self.balance = balance\n",
    "        \n",
    "    def display_details(self):\n",
    "        print('Account name: ', self.acc_name)\n",
    "        print('Account Holder: ', self.acc_holder)\n",
    "        print('Balance: ', self.balance)\n",
    "    \n",
    "    def deposit(self, amount=0):\n",
    "        if amount<0:\n",
    "            raise ValueError('Please enter the Non negative number')\n",
    "        self.balance += amount\n",
    "        \n",
    "    def withdraw(self, amount):\n",
    "        if amount > self.balance:\n",
    "            raise ValueError('Insufficient funds')\n",
    "        else:\n",
    "            self.balance -= amount\n",
    "    \n",
    "    def get_balance(self):\n",
    "        return self.balance"
   ]
  },
  {
   "cell_type": "code",
   "execution_count": 64,
   "id": "3a5f2aba",
   "metadata": {},
   "outputs": [],
   "source": [
    "Customer_1 = Bank_account('current', 'sanju', 45000)"
   ]
  },
  {
   "cell_type": "code",
   "execution_count": 65,
   "id": "8df3021a",
   "metadata": {},
   "outputs": [],
   "source": [
    "Customer_1.deposit(5000)"
   ]
  },
  {
   "cell_type": "code",
   "execution_count": 66,
   "id": "cdfb943d",
   "metadata": {},
   "outputs": [],
   "source": [
    "Customer_1.withdraw(3000)"
   ]
  },
  {
   "cell_type": "code",
   "execution_count": 67,
   "id": "76686025",
   "metadata": {},
   "outputs": [
    {
     "data": {
      "text/plain": [
       "47000"
      ]
     },
     "execution_count": 67,
     "metadata": {},
     "output_type": "execute_result"
    }
   ],
   "source": [
    "Customer_1.get_balance()"
   ]
  },
  {
   "cell_type": "markdown",
   "id": "f7f7c3f6",
   "metadata": {},
   "source": [
    "2. Employee Management Create a class representing an employee with attributes like employee ID, name, and salary. Implement methods to calculate the yearly bonus and display employee details."
   ]
  },
  {
   "cell_type": "code",
   "execution_count": 79,
   "id": "3c93eb80",
   "metadata": {},
   "outputs": [],
   "source": [
    "class Employee_Management():\n",
    "    \n",
    "    def __init__(self, employee_id, name, salary):\n",
    "        self.employee_id = employee_id\n",
    "        self.name = name\n",
    "        self.salary = salary\n",
    "        self.bonus = 0\n",
    "        \n",
    "    def yearly_bonus(self):\n",
    "        self.bonus = self.salary * 20/100\n",
    "        self.salary += self.bonus\n",
    "        \n",
    "    def display_details(self):\n",
    "        print('Employer ID: ', self.employee_id)\n",
    "        print('Name: ', self.name)\n",
    "        print('Salary', self.salary)\n",
    "        print('Bonus', self.bonus)"
   ]
  },
  {
   "cell_type": "code",
   "execution_count": 80,
   "id": "81e492ea",
   "metadata": {},
   "outputs": [],
   "source": [
    "Customer_1= Employee_Management(456, 'Sanju', 50000)"
   ]
  },
  {
   "cell_type": "code",
   "execution_count": 82,
   "id": "4e792994",
   "metadata": {},
   "outputs": [],
   "source": [
    "Customer_1.yearly_bonus()"
   ]
  },
  {
   "cell_type": "code",
   "execution_count": 83,
   "id": "600fb17b",
   "metadata": {},
   "outputs": [
    {
     "name": "stdout",
     "output_type": "stream",
     "text": [
      "Employer ID:  456\n",
      "Name:  Sanju\n",
      "Salary 60000.0\n",
      "Bonus 10000.0\n"
     ]
    }
   ],
   "source": [
    "Customer_1.display_details()"
   ]
  },
  {
   "cell_type": "markdown",
   "id": "54847fa4",
   "metadata": {},
   "source": [
    "3. Vehicle Rental Create a class representing a vehicle rental system. Implement methods to rent a vehicle, return a vehicle, and display available vehicles."
   ]
  },
  {
   "cell_type": "code",
   "execution_count": 36,
   "id": "f2ba53d5",
   "metadata": {},
   "outputs": [],
   "source": [
    "class Vehicle_rental():\n",
    "    \n",
    "    def __init__(self):\n",
    "        self.vehicle = []\n",
    "        \n",
    "    def rent_vehicle(self, vehicle):\n",
    "        if vehicle in self.vehicle:\n",
    "            self.vehicle.remove(vehicle)\n",
    "            print(f'{vehicle} has been rented')\n",
    "        else:\n",
    "            print(f'{vehicle} is available for rent')\n",
    "    \n",
    "    def return_vehicle(self, vehicle):\n",
    "        self.vehicle.append(vehicle)\n",
    "        print(f'{vehicle} has returned')\n",
    "    \n",
    "    def display_vehicle(self):\n",
    "        if self.vehicle:\n",
    "            print('Available Vehicle: ')\n",
    "            for vehicle in self.vehicle:\n",
    "                print(vehicle)\n",
    "        else:\n",
    "            print('No vehicles for rent')"
   ]
  },
  {
   "cell_type": "code",
   "execution_count": 37,
   "id": "474fff98",
   "metadata": {},
   "outputs": [],
   "source": [
    "rent1 = Vehicle_rental()"
   ]
  },
  {
   "cell_type": "code",
   "execution_count": 38,
   "id": "052d68dc",
   "metadata": {},
   "outputs": [],
   "source": [
    "rent1.vehicle.extend(['Scross', 'Swift', 'SUV', 'Yamaha Bike', 'Van', 'Scooter'])"
   ]
  },
  {
   "cell_type": "code",
   "execution_count": 39,
   "id": "27d3d7d8",
   "metadata": {},
   "outputs": [
    {
     "name": "stdout",
     "output_type": "stream",
     "text": [
      "Available Vehicle: \n",
      "Scross\n",
      "Swift\n",
      "SUV\n",
      "Yamaha Bike\n",
      "Van\n",
      "Scooter\n"
     ]
    }
   ],
   "source": [
    "rent1.display_vehicle()"
   ]
  },
  {
   "cell_type": "code",
   "execution_count": 40,
   "id": "e3dfddaf",
   "metadata": {},
   "outputs": [
    {
     "name": "stdout",
     "output_type": "stream",
     "text": [
      "Scross has been rented\n"
     ]
    }
   ],
   "source": [
    "rent1.rent_vehicle('Scross')"
   ]
  },
  {
   "cell_type": "code",
   "execution_count": 41,
   "id": "1c54d862",
   "metadata": {},
   "outputs": [
    {
     "name": "stdout",
     "output_type": "stream",
     "text": [
      "Available Vehicle: \n",
      "Swift\n",
      "SUV\n",
      "Yamaha Bike\n",
      "Van\n",
      "Scooter\n"
     ]
    }
   ],
   "source": [
    "rent1.display_vehicle()"
   ]
  },
  {
   "cell_type": "code",
   "execution_count": 42,
   "id": "77517453",
   "metadata": {},
   "outputs": [
    {
     "name": "stdout",
     "output_type": "stream",
     "text": [
      "Swift has been rented\n"
     ]
    }
   ],
   "source": [
    "rent1.rent_vehicle('Swift')"
   ]
  },
  {
   "cell_type": "code",
   "execution_count": 43,
   "id": "122b9fef",
   "metadata": {},
   "outputs": [
    {
     "name": "stdout",
     "output_type": "stream",
     "text": [
      "Scross has returned\n"
     ]
    }
   ],
   "source": [
    "rent1.return_vehicle('Scross')"
   ]
  },
  {
   "cell_type": "code",
   "execution_count": 44,
   "id": "8bfdf0b0",
   "metadata": {},
   "outputs": [
    {
     "name": "stdout",
     "output_type": "stream",
     "text": [
      "Available Vehicle: \n",
      "SUV\n",
      "Yamaha Bike\n",
      "Van\n",
      "Scooter\n",
      "Scross\n"
     ]
    }
   ],
   "source": [
    "rent1.display_vehicle()"
   ]
  },
  {
   "cell_type": "markdown",
   "id": "6a8f79a7",
   "metadata": {},
   "source": [
    "4. Library Catalog Create classes representing a library and a book. Implement methods to add books to the library, borrow books, and display available books."
   ]
  },
  {
   "cell_type": "code",
   "execution_count": 2,
   "id": "15a6e9c6",
   "metadata": {},
   "outputs": [],
   "source": [
    "class library:\n",
    "    \n",
    "    def add_books(self, book):\n",
    "       self.available_books.extend(book)\n",
    "    \n",
    "    def borrow_books(self, book):\n",
    "        self.available_books.remove(book)\n",
    "        print(f'{book} has been borrowed')\n",
    "\n",
    "    def return_back(self, book):\n",
    "        if book not in self.available_books:\n",
    "            self.available_books.append(book)\n",
    "            print(f'{book} has been returned')\n",
    "\n",
    "            \n",
    "class Book(library):\n",
    "    \n",
    "    def __init__(self, Name, Age):\n",
    "        self.Name = Name\n",
    "        self.Age = Age\n",
    "        self.available_books = []\n",
    "    \n",
    "    def display_details(self):\n",
    "        print(\"Available Books: \", self.available_books)"
   ]
  },
  {
   "cell_type": "code",
   "execution_count": 3,
   "id": "3ea70721",
   "metadata": {},
   "outputs": [],
   "source": [
    "person1 = Book('Sanju', 18)"
   ]
  },
  {
   "cell_type": "code",
   "execution_count": 4,
   "id": "c5fdc753",
   "metadata": {},
   "outputs": [],
   "source": [
    "person1.add_books(['harry porter', 'little red riding hood', 'cindrella'])"
   ]
  },
  {
   "cell_type": "code",
   "execution_count": 5,
   "id": "61f9059c",
   "metadata": {},
   "outputs": [
    {
     "name": "stdout",
     "output_type": "stream",
     "text": [
      "Available Books:  ['harry porter', 'little red riding hood', 'cindrella']\n"
     ]
    }
   ],
   "source": [
    "person1.display_details()"
   ]
  },
  {
   "cell_type": "code",
   "execution_count": 6,
   "id": "67302f12",
   "metadata": {},
   "outputs": [
    {
     "name": "stdout",
     "output_type": "stream",
     "text": [
      "cindrella has been borrowed\n"
     ]
    }
   ],
   "source": [
    "person1.borrow_books('cindrella')"
   ]
  },
  {
   "cell_type": "code",
   "execution_count": 7,
   "id": "70b4236d",
   "metadata": {},
   "outputs": [
    {
     "name": "stdout",
     "output_type": "stream",
     "text": [
      "Available Books:  ['harry porter', 'little red riding hood']\n"
     ]
    }
   ],
   "source": [
    "person1.display_details()"
   ]
  },
  {
   "cell_type": "code",
   "execution_count": 8,
   "id": "62f77bdd",
   "metadata": {},
   "outputs": [
    {
     "name": "stdout",
     "output_type": "stream",
     "text": [
      "cindrella has been returned\n"
     ]
    }
   ],
   "source": [
    "person1.return_back('cindrella')"
   ]
  },
  {
   "cell_type": "code",
   "execution_count": 9,
   "id": "f64afd60",
   "metadata": {},
   "outputs": [
    {
     "name": "stdout",
     "output_type": "stream",
     "text": [
      "Available Books:  ['harry porter', 'little red riding hood', 'cindrella']\n"
     ]
    }
   ],
   "source": [
    "person1.display_details()"
   ]
  },
  {
   "cell_type": "markdown",
   "id": "093f3e6d",
   "metadata": {},
   "source": [
    "5. Product Inventory Create classes representing a product and an inventory system. Implement methods to add products to the inventory, update product quantity, and display available products."
   ]
  },
  {
   "cell_type": "code",
   "execution_count": 13,
   "id": "0082a2a7",
   "metadata": {},
   "outputs": [
    {
     "name": "stdout",
     "output_type": "stream",
     "text": [
      "Product: orange, Price: 50.0, Quantity: 10\n",
      "Product: banana, Price: 45.0, Quantity: 15\n",
      "Product: Apple, Price: 100.0, Quantity: 10\n",
      "Product: orange, Price: 50.0, Quantity: 15\n",
      "Product: banana, Price: 45.0, Quantity: 15\n",
      "Product: Apple, Price: 100.0, Quantity: 10\n"
     ]
    }
   ],
   "source": [
    "class Product:\n",
    "    def __init__(self, name, price, quantity):\n",
    "        self.name = name\n",
    "        self.price = price\n",
    "        self.quantity = quantity\n",
    "        \n",
    "    def update_quantity(self, new_quantity):\n",
    "        self.quantity = new_quantity\n",
    "        \n",
    "    def __str__(self):\n",
    "        return f\"Product: {self.name}, Price: {self.price}, Quantity: {self.quantity}\"\n",
    "        \n",
    "class Inventory:\n",
    "    \n",
    "    def __init__(self):\n",
    "        self.products = []\n",
    "    \n",
    "    def add_products(self, product):\n",
    "        self.products.append(product)\n",
    "        \n",
    "    def update_product_quantity(self, product_name, new_quantity):\n",
    "        for product in self.products:\n",
    "            if product.name==product_name:\n",
    "                product.update_quantity(new_quantity)\n",
    "                return True\n",
    "        return False\n",
    "    \n",
    "    def display_details(self):\n",
    "        if not self.products:\n",
    "            print(\"No products available.\")\n",
    "        else:\n",
    "            for product in self.products:\n",
    "                print(product)\n",
    "                \n",
    "C1 = Inventory()\n",
    "\n",
    "N1 = Product('orange', 50.00, 10)\n",
    "N2 = Product('banana', 45.00,15)\n",
    "N3 = Product('Apple', 100.00, 10)\n",
    "\n",
    "C1.add_products(N1)\n",
    "C1.add_products(N2)\n",
    "C1.add_products(N3)\n",
    "\n",
    "C1.display_details()\n",
    "\n",
    "C1.update_product_quantity('orange', 15)\n",
    "\n",
    "C1.display_details()"
   ]
  },
  {
   "cell_type": "markdown",
   "id": "0cc78a37",
   "metadata": {},
   "source": [
    "6. Shape Calculation Create a class representing a shape with attributes like length, width, and height. Implement methods to calculate the area and perimeter of the shape."
   ]
  },
  {
   "cell_type": "code",
   "execution_count": 16,
   "id": "a251d370",
   "metadata": {},
   "outputs": [
    {
     "name": "stdout",
     "output_type": "stream",
     "text": [
      "Area of the rectangle: 40\n",
      "Perimeter of the rectangle: 26\n",
      "\n",
      "Area of the cuboid: 94\n",
      "Perimeter of the cuboid: 48\n"
     ]
    }
   ],
   "source": [
    "class Shape_calculation:\n",
    "    \n",
    "    def __init__(self, length, width, height=None):\n",
    "        self.length = length\n",
    "        self.width = width\n",
    "        self.height = height\n",
    "        \n",
    "    def Cal_area(self):\n",
    "        if self.height is None:\n",
    "            return self.length * self.width\n",
    "        else:\n",
    "            return 2 * (self.length * self.width + self.length * self.height + self.width * self.height)\n",
    "    \n",
    "    def perimeter(self):\n",
    "        if self.height is None:\n",
    "            return 2 * (self.length + self.width)\n",
    "        else:\n",
    "            return 4 * (self.length + self.width + self.height)\n",
    "\n",
    "rectangle = Shape_calculation(5, 8)\n",
    "print(\"Area of the rectangle:\", rectangle.Cal_area())\n",
    "print(\"Perimeter of the rectangle:\", rectangle.perimeter())\n",
    "\n",
    "# For a cuboid\n",
    "cuboid = Shape_calculation(3, 4, 5)\n",
    "print(\"\\nArea of the cuboid:\", cuboid.Cal_area())\n",
    "print(\"Perimeter of the cuboid:\", cuboid.perimeter())"
   ]
  },
  {
   "cell_type": "markdown",
   "id": "304c6078",
   "metadata": {},
   "source": [
    "7. Student Management Create a class representing a student with attributes like student ID, name, and grades. Implement methods to calculate the average grade and display student details."
   ]
  },
  {
   "cell_type": "code",
   "execution_count": 24,
   "id": "3842f513",
   "metadata": {},
   "outputs": [
    {
     "name": "stdout",
     "output_type": "stream",
     "text": [
      "Student ID: SSJ104\n",
      "Name: Sanju\n",
      "Grades: 89, 92, 83\n",
      "Average Grade: 88.00\n"
     ]
    }
   ],
   "source": [
    "class student_details:\n",
    "    def __init__(self, student_ID, name):\n",
    "        self.student_ID = student_ID\n",
    "        self.name = name\n",
    "        self.grade = []\n",
    "    \n",
    "    def add_grade(self, grade):\n",
    "        self.grade.append(grade)\n",
    "        \n",
    "    def calculate_average_grade(self):\n",
    "        if len(self.grade) == 0:\n",
    "            return None\n",
    "        return sum(self.grade) / len(self.grade)\n",
    "    \n",
    "    def display_details(self):\n",
    "        print(f\"Student ID: {self.student_ID}\")\n",
    "        print(f\"Name: {self.name}\")\n",
    "        print(f\"Grades: {', '.join(map(str, self.grade))}\")\n",
    "        average_grade = self.calculate_average_grade()\n",
    "        if average_grade is not None:\n",
    "            print(f\"Average Grade: {average_grade:.2f}\")\n",
    "        else:\n",
    "            print(\"No grades available.\")\n",
    "\n",
    "Student = student_details('SSJ104', 'Sanju') \n",
    "\n",
    "Student.add_grade(89)\n",
    "Student.add_grade(92)\n",
    "Student.add_grade(83)\n",
    "\n",
    "Student.display_details()"
   ]
  },
  {
   "cell_type": "markdown",
   "id": "2387dffc",
   "metadata": {},
   "source": [
    "8. Email Management Create a class representing an email with attributes like sender, recipient, and subject. Implement methods to send an email and display email details."
   ]
  },
  {
   "cell_type": "code",
   "execution_count": 26,
   "id": "db97c406",
   "metadata": {},
   "outputs": [
    {
     "name": "stdout",
     "output_type": "stream",
     "text": [
      "Sender: sanju@gmail.com\n",
      "Recipient: shusanth@gmail.com\n",
      "Subject: Meeting Details\n",
      "Status: Email has not been sent\n",
      "Email sent from sanju@gmail.com to shusanth@gmail.com with subject 'Meeting Details'\n",
      "Sender: sanju@gmail.com\n",
      "Recipient: shusanth@gmail.com\n",
      "Subject: Meeting Details\n",
      "Status: Email has been sent\n"
     ]
    }
   ],
   "source": [
    "class Email:\n",
    "    def __init__(self, sender, recipient, subject):\n",
    "        self.sender = sender\n",
    "        self.recipient = recipient\n",
    "        self.subject = subject\n",
    "        self.is_sent = False\n",
    "\n",
    "    def send_email(self):\n",
    "        print(f\"Email sent from {self.sender} to {self.recipient} with subject '{self.subject}'\")\n",
    "        self.is_sent = True\n",
    "\n",
    "    def display_details(self):\n",
    "        print(f\"Sender: {self.sender}\")\n",
    "        print(f\"Recipient: {self.recipient}\")\n",
    "        print(f\"Subject: {self.subject}\")\n",
    "        if self.is_sent:\n",
    "            print(\"Status: Email has been sent\")\n",
    "        else:\n",
    "            print(\"Status: Email has not been sent\")\n",
    "\n",
    "\n",
    "\n",
    "email1 = Email(\"sanju@gmail.com\", \"shusanth@gmail.com\", \"Meeting Details\")\n",
    "\n",
    "\n",
    "email1.display_details()\n",
    "\n",
    "\n",
    "email1.send_email()\n",
    "\n",
    "\n",
    "email1.display_details()\n"
   ]
  },
  {
   "cell_type": "markdown",
   "id": "39bad736",
   "metadata": {},
   "source": [
    "9. Social Media Profile Create a class representing a social media profile with attributes like username and posts. Implement methods to add posts, display posts, and search for posts by keyword."
   ]
  },
  {
   "cell_type": "code",
   "execution_count": 62,
   "id": "6d149d93",
   "metadata": {},
   "outputs": [
    {
     "name": "stdout",
     "output_type": "stream",
     "text": [
      "Posts for user Sanju:\n",
      "Post 1: Enjoying the beech\n",
      "Post 2: Sundays special is chicken\n"
     ]
    },
    {
     "data": {
      "text/plain": [
       "'Sundays special is chicken'"
      ]
     },
     "execution_count": 62,
     "metadata": {},
     "output_type": "execute_result"
    }
   ],
   "source": [
    "class social_media:\n",
    "    def __init__(self, username):\n",
    "        self.username = username\n",
    "        self.posts = []\n",
    "        \n",
    "    def add_posts(self, content):\n",
    "        self.posts.append(content)\n",
    "        \n",
    "    def display_posts(self):\n",
    "        if not self.posts:\n",
    "            print(f\"No posts available for user {self.username}.\")\n",
    "        else:\n",
    "            print(f\"Posts for user {self.username}:\")\n",
    "            for index, post in enumerate(self.posts, start=1):\n",
    "                print(f\"Post {index}: {post}\")\n",
    "    \n",
    "    def search_posts(self, keyword):\n",
    "        matching_post = ''.join([post for post in self.posts if keyword.lower() in post.lower()])\n",
    "        return matching_post\n",
    "    \n",
    "s1 = social_media('Sanju')\n",
    "\n",
    "s1.add_posts('Enjoying the beech')\n",
    "s1.add_posts('Sundays special is chicken')\n",
    "s1.display_posts()\n",
    "s1.search_posts('Chicken')"
   ]
  },
  {
   "cell_type": "markdown",
   "id": "02fa71e4",
   "metadata": {},
   "source": [
    "10. ToDo List Create a class representing a ToDo list with attributes like tasks and due dates. Implement methods to add tasks, mark tasks as completed, and display pending tasks."
   ]
  },
  {
   "cell_type": "code",
   "execution_count": 23,
   "id": "20a893bf",
   "metadata": {},
   "outputs": [
    {
     "name": "stdout",
     "output_type": "stream",
     "text": [
      "Tasks in ToDo list:\n",
      "['Writing', 'Reading']\n",
      "Due Dates:\n",
      "['2023-01-01', '2023-05-15']\n",
      "Task 'Writing' not found in ToDo list.\n",
      "No completed tasks.\n"
     ]
    }
   ],
   "source": [
    "class ToDo:\n",
    "    \n",
    "    def __init__(self):\n",
    "        self.tasks = []\n",
    "        self.due_date =[]\n",
    "        \n",
    "    def add_tasks(self, task, due):\n",
    "        self.tasks.append(task)\n",
    "        self.due_date.append(due)\n",
    "        \n",
    "    def display_task_details(self):\n",
    "        print(f'Tasks: ', self.tasks)\n",
    "        print(f'Due Date: ', self.due_date)\n",
    "\n",
    "class Completed_Task(ToDo):\n",
    "    def __init__(self):\n",
    "        super().__init__()\n",
    "        self.completed_tasks = []\n",
    "        \n",
    "    def complete_task(self, task):\n",
    "        if task in self.tasks:\n",
    "            self.tasks.remove(task)\n",
    "            self.complete_task.append(task)\n",
    "        else:\n",
    "            print(f\"Task '{task}' not found in ToDo list.\")\n",
    "            \n",
    "    def display_completed_tasks(self):\n",
    "        if not self.completed_tasks:\n",
    "            print(\"No completed tasks.\")\n",
    "        else:\n",
    "            print(\"Completed Tasks:\")\n",
    "            for task in self.completed_tasks:\n",
    "                print(task)\n",
    "            \n",
    "todo_list = ToDo()\n",
    "\n",
    "todo_list.add_tasks('Writing', '2023-01-01')\n",
    "todo_list.add_tasks('Reading', '2023-05-15')\n",
    "\n",
    "print(\"Tasks in ToDo list:\")\n",
    "print(todo_list.tasks)\n",
    "print(\"Due Dates:\")\n",
    "print(todo_list.due_date)\n",
    "\n",
    "completed = Completed_Task()\n",
    "\n",
    "completed.complete_task('Writing')\n",
    "\n",
    "completed.display_completed_tasks()\n",
    "        "
   ]
  },
  {
   "cell_type": "code",
   "execution_count": null,
   "id": "9aec48f4",
   "metadata": {},
   "outputs": [],
   "source": []
  },
  {
   "cell_type": "code",
   "execution_count": null,
   "id": "b11747cc",
   "metadata": {},
   "outputs": [],
   "source": []
  }
 ],
 "metadata": {
  "kernelspec": {
   "display_name": "Python 3 (ipykernel)",
   "language": "python",
   "name": "python3"
  },
  "language_info": {
   "codemirror_mode": {
    "name": "ipython",
    "version": 3
   },
   "file_extension": ".py",
   "mimetype": "text/x-python",
   "name": "python",
   "nbconvert_exporter": "python",
   "pygments_lexer": "ipython3",
   "version": "3.9.13"
  }
 },
 "nbformat": 4,
 "nbformat_minor": 5
}

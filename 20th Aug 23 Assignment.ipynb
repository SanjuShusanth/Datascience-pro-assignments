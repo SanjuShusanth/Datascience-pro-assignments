{
 "cells": [
  {
   "cell_type": "markdown",
   "id": "79201963",
   "metadata": {},
   "source": [
    "#### 1. Write a program to reverse a string."
   ]
  },
  {
   "cell_type": "code",
   "execution_count": 1,
   "id": "943ef583",
   "metadata": {},
   "outputs": [],
   "source": [
    "string = 'sanju is ml engineer'"
   ]
  },
  {
   "cell_type": "code",
   "execution_count": 6,
   "id": "3b520740",
   "metadata": {},
   "outputs": [
    {
     "data": {
      "text/plain": [
       "'reenigne lm si ujnas'"
      ]
     },
     "execution_count": 6,
     "metadata": {},
     "output_type": "execute_result"
    }
   ],
   "source": [
    "string[::-1]"
   ]
  },
  {
   "cell_type": "markdown",
   "id": "46dbb9bc",
   "metadata": {},
   "source": [
    "#### 2. Check if a string is a palindrome."
   ]
  },
  {
   "cell_type": "code",
   "execution_count": 7,
   "id": "d33c11dd",
   "metadata": {},
   "outputs": [
    {
     "name": "stdout",
     "output_type": "stream",
     "text": [
      "It is a Palindrome\n"
     ]
    }
   ],
   "source": [
    "string = 'radar'\n",
    "\n",
    "if string[0:] == string[::-1]:\n",
    "    print('It is a Palindrome')\n",
    "else:\n",
    "    print('Not a Palindrome')"
   ]
  },
  {
   "cell_type": "markdown",
   "id": "5774ba1d",
   "metadata": {},
   "source": [
    "#### 3. Convert a string to uppercase."
   ]
  },
  {
   "cell_type": "code",
   "execution_count": 9,
   "id": "904d2498",
   "metadata": {},
   "outputs": [
    {
     "name": "stdout",
     "output_type": "stream",
     "text": [
      "SANJU IS A ML ENGINEER\n"
     ]
    }
   ],
   "source": [
    "string = 'sanju is a ml engineer'\n",
    "\n",
    "print(string.upper())"
   ]
  },
  {
   "cell_type": "markdown",
   "id": "97855796",
   "metadata": {},
   "source": [
    "#### 4. Convert a string to lowercase."
   ]
  },
  {
   "cell_type": "code",
   "execution_count": 10,
   "id": "d2756f38",
   "metadata": {},
   "outputs": [
    {
     "name": "stdout",
     "output_type": "stream",
     "text": [
      "sanju is a ml engineer\n"
     ]
    }
   ],
   "source": [
    "string = 'SANJU IS A ML ENGINEER'\n",
    "\n",
    "print(string.lower())"
   ]
  },
  {
   "cell_type": "markdown",
   "id": "e832206a",
   "metadata": {},
   "source": [
    "#### 5. Count the number of vowels in a string."
   ]
  },
  {
   "cell_type": "code",
   "execution_count": 11,
   "id": "ea00a43d",
   "metadata": {},
   "outputs": [
    {
     "name": "stdout",
     "output_type": "stream",
     "text": [
      "7\n"
     ]
    }
   ],
   "source": [
    "string = 'sanju is ml Engineer'\n",
    "\n",
    "vowels = 'aeiouAEIOU'\n",
    "\n",
    "count =0\n",
    "for i in string:\n",
    "    if i in vowels:\n",
    "        count+=1\n",
    "print(count)"
   ]
  },
  {
   "cell_type": "markdown",
   "id": "3ec33a4e",
   "metadata": {},
   "source": [
    "#### 6. Count the number of consonants in a string."
   ]
  },
  {
   "cell_type": "code",
   "execution_count": 20,
   "id": "2e7612e4",
   "metadata": {},
   "outputs": [
    {
     "name": "stdout",
     "output_type": "stream",
     "text": [
      "10\n"
     ]
    }
   ],
   "source": [
    "string = 'sanju is ml Engineer'\n",
    "\n",
    "vowels = 'aeiouAEIOU '\n",
    "\n",
    "count =0\n",
    "for i in string:\n",
    "    if i not in vowels:\n",
    "        count+=1\n",
    "print(count)"
   ]
  },
  {
   "cell_type": "markdown",
   "id": "9bf48fd8",
   "metadata": {},
   "source": [
    "#### 7. Remove all whitespaces from a string."
   ]
  },
  {
   "cell_type": "code",
   "execution_count": 35,
   "id": "ca7bcd5b",
   "metadata": {},
   "outputs": [
    {
     "data": {
      "text/plain": [
       "'sanjuismlEngineer'"
      ]
     },
     "execution_count": 35,
     "metadata": {},
     "output_type": "execute_result"
    }
   ],
   "source": [
    "string = 'sanju is ml Engineer'\n",
    "\n",
    "string.replace(' ','')"
   ]
  },
  {
   "cell_type": "markdown",
   "id": "d65af924",
   "metadata": {},
   "source": [
    "#### 8. Find the length of a string without using the `len()` function."
   ]
  },
  {
   "cell_type": "code",
   "execution_count": 47,
   "id": "a8704277",
   "metadata": {},
   "outputs": [
    {
     "name": "stdout",
     "output_type": "stream",
     "text": [
      "20\n"
     ]
    }
   ],
   "source": [
    "string = 'sanju is ml Engineer'\n",
    "\n",
    "length = 0\n",
    "\n",
    "for i in string:\n",
    "    length += 1\n",
    "print(length)"
   ]
  },
  {
   "cell_type": "markdown",
   "id": "c5fff70b",
   "metadata": {},
   "source": [
    "#### 9. Check if a string contains a specific word."
   ]
  },
  {
   "cell_type": "code",
   "execution_count": 52,
   "id": "63d9eb7c",
   "metadata": {},
   "outputs": [
    {
     "name": "stdout",
     "output_type": "stream",
     "text": [
      "yes it contains\n"
     ]
    }
   ],
   "source": [
    "string = 'sanju is ml Engineer'\n",
    "word = 'Engi'\n",
    "\n",
    "if word in string:\n",
    "    print('yes it contains')\n",
    "else:\n",
    "    print('No it doesn\"t')"
   ]
  },
  {
   "cell_type": "markdown",
   "id": "1d52be75",
   "metadata": {},
   "source": [
    "#### 10. Replace a word in a string with another word."
   ]
  },
  {
   "cell_type": "code",
   "execution_count": 64,
   "id": "1b84ef43",
   "metadata": {},
   "outputs": [],
   "source": [
    "string = 'sanju is Software Engineer'"
   ]
  },
  {
   "cell_type": "code",
   "execution_count": 65,
   "id": "a84181df",
   "metadata": {},
   "outputs": [
    {
     "data": {
      "text/plain": [
       "'sanju is ML Engineer'"
      ]
     },
     "execution_count": 65,
     "metadata": {},
     "output_type": "execute_result"
    }
   ],
   "source": [
    "string.replace('Software Engineer', 'ML Engineer')"
   ]
  },
  {
   "cell_type": "markdown",
   "id": "7b42ddb1",
   "metadata": {},
   "source": [
    "#### 11. Count the occurrences of a word in a string."
   ]
  },
  {
   "cell_type": "code",
   "execution_count": 6,
   "id": "3faaedf6",
   "metadata": {},
   "outputs": [
    {
     "data": {
      "text/plain": [
       "2"
      ]
     },
     "execution_count": 6,
     "metadata": {},
     "output_type": "execute_result"
    }
   ],
   "source": [
    "string = 'Sanju is learning ML courses, he is more ambitious to become a ML Engineer '\n",
    "\n",
    "word = 'is'\n",
    "\n",
    "string.count(word)"
   ]
  },
  {
   "cell_type": "markdown",
   "id": "ecf797b4",
   "metadata": {},
   "source": [
    "#### 12. Find the first occurrence of a word in a string."
   ]
  },
  {
   "cell_type": "code",
   "execution_count": 16,
   "id": "eeceecdd",
   "metadata": {},
   "outputs": [
    {
     "data": {
      "text/plain": [
       "18"
      ]
     },
     "execution_count": 16,
     "metadata": {},
     "output_type": "execute_result"
    }
   ],
   "source": [
    "string = 'Sanju is learning ML courses, he is more ambitious to become a ML Engineer '\n",
    "\n",
    "string.find('ML')"
   ]
  },
  {
   "cell_type": "markdown",
   "id": "684cfbce",
   "metadata": {},
   "source": [
    "#### 13. Find the last occurrence of a word in a string. "
   ]
  },
  {
   "cell_type": "code",
   "execution_count": 17,
   "id": "22c5397e",
   "metadata": {},
   "outputs": [
    {
     "data": {
      "text/plain": [
       "66"
      ]
     },
     "execution_count": 17,
     "metadata": {},
     "output_type": "execute_result"
    }
   ],
   "source": [
    "string = 'Sanju is learning ML courses, he is more ambitious to become a ML Engineer '\n",
    "\n",
    "string.rindex('ML')"
   ]
  },
  {
   "cell_type": "markdown",
   "id": "50866c26",
   "metadata": {},
   "source": [
    "#### 14. Split a string into a list of words."
   ]
  },
  {
   "cell_type": "code",
   "execution_count": 19,
   "id": "cca9ea07",
   "metadata": {},
   "outputs": [
    {
     "data": {
      "text/plain": [
       "['Sanju',\n",
       " 'is',\n",
       " 'learning',\n",
       " 'ML',\n",
       " 'courses,',\n",
       " 'he',\n",
       " 'is',\n",
       " 'more',\n",
       " 'ambitious',\n",
       " 'to',\n",
       " 'become',\n",
       " 'a',\n",
       " 'ML',\n",
       " 'Engineer']"
      ]
     },
     "execution_count": 19,
     "metadata": {},
     "output_type": "execute_result"
    }
   ],
   "source": [
    "string = 'Sanju is learning ML courses, he is more ambitious to become a ML Engineer '\n",
    "\n",
    "string.split()"
   ]
  },
  {
   "cell_type": "markdown",
   "id": "847ad156",
   "metadata": {},
   "source": [
    "#### 15. Join a list of words into a string"
   ]
  },
  {
   "cell_type": "code",
   "execution_count": 28,
   "id": "e87e5d36",
   "metadata": {},
   "outputs": [
    {
     "data": {
      "text/plain": [
       "'sanju is ml Engineer'"
      ]
     },
     "execution_count": 28,
     "metadata": {},
     "output_type": "execute_result"
    }
   ],
   "source": [
    "string = ['sanju', 'is', 'ml' ,'Engineer']\n",
    "\n",
    "' '.join(string)"
   ]
  },
  {
   "cell_type": "markdown",
   "id": "c78e2ee1",
   "metadata": {},
   "source": [
    "#### 16. Convert a string where words are separated by spaces to one where words are separated by underscores."
   ]
  },
  {
   "cell_type": "code",
   "execution_count": 29,
   "id": "56d2dd69",
   "metadata": {},
   "outputs": [
    {
     "data": {
      "text/plain": [
       "'Sanju_is_learning_ML_courses,_he_is_more_ambitious_to_become_a_ML_Engineer_'"
      ]
     },
     "execution_count": 29,
     "metadata": {},
     "output_type": "execute_result"
    }
   ],
   "source": [
    "string = 'Sanju is learning ML courses, he is more ambitious to become a ML Engineer '\n",
    "\n",
    "string.replace(' ', '_')"
   ]
  },
  {
   "cell_type": "markdown",
   "id": "869b6e45",
   "metadata": {},
   "source": [
    "#### 17. Check if a string starts with a specific word or phrase."
   ]
  },
  {
   "cell_type": "code",
   "execution_count": 34,
   "id": "083914f3",
   "metadata": {},
   "outputs": [
    {
     "data": {
      "text/plain": [
       "True"
      ]
     },
     "execution_count": 34,
     "metadata": {},
     "output_type": "execute_result"
    }
   ],
   "source": [
    "string = 'Sanju is learning ML courses, he is more ambitious to become a ML Engineer '\n",
    "\n",
    "word = 'Sanju'\n",
    "\n",
    "string.startswith(word)"
   ]
  },
  {
   "cell_type": "markdown",
   "id": "923b7d72",
   "metadata": {},
   "source": [
    "#### 18. Check if a string ends with a specific word or phrase."
   ]
  },
  {
   "cell_type": "code",
   "execution_count": 36,
   "id": "3ccbb590",
   "metadata": {},
   "outputs": [
    {
     "data": {
      "text/plain": [
       "True"
      ]
     },
     "execution_count": 36,
     "metadata": {},
     "output_type": "execute_result"
    }
   ],
   "source": [
    "string = 'Sanju is learning ML courses, he is more ambitious to become a ML Engineer'\n",
    "\n",
    "word = 'Engineer'\n",
    "\n",
    "string.endswith(word)"
   ]
  },
  {
   "cell_type": "markdown",
   "id": "a0bb3fd1",
   "metadata": {},
   "source": [
    "#### 19. Convert a string to title case (e.g., \"hello world\" to \"Hello World\")."
   ]
  },
  {
   "cell_type": "code",
   "execution_count": 38,
   "id": "89c926d6",
   "metadata": {},
   "outputs": [
    {
     "data": {
      "text/plain": [
       "'Sanju Sakthivel'"
      ]
     },
     "execution_count": 38,
     "metadata": {},
     "output_type": "execute_result"
    }
   ],
   "source": [
    "string = 'sanju sakthivel'\n",
    "\n",
    "string.title()"
   ]
  },
  {
   "cell_type": "markdown",
   "id": "de8e9d07",
   "metadata": {},
   "source": [
    "#### 20. Find the longest word in a string.\n"
   ]
  },
  {
   "cell_type": "code",
   "execution_count": 58,
   "id": "980bc028",
   "metadata": {},
   "outputs": [
    {
     "name": "stdout",
     "output_type": "stream",
     "text": [
      "learning\n"
     ]
    }
   ],
   "source": [
    "string = 'Sanju is learning ML courses'\n",
    "a=string.split()\n",
    "print(max(a, key=len))"
   ]
  },
  {
   "cell_type": "markdown",
   "id": "7436dc9d",
   "metadata": {},
   "source": [
    "#### 21. Find the shortest word in a string."
   ]
  },
  {
   "cell_type": "code",
   "execution_count": 59,
   "id": "b07c8d70",
   "metadata": {},
   "outputs": [
    {
     "name": "stdout",
     "output_type": "stream",
     "text": [
      "is\n"
     ]
    }
   ],
   "source": [
    "string = 'Sanju is learning ML courses'\n",
    "\n",
    "a=string.split()\n",
    "\n",
    "print(min(a,key=len))"
   ]
  },
  {
   "cell_type": "markdown",
   "id": "528ee851",
   "metadata": {},
   "source": [
    "#### 22. Reverse the order of words in a string"
   ]
  },
  {
   "cell_type": "code",
   "execution_count": 82,
   "id": "82f95f2f",
   "metadata": {},
   "outputs": [
    {
     "name": "stdout",
     "output_type": "stream",
     "text": [
      "courses ML learning is Sanju\n"
     ]
    }
   ],
   "source": [
    "string = 'Sanju is learning ML courses'\n",
    "\n",
    "a= string.split()\n",
    "\n",
    "print(' '.join(a[::-1]))"
   ]
  },
  {
   "cell_type": "markdown",
   "id": "5d3491c4",
   "metadata": {},
   "source": [
    "#### 23. Check if a string is alphanumeric"
   ]
  },
  {
   "cell_type": "code",
   "execution_count": 103,
   "id": "3a20e82a",
   "metadata": {},
   "outputs": [
    {
     "name": "stdout",
     "output_type": "stream",
     "text": [
      "It is a Alpha numberic\n"
     ]
    }
   ],
   "source": [
    "string = '100max'\n",
    "\n",
    "if string.isalnum():\n",
    "    print('It is a Alpha numberic')\n",
    "else:\n",
    "    print('Not an Alpha numberic')"
   ]
  },
  {
   "cell_type": "markdown",
   "id": "c1187946",
   "metadata": {},
   "source": [
    "#### 24. Extract all digits from a string."
   ]
  },
  {
   "cell_type": "code",
   "execution_count": 2,
   "id": "780cdcde",
   "metadata": {},
   "outputs": [
    {
     "name": "stdout",
     "output_type": "stream",
     "text": [
      "789"
     ]
    }
   ],
   "source": [
    "string = 'S78n9ju'\n",
    "\n",
    "for i in string:\n",
    "    if i.isdigit():\n",
    "        print(i, end='')"
   ]
  },
  {
   "cell_type": "markdown",
   "id": "3e406d43",
   "metadata": {},
   "source": [
    "#### 25. Extract all alphabets from a string."
   ]
  },
  {
   "cell_type": "code",
   "execution_count": 3,
   "id": "c439b2ae",
   "metadata": {},
   "outputs": [
    {
     "name": "stdout",
     "output_type": "stream",
     "text": [
      "Sanju"
     ]
    }
   ],
   "source": [
    "string = 'S78an9ju'\n",
    "\n",
    "for i in string:\n",
    "    if i.isalpha():\n",
    "        print(i, end='')"
   ]
  },
  {
   "cell_type": "markdown",
   "id": "6e12ef85",
   "metadata": {},
   "source": [
    "#### 26. Count the number of uppercase letters in a string."
   ]
  },
  {
   "cell_type": "code",
   "execution_count": 111,
   "id": "b4997dec",
   "metadata": {},
   "outputs": [
    {
     "name": "stdout",
     "output_type": "stream",
     "text": [
      "1\n"
     ]
    }
   ],
   "source": [
    "string = 'Sanju'\n",
    "\n",
    "count =0 \n",
    "for i in string:\n",
    "    if i.isupper():\n",
    "        count+=1\n",
    "print(count)"
   ]
  },
  {
   "cell_type": "markdown",
   "id": "51bd6dbd",
   "metadata": {},
   "source": [
    "#### 27. Count the number of lowercase letters in a string.\n"
   ]
  },
  {
   "cell_type": "code",
   "execution_count": 112,
   "id": "5fc95746",
   "metadata": {},
   "outputs": [
    {
     "name": "stdout",
     "output_type": "stream",
     "text": [
      "4\n"
     ]
    }
   ],
   "source": [
    "string = 'Sanju'\n",
    "\n",
    "count =0 \n",
    "for i in string:\n",
    "    if i.islower():\n",
    "        count+=1\n",
    "print(count)"
   ]
  },
  {
   "cell_type": "markdown",
   "id": "46761f9f",
   "metadata": {},
   "source": [
    "#### 28. Swap the case of each character in a string."
   ]
  },
  {
   "cell_type": "code",
   "execution_count": 113,
   "id": "6308e480",
   "metadata": {},
   "outputs": [
    {
     "name": "stdout",
     "output_type": "stream",
     "text": [
      "sANJU\n"
     ]
    }
   ],
   "source": [
    "string = 'Sanju'\n",
    "\n",
    "print(string.swapcase())"
   ]
  },
  {
   "cell_type": "markdown",
   "id": "eb55346d",
   "metadata": {},
   "source": [
    "#### 29. Remove a specific word from a string.\n"
   ]
  },
  {
   "cell_type": "code",
   "execution_count": 118,
   "id": "be3aee39",
   "metadata": {},
   "outputs": [
    {
     "name": "stdout",
     "output_type": "stream",
     "text": [
      "Sanju is learning  courses\n"
     ]
    }
   ],
   "source": [
    "string = 'Sanju is learning ML courses'\n",
    "\n",
    "print(string.replace('ML', ''))"
   ]
  },
  {
   "cell_type": "markdown",
   "id": "03b3aa1e",
   "metadata": {},
   "source": [
    "#### 30. Check if a string is a valid email address."
   ]
  },
  {
   "cell_type": "code",
   "execution_count": 130,
   "id": "34e57f68",
   "metadata": {},
   "outputs": [
    {
     "name": "stdout",
     "output_type": "stream",
     "text": [
      "It is a valid email ID\n"
     ]
    }
   ],
   "source": [
    "email = 'sanjushusanth@gmail.com'\n",
    "\n",
    "if '@' and '.com' in email:\n",
    "    print('It is a valid email ID')\n",
    "else:\n",
    "    print('It is not a valid email ID')"
   ]
  },
  {
   "cell_type": "markdown",
   "id": "a33f27bf",
   "metadata": {},
   "source": [
    "#### 31. Extract the username from an email address string."
   ]
  },
  {
   "cell_type": "code",
   "execution_count": 5,
   "id": "901593dc",
   "metadata": {},
   "outputs": [
    {
     "name": "stdout",
     "output_type": "stream",
     "text": [
      "sanjushusanth"
     ]
    }
   ],
   "source": [
    "email = 'sanjushusanth@gmail.com'\n",
    "\n",
    "for i in email:\n",
    "    if i == '@':\n",
    "        break\n",
    "    print(i, end='')"
   ]
  },
  {
   "cell_type": "markdown",
   "id": "69929de6",
   "metadata": {},
   "source": [
    "#### 32. Extract the domain name from an email address string."
   ]
  },
  {
   "cell_type": "code",
   "execution_count": 27,
   "id": "b99c784d",
   "metadata": {},
   "outputs": [
    {
     "name": "stdout",
     "output_type": "stream",
     "text": [
      "gmail.com\n"
     ]
    }
   ],
   "source": [
    "email = 'sanjushusanth@gmail.com'\n",
    "\n",
    "print(email.split('@')[-1])"
   ]
  },
  {
   "cell_type": "markdown",
   "id": "aa3d31eb",
   "metadata": {},
   "source": [
    "#### 33. Replace multiple spaces in a string with a single space.\n"
   ]
  },
  {
   "cell_type": "code",
   "execution_count": 13,
   "id": "660c7073",
   "metadata": {},
   "outputs": [
    {
     "name": "stdout",
     "output_type": "stream",
     "text": [
      "Sanju is learning ML courses\n"
     ]
    }
   ],
   "source": [
    "string = 'Sanju                       is   learning                             ML   courses'\n",
    "\n",
    "new = ' '.join(string.split())\n",
    "\n",
    "print(new)"
   ]
  },
  {
   "cell_type": "markdown",
   "id": "b83f2da5",
   "metadata": {},
   "source": [
    "#### 34. Check if a string is a valid URL."
   ]
  },
  {
   "cell_type": "code",
   "execution_count": 20,
   "id": "e7e69a0c",
   "metadata": {},
   "outputs": [
    {
     "name": "stdout",
     "output_type": "stream",
     "text": [
      "It is valid URL\n"
     ]
    }
   ],
   "source": [
    "url = 'https://pwskills.com/'\n",
    "\n",
    "if (url.startswith('https://') or url.startswith('http://')) and url.endswith('.com/'):\n",
    "    print('It is valid URL')\n",
    "else:\n",
    "    print('It is not a valid URL')"
   ]
  },
  {
   "cell_type": "markdown",
   "id": "1208b9a1",
   "metadata": {},
   "source": [
    "#### 35. Extract the protocol (http or https) from a URL string."
   ]
  },
  {
   "cell_type": "code",
   "execution_count": 1,
   "id": "e4c94f98",
   "metadata": {},
   "outputs": [
    {
     "name": "stdout",
     "output_type": "stream",
     "text": [
      "https\n"
     ]
    }
   ],
   "source": [
    "url = 'https://pwskills.com/'\n",
    "\n",
    "url = 'https://pwskills.com/'\n",
    "\n",
    "print(url[:url.find(':')])"
   ]
  },
  {
   "cell_type": "markdown",
   "id": "9b4d3482",
   "metadata": {},
   "source": [
    "####  36. Find the frequency of each character in a string."
   ]
  },
  {
   "cell_type": "code",
   "execution_count": 4,
   "id": "af5fd274",
   "metadata": {},
   "outputs": [
    {
     "name": "stdout",
     "output_type": "stream",
     "text": [
      "{'s': 2, 'a': 1, 'n': 3, 'j': 1, 'u': 1, ' ': 3, 'i': 2, 'M': 1, 'L': 1, 'E': 1, 'g': 1, 'e': 2, 'r': 1}\n"
     ]
    }
   ],
   "source": [
    "charac = {}\n",
    "\n",
    "string = 'sanju is ML Engineer'\n",
    "\n",
    "for i in string:\n",
    "    if i in charac:\n",
    "        charac[i] +=1 \n",
    "    else:\n",
    "        charac[i] = 1\n",
    "print(charac)"
   ]
  },
  {
   "cell_type": "markdown",
   "id": "599412fa",
   "metadata": {},
   "source": [
    "#### 37. Remove all punctuation from a string."
   ]
  },
  {
   "cell_type": "code",
   "execution_count": 42,
   "id": "e570d46a",
   "metadata": {},
   "outputs": [],
   "source": [
    "import string"
   ]
  },
  {
   "cell_type": "code",
   "execution_count": 43,
   "id": "d1d61aec",
   "metadata": {},
   "outputs": [],
   "source": [
    "txt = 'Sanju, is. ML \"Engineer\" !'"
   ]
  },
  {
   "cell_type": "code",
   "execution_count": 46,
   "id": "be0a24be",
   "metadata": {},
   "outputs": [
    {
     "data": {
      "text/plain": [
       "'Sanju is ML Engineer '"
      ]
     },
     "execution_count": 46,
     "metadata": {},
     "output_type": "execute_result"
    }
   ],
   "source": [
    "txt.translate(str.maketrans('','',string.punctuation))"
   ]
  },
  {
   "cell_type": "markdown",
   "id": "b54895bb",
   "metadata": {},
   "source": [
    "#### 38. Check if a string contains only digits."
   ]
  },
  {
   "cell_type": "code",
   "execution_count": 16,
   "id": "f12e892d",
   "metadata": {},
   "outputs": [
    {
     "name": "stdout",
     "output_type": "stream",
     "text": [
      "No it doesnt\n"
     ]
    }
   ],
   "source": [
    "string = '4y76'\n",
    "\n",
    "if string.isdigit() == True:\n",
    "    print('It contains only digits')\n",
    "else:\n",
    "    print('No it doesnt')"
   ]
  },
  {
   "cell_type": "markdown",
   "id": "c97a0a8b",
   "metadata": {},
   "source": [
    "#### 39. Check if a string contains only alphabets."
   ]
  },
  {
   "cell_type": "code",
   "execution_count": 19,
   "id": "ec0d51f0",
   "metadata": {},
   "outputs": [
    {
     "name": "stdout",
     "output_type": "stream",
     "text": [
      "It contains only Alphabets\n"
     ]
    }
   ],
   "source": [
    "string = 'abcd'\n",
    "\n",
    "if string.isalpha() == True:\n",
    "    print('It contains only Alphabets')\n",
    "else:\n",
    "    print('No it doesnt')"
   ]
  },
  {
   "cell_type": "markdown",
   "id": "0c1b9721",
   "metadata": {},
   "source": [
    "#### 40. Convert a string to a list of characters."
   ]
  },
  {
   "cell_type": "code",
   "execution_count": 107,
   "id": "90cde7c4",
   "metadata": {},
   "outputs": [
    {
     "name": "stdout",
     "output_type": "stream",
     "text": [
      "['s', 'a', 'n', 'j', 'u', ' ', 'i', 's', ' ', 'M', 'L', ' ', 'E', 'n', 'g', 'i', 'n', 'e', 'e', 'r']"
     ]
    }
   ],
   "source": [
    "string = 'sanju is ML Engineer'\n",
    "\n",
    "print(list(string), end='')"
   ]
  },
  {
   "cell_type": "markdown",
   "id": "5e56ec13",
   "metadata": {},
   "source": [
    "#### 41. Check if two strings are anagrams. "
   ]
  },
  {
   "cell_type": "code",
   "execution_count": 62,
   "id": "e42e7220",
   "metadata": {},
   "outputs": [
    {
     "name": "stdout",
     "output_type": "stream",
     "text": [
      "It is an Anagram\n"
     ]
    }
   ],
   "source": [
    "string1 = 'dusty'\n",
    "\n",
    "string2 = 'study'\n",
    "\n",
    "if sorted(string1) == sorted(string2):\n",
    "    print('It is an Anagram')\n",
    "else:\n",
    "    print('It is not Anagrams')"
   ]
  },
  {
   "cell_type": "markdown",
   "id": "f89efc47",
   "metadata": {},
   "source": [
    "#### 42. Encode a string using a Caesar cipher."
   ]
  },
  {
   "cell_type": "code",
   "execution_count": 66,
   "id": "e062c2e9",
   "metadata": {},
   "outputs": [
    {
     "name": "stdout",
     "output_type": "stream",
     "text": [
      "UCPLWUJWUCPVJ\n"
     ]
    }
   ],
   "source": [
    "encode =[]\n",
    "\n",
    "code = 'Sanjushusanth'\n",
    "\n",
    "shift=2\n",
    "\n",
    "for i in code:\n",
    "    if i.isalpha():\n",
    "        en = ord(i.upper()) + shift\n",
    "        encode.append(chr(en))\n",
    "print(''.join(encode))"
   ]
  },
  {
   "cell_type": "markdown",
   "id": "829b7137",
   "metadata": {},
   "source": [
    "#### 43. Decode a caesar cipher encoded string"
   ]
  },
  {
   "cell_type": "code",
   "execution_count": 67,
   "id": "162b8a11",
   "metadata": {},
   "outputs": [
    {
     "name": "stdout",
     "output_type": "stream",
     "text": [
      "SANJUSHUSANTH\n"
     ]
    }
   ],
   "source": [
    "encode =[]\n",
    "\n",
    "code = 'UCPLWUJWUCPVJ'\n",
    "\n",
    "shift=2\n",
    "\n",
    "for i in code:\n",
    "    if i.isalpha():\n",
    "        en = ord(i.upper()) - shift\n",
    "        encode.append(chr(en))\n",
    "print(''.join(encode))"
   ]
  },
  {
   "cell_type": "code",
   "execution_count": null,
   "id": "a126c621",
   "metadata": {},
   "outputs": [],
   "source": []
  },
  {
   "cell_type": "markdown",
   "id": "a849c8c0",
   "metadata": {},
   "source": [
    "#### 44. Find the most frequent word in a string."
   ]
  },
  {
   "cell_type": "code",
   "execution_count": 69,
   "id": "aed527c1",
   "metadata": {},
   "outputs": [],
   "source": [
    "from collections import Counter"
   ]
  },
  {
   "cell_type": "code",
   "execution_count": 71,
   "id": "b7bce08f",
   "metadata": {},
   "outputs": [
    {
     "data": {
      "text/plain": [
       "('green', 2)"
      ]
     },
     "execution_count": 71,
     "metadata": {},
     "output_type": "execute_result"
    }
   ],
   "source": [
    "string = 'Red green yellow green blue'\n",
    "list1=string.split()\n",
    "Counter(list1).most_common()[0]"
   ]
  },
  {
   "cell_type": "markdown",
   "id": "d310c400",
   "metadata": {},
   "source": [
    "#### 45. Find all unique words in a string.\n"
   ]
  },
  {
   "cell_type": "code",
   "execution_count": 99,
   "id": "20a02ae6",
   "metadata": {},
   "outputs": [
    {
     "data": {
      "text/plain": [
       "{'Red', 'blue', 'green', 'yellow'}"
      ]
     },
     "execution_count": 99,
     "metadata": {},
     "output_type": "execute_result"
    }
   ],
   "source": [
    "string = 'Red green yellow green blue'\n",
    "list1 = string.split()\n",
    "set(list1)"
   ]
  },
  {
   "cell_type": "markdown",
   "id": "4b4c684d",
   "metadata": {},
   "source": [
    "#### 46. Count the number of syllables in a string."
   ]
  },
  {
   "cell_type": "code",
   "execution_count": 1,
   "id": "de22cdd3",
   "metadata": {},
   "outputs": [],
   "source": [
    "def syllables(word):\n",
    "    count=0\n",
    "    vowels ='aeiou'\n",
    "    if word[0] in vowels:\n",
    "        count +=1\n",
    "    \n",
    "    for i in range(1, len(word)):\n",
    "        if word[i] in vowels and word[i-1] not in vowels:\n",
    "            count+=1\n",
    "            if word.endswith('e'):\n",
    "                count-=1\n",
    "    if count == 0:\n",
    "        count+=1\n",
    "    return count"
   ]
  },
  {
   "cell_type": "code",
   "execution_count": 2,
   "id": "6554c13a",
   "metadata": {},
   "outputs": [
    {
     "data": {
      "text/plain": [
       "3"
      ]
     },
     "execution_count": 2,
     "metadata": {},
     "output_type": "execute_result"
    }
   ],
   "source": [
    "syllables('elephant')"
   ]
  },
  {
   "cell_type": "markdown",
   "id": "07c9e223",
   "metadata": {},
   "source": [
    "#### 47. Check if a string contains any special characters."
   ]
  },
  {
   "cell_type": "code",
   "execution_count": 77,
   "id": "bed8dc1f",
   "metadata": {},
   "outputs": [
    {
     "name": "stdout",
     "output_type": "stream",
     "text": [
      "String contains special characters\n"
     ]
    }
   ],
   "source": [
    "string = 'sanj%u'\n",
    "\n",
    "if not (string.isalpha() or string.isdigit()):\n",
    "    print('String contains special characters')\n",
    "else:\n",
    "    print('String doesnt contains special characters')"
   ]
  },
  {
   "cell_type": "markdown",
   "id": "520a401b",
   "metadata": {},
   "source": [
    "#### 48. Remove the nth word from a string.\n"
   ]
  },
  {
   "cell_type": "code",
   "execution_count": 89,
   "id": "0a40c491",
   "metadata": {},
   "outputs": [
    {
     "data": {
      "text/plain": [
       "'sanju is  engineer'"
      ]
     },
     "execution_count": 89,
     "metadata": {},
     "output_type": "execute_result"
    }
   ],
   "source": [
    "string = 'sanju is ml engineer'\n",
    "N = 3\n",
    "string.replace(string.split(' ')[N-1],'')"
   ]
  },
  {
   "cell_type": "markdown",
   "id": "413e07f6",
   "metadata": {},
   "source": [
    "#### 49. Insert a word at the nth position in a string."
   ]
  },
  {
   "cell_type": "code",
   "execution_count": 94,
   "id": "7dcb9aea",
   "metadata": {},
   "outputs": [
    {
     "name": "stdout",
     "output_type": "stream",
     "text": [
      "sanju is ML engineer\n"
     ]
    }
   ],
   "source": [
    "string = 'sanju is  engineer'\n",
    "\n",
    "Nth_position=3-1\n",
    "\n",
    "new = string.split()\n",
    "\n",
    "new.insert(Nth_position, 'ML')\n",
    "\n",
    "new = ' '.join(new)\n",
    "\n",
    "print(new)"
   ]
  },
  {
   "cell_type": "markdown",
   "id": "70073782",
   "metadata": {},
   "source": [
    "#### 50. Convert a CSV string to a list of lists."
   ]
  },
  {
   "cell_type": "code",
   "execution_count": 76,
   "id": "186b6da3",
   "metadata": {},
   "outputs": [
    {
     "name": "stdout",
     "output_type": "stream",
     "text": [
      "[['1', 'Sanju', 'Ravi'], ['2', 'Smitha', 'Rahul'], ['3', 'Naveen', 'Anderson']]\n"
     ]
    }
   ],
   "source": [
    "csv_string = \"1,Sanju,Ravi\\n2,Smitha,Rahul\\n3,Naveen,Anderson\"\n",
    "\n",
    "csv_list = [row.split(',') for i in csv_string.strip().split('\\n')]\n",
    "\n",
    "print(csv_list)"
   ]
  },
  {
   "cell_type": "code",
   "execution_count": null,
   "id": "71189a1f",
   "metadata": {},
   "outputs": [],
   "source": []
  },
  {
   "cell_type": "markdown",
   "id": "c3ff2ffb",
   "metadata": {},
   "source": [
    "#### List based practice questions"
   ]
  },
  {
   "cell_type": "markdown",
   "id": "6424b765",
   "metadata": {},
   "source": [
    "#### 1. Create a list with integers from 1 to 10."
   ]
  },
  {
   "cell_type": "code",
   "execution_count": 1,
   "id": "37612173",
   "metadata": {},
   "outputs": [
    {
     "name": "stdout",
     "output_type": "stream",
     "text": [
      "[1, 2, 3, 4, 5, 6, 7, 8, 9, 10]\n"
     ]
    }
   ],
   "source": [
    "list1 = [1,2,3,4,5,6,7,8,9,10]\n",
    "print(list1)"
   ]
  },
  {
   "cell_type": "markdown",
   "id": "79c686c1",
   "metadata": {},
   "source": [
    "#### 2. Find the length of a list without using the `len()` function."
   ]
  },
  {
   "cell_type": "code",
   "execution_count": 2,
   "id": "4f550256",
   "metadata": {},
   "outputs": [
    {
     "name": "stdout",
     "output_type": "stream",
     "text": [
      "10\n"
     ]
    }
   ],
   "source": [
    "list1 = [1,2,3,4,5,6,7,8,9,10]\n",
    "print(len(list1))"
   ]
  },
  {
   "cell_type": "markdown",
   "id": "bc61a900",
   "metadata": {},
   "source": [
    "#### 3. Append an element to the end of a list."
   ]
  },
  {
   "cell_type": "code",
   "execution_count": 22,
   "id": "45b2818c",
   "metadata": {},
   "outputs": [
    {
     "name": "stdout",
     "output_type": "stream",
     "text": [
      "[1, 2, 3, 4, 5, 6, 7, 8, 9, 10, 11]\n"
     ]
    }
   ],
   "source": [
    "list1 = [1,2,3,4,5,6,7,8,9,10]\n",
    "list1.extend([11])\n",
    "print(list1)"
   ]
  },
  {
   "cell_type": "markdown",
   "id": "27345184",
   "metadata": {},
   "source": [
    "#### 4. Insert an element at a specific index in a list."
   ]
  },
  {
   "cell_type": "code",
   "execution_count": 27,
   "id": "0f07f885",
   "metadata": {},
   "outputs": [
    {
     "name": "stdout",
     "output_type": "stream",
     "text": [
      "[1, 2, 3, 4, 5, 6, 5, 7, 8, 9, 10]\n"
     ]
    }
   ],
   "source": [
    "list1 = [1,2,3,4,5,6,7,8,9,10]\n",
    "\n",
    "list1.insert(6,5)\n",
    "\n",
    "print(list1)"
   ]
  },
  {
   "cell_type": "markdown",
   "id": "d0760122",
   "metadata": {},
   "source": [
    "#### 5. Remove an element from a list by its value."
   ]
  },
  {
   "cell_type": "code",
   "execution_count": 30,
   "id": "ae5db160",
   "metadata": {},
   "outputs": [
    {
     "name": "stdout",
     "output_type": "stream",
     "text": [
      "[1, 2, 3, 4, 5, 6, 7, 8, 10]\n"
     ]
    }
   ],
   "source": [
    "list1 = [1,2,3,4,5,6,7,8,9,10]\n",
    "\n",
    "list1.remove(9)\n",
    "\n",
    "print(list1)"
   ]
  },
  {
   "cell_type": "markdown",
   "id": "10cc39f8",
   "metadata": {},
   "source": [
    "#### 6. Remove an element from a list by its index."
   ]
  },
  {
   "cell_type": "code",
   "execution_count": 36,
   "id": "cf367036",
   "metadata": {},
   "outputs": [
    {
     "name": "stdout",
     "output_type": "stream",
     "text": [
      "[1, 2, 3, 4, 5, 6, 7, 8, 9]\n"
     ]
    }
   ],
   "source": [
    "list1 = [1,2,3,4,5,6,7,8,9,10]\n",
    "\n",
    "list1.pop(-1)\n",
    "\n",
    "print(list1)"
   ]
  },
  {
   "cell_type": "markdown",
   "id": "6d58e7f8",
   "metadata": {},
   "source": [
    "#### 7. Check if an element exists in a list."
   ]
  },
  {
   "cell_type": "code",
   "execution_count": 40,
   "id": "12ece7e0",
   "metadata": {},
   "outputs": [
    {
     "name": "stdout",
     "output_type": "stream",
     "text": [
      "False\n"
     ]
    }
   ],
   "source": [
    "list1 = [1,2,3,4,5,6,7,8,9,10]\n",
    "\n",
    "element = 11\n",
    "\n",
    "if element in list1:\n",
    "    print('True')\n",
    "else:\n",
    "    print('False')"
   ]
  },
  {
   "cell_type": "markdown",
   "id": "d2d1c3e8",
   "metadata": {},
   "source": [
    "#### 8. Find the index of the first occurrence of an element in a list."
   ]
  },
  {
   "cell_type": "code",
   "execution_count": 45,
   "id": "dd50fabf",
   "metadata": {},
   "outputs": [
    {
     "name": "stdout",
     "output_type": "stream",
     "text": [
      "Index of 2 in the list: 1\n"
     ]
    }
   ],
   "source": [
    "list1 = [1, 2, 3, 4, 5, 6, 7, 8, 9, 10]\n",
    "element = 2  \n",
    "index = list1.index(element)\n",
    "\n",
    "print(\"Index of\", element, \"in the list:\", index)"
   ]
  },
  {
   "cell_type": "markdown",
   "id": "ce7825a4",
   "metadata": {},
   "source": [
    "#### 9. Count the occurrences of an element in a list."
   ]
  },
  {
   "cell_type": "code",
   "execution_count": 51,
   "id": "b6aa06dd",
   "metadata": {},
   "outputs": [
    {
     "name": "stdout",
     "output_type": "stream",
     "text": [
      "Count of 3 in the list: 2 Nos\n"
     ]
    }
   ],
   "source": [
    "list1 = [1, 2, 3, 2, 5, 6, 3, 8, 5, 10,8]\n",
    "element = 3\n",
    "count = list1.count(element)\n",
    "print('Count of', element, 'in the list:', count, 'Nos')"
   ]
  },
  {
   "cell_type": "markdown",
   "id": "bde764ff",
   "metadata": {},
   "source": [
    "#### 10. Reverse the order of elements in a list."
   ]
  },
  {
   "cell_type": "code",
   "execution_count": 56,
   "id": "9a838618",
   "metadata": {},
   "outputs": [
    {
     "name": "stdout",
     "output_type": "stream",
     "text": [
      "[8, 10, 5, 8, 3, 6, 5, 2, 3, 2, 1]\n",
      "<list_reverseiterator object at 0x0000021B323EEC70>\n"
     ]
    }
   ],
   "source": [
    "list1 = [1, 2, 3, 2, 5, 6, 3, 8, 5, 10,8]\n",
    "\n",
    "list1.reverse()\n",
    "print(list1)"
   ]
  },
  {
   "cell_type": "markdown",
   "id": "8021a86c",
   "metadata": {},
   "source": [
    "#### 11. Sort a list in ascending order."
   ]
  },
  {
   "cell_type": "code",
   "execution_count": 58,
   "id": "915a3cec",
   "metadata": {},
   "outputs": [
    {
     "name": "stdout",
     "output_type": "stream",
     "text": [
      "[1, 2, 2, 3, 3, 5, 5, 6, 8, 8, 10]\n"
     ]
    }
   ],
   "source": [
    "list1 = [1, 2, 3, 2, 5, 6, 3, 8, 5, 10,8]\n",
    "\n",
    "list1.sort()\n",
    "\n",
    "print(list1)"
   ]
  },
  {
   "cell_type": "markdown",
   "id": "fe7400c2",
   "metadata": {},
   "source": [
    "#### 12. Sort a list in descending order."
   ]
  },
  {
   "cell_type": "code",
   "execution_count": 59,
   "id": "73ef5d0b",
   "metadata": {},
   "outputs": [
    {
     "name": "stdout",
     "output_type": "stream",
     "text": [
      "[10, 8, 8, 6, 5, 5, 3, 3, 2, 2, 1]\n"
     ]
    }
   ],
   "source": [
    "list1 = [1, 2, 3, 2, 5, 6, 3, 8, 5, 10,8]\n",
    "\n",
    "list1.sort(reverse=True)\n",
    "\n",
    "print(list1)"
   ]
  },
  {
   "cell_type": "markdown",
   "id": "02764478",
   "metadata": {},
   "source": [
    "#### 13. Create a list of even numbers from 1 to 20."
   ]
  },
  {
   "cell_type": "code",
   "execution_count": 60,
   "id": "29b78611",
   "metadata": {},
   "outputs": [
    {
     "name": "stdout",
     "output_type": "stream",
     "text": [
      "[2, 4, 6, 8, 10, 12, 14, 16, 18, 20]\n"
     ]
    }
   ],
   "source": [
    "lst = [1,2,3,4,5,6,7,8,9,10,11,12,13,14,15,16,17,18,19,20]\n",
    "\n",
    "even_list = []\n",
    "for i in lst:\n",
    "    if i  % 2 ==0:\n",
    "        even_list.append(i)\n",
    "print(even_list)"
   ]
  },
  {
   "cell_type": "markdown",
   "id": "bee8906a",
   "metadata": {},
   "source": [
    "#### 14. Create a list of odd numbers from 1 to 20."
   ]
  },
  {
   "cell_type": "code",
   "execution_count": 61,
   "id": "f647c8e6",
   "metadata": {},
   "outputs": [
    {
     "name": "stdout",
     "output_type": "stream",
     "text": [
      "[1, 3, 5, 7, 9, 11, 13, 15, 17, 19]\n"
     ]
    }
   ],
   "source": [
    "lst = [1,2,3,4,5,6,7,8,9,10,11,12,13,14,15,16,17,18,19,20]\n",
    "\n",
    "even_list = []\n",
    "for i in lst:\n",
    "    if i  % 2 !=0:\n",
    "        even_list.append(i)\n",
    "print(even_list)"
   ]
  },
  {
   "cell_type": "markdown",
   "id": "2b3cc369",
   "metadata": {},
   "source": [
    "#### 15. Find the sum of all elements in a list."
   ]
  },
  {
   "cell_type": "code",
   "execution_count": 63,
   "id": "59ab9214",
   "metadata": {},
   "outputs": [
    {
     "name": "stdout",
     "output_type": "stream",
     "text": [
      "210\n"
     ]
    }
   ],
   "source": [
    "lst = [1,2,3,4,5,6,7,8,9,10,11,12,13,14,15,16,17,18,19,20]\n",
    "\n",
    "print(sum(lst))"
   ]
  },
  {
   "cell_type": "markdown",
   "id": "73496ec1",
   "metadata": {},
   "source": [
    "#### 16. Find the maximum value in a list."
   ]
  },
  {
   "cell_type": "code",
   "execution_count": null,
   "id": "24bc2808",
   "metadata": {},
   "outputs": [],
   "source": [
    "lst = [1,2,3,4,5,6,7,8,9,10,11,12,13,14,15,16,17,18,19,20]\n",
    "\n",
    "print(max(lst))"
   ]
  },
  {
   "cell_type": "markdown",
   "id": "63720618",
   "metadata": {},
   "source": [
    "#### 17. Find the minimum value in a list."
   ]
  },
  {
   "cell_type": "code",
   "execution_count": 64,
   "id": "4162adca",
   "metadata": {},
   "outputs": [
    {
     "name": "stdout",
     "output_type": "stream",
     "text": [
      "1\n"
     ]
    }
   ],
   "source": [
    "lst = [1,2,3,4,5,6,7,8,9,10,11,12,13,14,15,16,17,18,19,20]\n",
    "\n",
    "print(min(lst))"
   ]
  },
  {
   "cell_type": "markdown",
   "id": "35100176",
   "metadata": {},
   "source": [
    "#### 18. Create a list of squares of numbers from 1 to 10."
   ]
  },
  {
   "cell_type": "code",
   "execution_count": 68,
   "id": "7859eefe",
   "metadata": {},
   "outputs": [
    {
     "name": "stdout",
     "output_type": "stream",
     "text": [
      "[1, 4, 9, 16, 25, 36, 49, 64, 81, 100]\n"
     ]
    }
   ],
   "source": [
    "lst = [1,2,3,4,5,6,7,8,9,10]\n",
    "new = []\n",
    "for i in lst:\n",
    "    new.append(i*i)\n",
    "    \n",
    "print(new)"
   ]
  },
  {
   "cell_type": "markdown",
   "id": "70723bd3",
   "metadata": {},
   "source": [
    "#### 19. Create a list of random numbers."
   ]
  },
  {
   "cell_type": "code",
   "execution_count": 73,
   "id": "43b109bd",
   "metadata": {},
   "outputs": [
    {
     "name": "stdout",
     "output_type": "stream",
     "text": [
      "[86, 99, 91, 25, 67, 22, 47, 8, 89, 77]\n"
     ]
    }
   ],
   "source": [
    "import random\n",
    "\n",
    "random_numbers = random.sample(range(1,101),10)\n",
    "\n",
    "print(random_numbers)"
   ]
  },
  {
   "cell_type": "markdown",
   "id": "f655a178",
   "metadata": {},
   "source": [
    "#### 20. Remove duplicates from a list."
   ]
  },
  {
   "cell_type": "code",
   "execution_count": 76,
   "id": "beff7950",
   "metadata": {},
   "outputs": [
    {
     "name": "stdout",
     "output_type": "stream",
     "text": [
      "[1, 2, 3, 5, 6, 8, 10]\n"
     ]
    }
   ],
   "source": [
    "list1 = [1, 2, 3, 2, 5, 6, 3, 8, 5, 10,8]\n",
    "new = set(list1)\n",
    "print(list(new))"
   ]
  },
  {
   "cell_type": "markdown",
   "id": "9a3baeb3",
   "metadata": {},
   "source": [
    "#### 21. Find the common elements between two lists."
   ]
  },
  {
   "cell_type": "code",
   "execution_count": 80,
   "id": "90bbfceb",
   "metadata": {},
   "outputs": [
    {
     "name": "stdout",
     "output_type": "stream",
     "text": [
      "1,2,3,"
     ]
    }
   ],
   "source": [
    "lst1 = [1,2,3,4,5]\n",
    "\n",
    "lst2 = [7,2,1,6,3]\n",
    "\n",
    "for i in lst1:\n",
    "    if i in lst2:\n",
    "        print(i, end=',')"
   ]
  },
  {
   "cell_type": "markdown",
   "id": "11101529",
   "metadata": {},
   "source": [
    "#### 22. Find the difference between two lists.\n"
   ]
  },
  {
   "cell_type": "code",
   "execution_count": 81,
   "id": "c7b0cafa",
   "metadata": {},
   "outputs": [
    {
     "name": "stdout",
     "output_type": "stream",
     "text": [
      "4,5,"
     ]
    }
   ],
   "source": [
    "lst1 = [1,2,3,4,5]\n",
    "\n",
    "lst2 = [7,2,1,6,3]\n",
    "\n",
    "for i in lst1:\n",
    "    if i not in lst2:\n",
    "        print(i, end=',')"
   ]
  },
  {
   "cell_type": "markdown",
   "id": "4aaa2760",
   "metadata": {},
   "source": [
    "#### 23. Merge two lists."
   ]
  },
  {
   "cell_type": "code",
   "execution_count": 83,
   "id": "effae1f1",
   "metadata": {},
   "outputs": [
    {
     "data": {
      "text/plain": [
       "[1, 2, 3, 4, 5, 7, 2, 1, 6, 3]"
      ]
     },
     "execution_count": 83,
     "metadata": {},
     "output_type": "execute_result"
    }
   ],
   "source": [
    "lst1 = [1,2,3,4,5]\n",
    "\n",
    "lst2 = [7,2,1,6,3]\n",
    "\n",
    "new_list = lst1 + lst2\n",
    "\n",
    "print(new_list)"
   ]
  },
  {
   "cell_type": "markdown",
   "id": "836d0903",
   "metadata": {},
   "source": [
    "#### 24. Multiply all elements in a list by 2."
   ]
  },
  {
   "cell_type": "code",
   "execution_count": 94,
   "id": "3d9d6c08",
   "metadata": {},
   "outputs": [
    {
     "name": "stdout",
     "output_type": "stream",
     "text": [
      "2,4,6,8,10,12,14,16,18,20,"
     ]
    }
   ],
   "source": [
    "lst = [1,2,3,4,5,6,7,8,9,10]\n",
    "\n",
    "for i in lst:\n",
    "    print(i*2, end=',')"
   ]
  },
  {
   "cell_type": "markdown",
   "id": "872a9700",
   "metadata": {},
   "source": [
    "#### 25. Filter out all even numbers from a list."
   ]
  },
  {
   "cell_type": "code",
   "execution_count": 97,
   "id": "ed18108d",
   "metadata": {},
   "outputs": [
    {
     "name": "stdout",
     "output_type": "stream",
     "text": [
      "[2, 4, 6, 8, 10]\n"
     ]
    }
   ],
   "source": [
    "lst = [1,2,3,4,5,6,7,8,9,10]\n",
    "\n",
    "even_number = list(filter(lambda x: x % 2 ==0, lst))\n",
    "    \n",
    "print(even_number)"
   ]
  },
  {
   "cell_type": "markdown",
   "id": "0f1195db",
   "metadata": {},
   "source": [
    "#### 26. Convert a list of strings to a list of integers."
   ]
  },
  {
   "cell_type": "code",
   "execution_count": 101,
   "id": "93638cb2",
   "metadata": {},
   "outputs": [],
   "source": [
    "lst = ['1','2','3','4','5','6','7','8','9','10']"
   ]
  },
  {
   "cell_type": "code",
   "execution_count": 108,
   "id": "eb151d70",
   "metadata": {},
   "outputs": [
    {
     "name": "stdout",
     "output_type": "stream",
     "text": [
      "[1, 2, 3, 4, 5, 6, 7, 8, 9, 10]\n"
     ]
    }
   ],
   "source": [
    "new_lst = [int(i) for i in lst]\n",
    "\n",
    "print(new_lst)"
   ]
  },
  {
   "cell_type": "markdown",
   "id": "9a8521db",
   "metadata": {},
   "source": [
    "#### 27. Convert a list of integers to a list of strings."
   ]
  },
  {
   "cell_type": "code",
   "execution_count": 109,
   "id": "94181ab2",
   "metadata": {},
   "outputs": [
    {
     "name": "stdout",
     "output_type": "stream",
     "text": [
      "['1', '2', '3', '4', '5', '6', '7', '8', '9', '10']\n"
     ]
    }
   ],
   "source": [
    "lst = [1, 2, 3, 4, 5, 6, 7, 8, 9, 10]\n",
    "\n",
    "new_lst = [str(i) for i in lst]\n",
    "\n",
    "print(new_lst)"
   ]
  },
  {
   "cell_type": "markdown",
   "id": "b8696657",
   "metadata": {},
   "source": [
    "#### 28. Flatten a nested list."
   ]
  },
  {
   "cell_type": "code",
   "execution_count": 114,
   "id": "623cb929",
   "metadata": {},
   "outputs": [
    {
     "name": "stdout",
     "output_type": "stream",
     "text": [
      "[1, 2, 3, 4, 5, 6, 7, 8, 9, 10]\n"
     ]
    }
   ],
   "source": [
    "lst = [[1, 2, 3, 4], [5, 6, 7, 8],[9, 10]]\n",
    "\n",
    "flattened_list = [j for i in lst for j in i]\n",
    "\n",
    "print(flattened_list)"
   ]
  },
  {
   "cell_type": "markdown",
   "id": "cd761773",
   "metadata": {},
   "source": [
    "#### 29. Create a list of the first 10 Fibonacci numbers."
   ]
  },
  {
   "cell_type": "code",
   "execution_count": 116,
   "id": "bff16faa",
   "metadata": {},
   "outputs": [
    {
     "name": "stdout",
     "output_type": "stream",
     "text": [
      "First 10 Fibonacci numbers: [0, 1, 1, 2, 3, 5, 8, 13, 21, 34]\n"
     ]
    }
   ],
   "source": [
    "list_fibo = [0, 1]\n",
    "\n",
    "for i in range(2, 10):\n",
    "    next_fibonacci = list_fibo[i - 1] + list_fibo[i - 2]\n",
    "    list_fibo.append(next_fibonacci)\n",
    "\n",
    "print(\"First 10 Fibonacci numbers:\", list_fibo)"
   ]
  },
  {
   "cell_type": "markdown",
   "id": "dbd70505",
   "metadata": {},
   "source": [
    "#### 30. Check if a list is sorted."
   ]
  },
  {
   "cell_type": "code",
   "execution_count": 123,
   "id": "71ef0385",
   "metadata": {},
   "outputs": [
    {
     "name": "stdout",
     "output_type": "stream",
     "text": [
      "List is not sorted\n"
     ]
    }
   ],
   "source": [
    "lst = [1, 2, 3, 4, 5, 6, 7, 8, 11, 10]\n",
    "\n",
    "if lst == sorted(lst) :\n",
    "    print('List is sorted')\n",
    "else:\n",
    "    print('List is not sorted')"
   ]
  },
  {
   "cell_type": "markdown",
   "id": "ac70cec3",
   "metadata": {},
   "source": [
    "#### 31. Rotate a list to the left by `n` positions."
   ]
  },
  {
   "cell_type": "code",
   "execution_count": 126,
   "id": "dae4e48e",
   "metadata": {},
   "outputs": [
    {
     "name": "stdout",
     "output_type": "stream",
     "text": [
      "[3, 4, 5, 6, 7, 8, 9, 10, 1, 2]\n"
     ]
    }
   ],
   "source": [
    "lst = [1, 2, 3, 4, 5, 6, 7, 8, 9, 10]\n",
    "\n",
    "position = 2\n",
    "\n",
    "print(lst[position:] + lst[:position])"
   ]
  },
  {
   "cell_type": "markdown",
   "id": "7cc98102",
   "metadata": {},
   "source": [
    "#### 32. Rotate a list to the right by `n` positions."
   ]
  },
  {
   "cell_type": "code",
   "execution_count": 127,
   "id": "0dbe849a",
   "metadata": {},
   "outputs": [
    {
     "name": "stdout",
     "output_type": "stream",
     "text": [
      "[9, 10, 1, 2, 3, 4, 5, 6, 7, 8]\n"
     ]
    }
   ],
   "source": [
    "lst = [1, 2, 3, 4, 5, 6, 7, 8, 9, 10]\n",
    "\n",
    "position = 2\n",
    "\n",
    "print(lst[-position:] + lst[:-position])"
   ]
  },
  {
   "cell_type": "markdown",
   "id": "d2583555",
   "metadata": {},
   "source": [
    "#### 33. Create a list of prime numbers up to 50."
   ]
  },
  {
   "cell_type": "code",
   "execution_count": 129,
   "id": "d58c1fbd",
   "metadata": {},
   "outputs": [
    {
     "name": "stdout",
     "output_type": "stream",
     "text": [
      "[2, 3, 5, 7, 11, 13, 17, 19, 23, 29, 31, 37, 41, 43, 47]\n"
     ]
    }
   ],
   "source": [
    "def prime_number(num):\n",
    "    if num < 2:\n",
    "        return False\n",
    "    for i in range(2, int(num**0.5) +1):\n",
    "        if num% i == 0:\n",
    "            return False\n",
    "    return True\n",
    "\n",
    "prime_number = [num for num in range(2,51) if prime_number(num)]\n",
    "\n",
    "print(prime_number)"
   ]
  },
  {
   "cell_type": "markdown",
   "id": "70cb70a3",
   "metadata": {},
   "source": [
    "#### 34. Split a list into chunks of size `n`."
   ]
  },
  {
   "cell_type": "code",
   "execution_count": 132,
   "id": "1e73913b",
   "metadata": {},
   "outputs": [
    {
     "name": "stdout",
     "output_type": "stream",
     "text": [
      "Original list [1, 2, 3, 4, 5, 6, 7, 8, 9, 10]\n",
      "Chunk list [[1, 2, 3], [4, 5, 6], [7, 8, 9], [10]]\n"
     ]
    }
   ],
   "source": [
    "lst = [1, 2, 3, 4, 5, 6, 7, 8, 9, 10]\n",
    "chunk_size = 3 \n",
    "\n",
    "chunk_list=[lst[i:i + chunk_size] for i in range(0,len(lst), chunk_size)]\n",
    "\n",
    "print('Original list', lst)\n",
    "\n",
    "print('Chunk list', chunk_list)"
   ]
  },
  {
   "cell_type": "markdown",
   "id": "fc61dde6",
   "metadata": {},
   "source": [
    "#### 35. Find the second largest number in a list."
   ]
  },
  {
   "cell_type": "code",
   "execution_count": 145,
   "id": "c4518880",
   "metadata": {},
   "outputs": [
    {
     "name": "stdout",
     "output_type": "stream",
     "text": [
      "Second largest number: 500\n"
     ]
    }
   ],
   "source": [
    "lst = [509,39,456,98,500,23]\n",
    "\n",
    "lst.sort(reverse=True)\n",
    "\n",
    "print('Second largest number:', lst[1])"
   ]
  },
  {
   "cell_type": "markdown",
   "id": "45d3f244",
   "metadata": {},
   "source": [
    "#### 36. Replace every element in a list with its square."
   ]
  },
  {
   "cell_type": "code",
   "execution_count": 147,
   "id": "310e310a",
   "metadata": {},
   "outputs": [
    {
     "name": "stdout",
     "output_type": "stream",
     "text": [
      "Original list:  [1, 2, 3, 4, 5, 6, 7, 8, 9, 10]\n",
      "Squared list:  [1, 4, 9, 16, 25, 36, 49, 64, 81, 100]\n"
     ]
    }
   ],
   "source": [
    "lst = [1, 2, 3, 4, 5, 6, 7, 8, 9, 10]\n",
    "\n",
    "squared_lst = [i*i for i in lst]\n",
    "\n",
    "print('Original list: ', lst)\n",
    "\n",
    "print('Squared list: ', squared_lst)"
   ]
  },
  {
   "cell_type": "markdown",
   "id": "134ae60a",
   "metadata": {},
   "source": [
    "#### 37. Convert a list to a dictionary where list elements become keys and theirindices become values."
   ]
  },
  {
   "cell_type": "code",
   "execution_count": 152,
   "id": "f2d55323",
   "metadata": {},
   "outputs": [
    {
     "name": "stdout",
     "output_type": "stream",
     "text": [
      "{0: 1, 1: 2, 2: 3, 3: 4, 4: 5, 5: 6, 6: 7, 7: 8, 8: 9, 9: 10}\n"
     ]
    }
   ],
   "source": [
    "lst = [1, 2, 3, 4, 5, 6, 7, 8, 9, 10]\n",
    "\n",
    "dict_= {keys: values for keys , values in enumerate(lst)}\n",
    "\n",
    "print(dict_)"
   ]
  },
  {
   "cell_type": "markdown",
   "id": "d81e97f2",
   "metadata": {},
   "source": [
    "#### 38. Shuffle the elements of a list randomly."
   ]
  },
  {
   "cell_type": "code",
   "execution_count": 154,
   "id": "1bc19ba4",
   "metadata": {},
   "outputs": [
    {
     "name": "stdout",
     "output_type": "stream",
     "text": [
      "[1, 9, 2, 10, 6, 4, 8, 5, 7, 3]\n"
     ]
    }
   ],
   "source": [
    "import random\n",
    "\n",
    "lst = [1, 2, 3, 4, 5, 6, 7, 8, 9, 10]\n",
    "random.shuffle(lst)\n",
    "print(lst)"
   ]
  },
  {
   "cell_type": "markdown",
   "id": "6f79f218",
   "metadata": {},
   "source": [
    "#### 39. Create a list of the first 10 factorial numbers."
   ]
  },
  {
   "cell_type": "code",
   "execution_count": 158,
   "id": "3e74480f",
   "metadata": {},
   "outputs": [
    {
     "name": "stdout",
     "output_type": "stream",
     "text": [
      "First 10 Factorial Numbers: [1, 1, 2, 6, 24, 120, 720, 5040, 40320, 362880]\n"
     ]
    }
   ],
   "source": [
    "def factorial(n):\n",
    "    if n == 0:\n",
    "        return 1\n",
    "    result = 1\n",
    "    for i in range(1, n + 1):\n",
    "        result *= i\n",
    "    return result\n",
    "\n",
    "factorial_list = [factorial(i) for i in range(10)]\n",
    "\n",
    "print(\"First 10 Factorial Numbers:\", factorial_list)"
   ]
  },
  {
   "cell_type": "markdown",
   "id": "eb51dc73",
   "metadata": {},
   "source": [
    "#### 40. Check if two lists have at least one element in common."
   ]
  },
  {
   "cell_type": "code",
   "execution_count": 167,
   "id": "5b2d9dd9",
   "metadata": {},
   "outputs": [
    {
     "name": "stdout",
     "output_type": "stream",
     "text": [
      "The lists have at least one common element.\n"
     ]
    }
   ],
   "source": [
    "def common_element(lst1, lst2):\n",
    "    for i in lst1:\n",
    "        for j in lst2:\n",
    "            if i == j:\n",
    "                return True\n",
    "    return False\n",
    "\n",
    "lst1 = [1, 2, 3, 4, 5]\n",
    "lst2 = [4, 5, 6, 7, 8]\n",
    "\n",
    "if common_element(lst1, lst2):\n",
    "    print(\"The lists have at least one common element.\")\n",
    "else:\n",
    "    print(\"The lists do not have any common elements.\")"
   ]
  },
  {
   "cell_type": "markdown",
   "id": "16fdc1dc",
   "metadata": {},
   "source": [
    "#### 41. Remove all elements from a list."
   ]
  },
  {
   "cell_type": "code",
   "execution_count": 170,
   "id": "da189a8b",
   "metadata": {},
   "outputs": [
    {
     "name": "stdout",
     "output_type": "stream",
     "text": [
      "[]\n"
     ]
    }
   ],
   "source": [
    "lst = [1, 2, 3, 4, 5, 6, 7, 8, 9, 10]\n",
    "\n",
    "lst.clear()\n",
    "\n",
    "print(lst)"
   ]
  },
  {
   "cell_type": "markdown",
   "id": "bb80342d",
   "metadata": {},
   "source": [
    "#### 42. Replace negative numbers in a list with 0."
   ]
  },
  {
   "cell_type": "code",
   "execution_count": 20,
   "id": "184ecb02",
   "metadata": {},
   "outputs": [
    {
     "name": "stdout",
     "output_type": "stream",
     "text": [
      "[1, 2, 0, 4, 5, 6, 0, 8, 0, 10]\n"
     ]
    }
   ],
   "source": [
    "lst = [1, 2, -3, 4, 5, 6, -7, 8, -9, 10]\n",
    "\n",
    "new_lst = [i if i >=0 else 0 for i in lst]\n",
    "\n",
    "print(new_lst)"
   ]
  },
  {
   "cell_type": "markdown",
   "id": "2bf6fef0",
   "metadata": {},
   "source": [
    "#### 43. Convert a string into a list of words."
   ]
  },
  {
   "cell_type": "code",
   "execution_count": 21,
   "id": "9c6af0c8",
   "metadata": {},
   "outputs": [
    {
     "name": "stdout",
     "output_type": "stream",
     "text": [
      "['sanju', 'is', 'ml', 'engineer']\n"
     ]
    }
   ],
   "source": [
    "string = 'sanju is ml engineer'\n",
    "\n",
    "New=string.split()\n",
    "\n",
    "print(New)"
   ]
  },
  {
   "cell_type": "markdown",
   "id": "d15de84b",
   "metadata": {},
   "source": [
    "#### 44. Convert a list of words into a string."
   ]
  },
  {
   "cell_type": "code",
   "execution_count": 25,
   "id": "5b59b678",
   "metadata": {},
   "outputs": [
    {
     "name": "stdout",
     "output_type": "stream",
     "text": [
      "sanju is ml engineer\n"
     ]
    }
   ],
   "source": [
    "lst = ['sanju', 'is', 'ml', 'engineer']\n",
    "\n",
    "New = ' '.join(lst)\n",
    "\n",
    "print(New)"
   ]
  },
  {
   "cell_type": "markdown",
   "id": "e0029f1c",
   "metadata": {},
   "source": [
    "#### 45. Create a list of the first `n` powers of 2."
   ]
  },
  {
   "cell_type": "code",
   "execution_count": 28,
   "id": "14a986db",
   "metadata": {},
   "outputs": [
    {
     "name": "stdout",
     "output_type": "stream",
     "text": [
      "[0, 1, 4, 9, 16]\n"
     ]
    }
   ],
   "source": [
    "n = 2\n",
    "powers_of_2 = []\n",
    "for i in range(5):\n",
    "    powers_of_2.append(i**n)\n",
    "    \n",
    "print(powers_of_2)"
   ]
  },
  {
   "cell_type": "markdown",
   "id": "8b528d8c",
   "metadata": {},
   "source": [
    "#### 46. Find the longest string in a list of strings."
   ]
  },
  {
   "cell_type": "code",
   "execution_count": null,
   "id": "7b4461f0",
   "metadata": {},
   "outputs": [],
   "source": [
    "lst = ['sanju', 'is', 'ml', 'engineer']"
   ]
  },
  {
   "cell_type": "code",
   "execution_count": 36,
   "id": "d4fc81d4",
   "metadata": {},
   "outputs": [
    {
     "name": "stdout",
     "output_type": "stream",
     "text": [
      "engineer\n"
     ]
    }
   ],
   "source": [
    "print(max(lst, key=len))"
   ]
  },
  {
   "cell_type": "markdown",
   "id": "74b71c4d",
   "metadata": {},
   "source": [
    "#### 47. Find the shortest string in a list of strings."
   ]
  },
  {
   "cell_type": "code",
   "execution_count": 37,
   "id": "bbd0eed5",
   "metadata": {},
   "outputs": [
    {
     "name": "stdout",
     "output_type": "stream",
     "text": [
      "is\n"
     ]
    }
   ],
   "source": [
    "lst = ['sanju', 'is', 'ml', 'engineer']\n",
    "print(min(lst, key=len))"
   ]
  },
  {
   "cell_type": "markdown",
   "id": "697d73d9",
   "metadata": {},
   "source": [
    "#### 48. Create a list of the first `n` triangular numbers."
   ]
  },
  {
   "cell_type": "code",
   "execution_count": 95,
   "id": "afe85360",
   "metadata": {},
   "outputs": [
    {
     "name": "stdout",
     "output_type": "stream",
     "text": [
      "[1, 3, 6, 10, 15]\n"
     ]
    }
   ],
   "source": [
    "n = 5 \n",
    "triangular_numbers = [(i * (i + 1)) // 2 for i in range(1, n + 1)]\n",
    "print(triangular_numbers)"
   ]
  },
  {
   "cell_type": "markdown",
   "id": "90e35cac",
   "metadata": {},
   "source": [
    "#### 49. Check if a list contains another list as a subsequence."
   ]
  },
  {
   "cell_type": "code",
   "execution_count": 97,
   "id": "a66bb9c6",
   "metadata": {},
   "outputs": [
    {
     "name": "stdout",
     "output_type": "stream",
     "text": [
      "The list2 is a subsequence of main_list\n"
     ]
    }
   ],
   "source": [
    "lst = ['sanju', 'is', 'ml', 'engineer']\n",
    "lst2 = ['ml', 'engineer']\n",
    "\n",
    "if all(i in lst for i in lst2):\n",
    "    print('The list2 is a subsequence of main_list')\n",
    "else:\n",
    "    print('The  list2 is not a subsequence of main_list')"
   ]
  },
  {
   "cell_type": "markdown",
   "id": "5248e562",
   "metadata": {},
   "source": [
    "#### 50. Swap two elements in a list by their indices."
   ]
  },
  {
   "cell_type": "code",
   "execution_count": 105,
   "id": "cec18f11",
   "metadata": {},
   "outputs": [
    {
     "name": "stdout",
     "output_type": "stream",
     "text": [
      "['is', 'sanju', 'ml', 'engineer']\n"
     ]
    }
   ],
   "source": [
    "lst = ['sanju', 'is', 'ml', 'engineer']\n",
    "lst[0], lst[1] = lst[1], lst[0]\n",
    "print(lst)"
   ]
  },
  {
   "cell_type": "code",
   "execution_count": null,
   "id": "0c2bdddd",
   "metadata": {},
   "outputs": [],
   "source": []
  },
  {
   "cell_type": "markdown",
   "id": "cad4ff20",
   "metadata": {},
   "source": [
    "#### Tuple based practice questions"
   ]
  },
  {
   "cell_type": "markdown",
   "id": "be33369c",
   "metadata": {},
   "source": [
    "#### 1. Create a tuple with integers from 1 to 5."
   ]
  },
  {
   "cell_type": "code",
   "execution_count": 4,
   "id": "dbb6540d",
   "metadata": {},
   "outputs": [
    {
     "name": "stdout",
     "output_type": "stream",
     "text": [
      "(1, 2, 3, 4, 5)\n"
     ]
    }
   ],
   "source": [
    "new = (1,2,3,4,5)\n",
    "print(new)"
   ]
  },
  {
   "cell_type": "markdown",
   "id": "6c16a328",
   "metadata": {},
   "source": [
    "#### 2. Access the third element of a tuple."
   ]
  },
  {
   "cell_type": "code",
   "execution_count": 6,
   "id": "ee9c1daa",
   "metadata": {},
   "outputs": [
    {
     "name": "stdout",
     "output_type": "stream",
     "text": [
      "3\n"
     ]
    }
   ],
   "source": [
    "new = (1,2,3,4,5)\n",
    "print(new[2])"
   ]
  },
  {
   "cell_type": "markdown",
   "id": "e94018ba",
   "metadata": {},
   "source": [
    "#### 3. Find the length of a tuple without using the `len()` function."
   ]
  },
  {
   "cell_type": "code",
   "execution_count": 9,
   "id": "428c2988",
   "metadata": {},
   "outputs": [
    {
     "name": "stdout",
     "output_type": "stream",
     "text": [
      "5\n"
     ]
    }
   ],
   "source": [
    "new = (1,2,3,4,5)\n",
    "length =0\n",
    "for i in new:\n",
    "    length += 1\n",
    "print(length)"
   ]
  },
  {
   "cell_type": "markdown",
   "id": "0dabfdb6",
   "metadata": {},
   "source": [
    "#### 4. Count the occurrences of an element in a tuple"
   ]
  },
  {
   "cell_type": "code",
   "execution_count": 15,
   "id": "f1ea83a1",
   "metadata": {},
   "outputs": [
    {
     "name": "stdout",
     "output_type": "stream",
     "text": [
      "2\n"
     ]
    }
   ],
   "source": [
    "new = (1,2,3,4,5,3)\n",
    "element = 3\n",
    "print(new.count(element))"
   ]
  },
  {
   "cell_type": "markdown",
   "id": "8a93ef8d",
   "metadata": {},
   "source": [
    "#### 5. Find the index of the first occurrence of an element in a tuple."
   ]
  },
  {
   "cell_type": "code",
   "execution_count": 17,
   "id": "6f65c620",
   "metadata": {},
   "outputs": [
    {
     "name": "stdout",
     "output_type": "stream",
     "text": [
      "3\n"
     ]
    }
   ],
   "source": [
    "new = (1,2,3,4,5)\n",
    "element = 4\n",
    "print(new.index(element))"
   ]
  },
  {
   "cell_type": "markdown",
   "id": "e1bbebd0",
   "metadata": {},
   "source": [
    "#### 6. Check if an element exists in a tuple."
   ]
  },
  {
   "cell_type": "code",
   "execution_count": 2,
   "id": "cf57fd34",
   "metadata": {},
   "outputs": [
    {
     "name": "stdout",
     "output_type": "stream",
     "text": [
      "Yes the element exists\n"
     ]
    }
   ],
   "source": [
    "new = (1,2,3,4,5)\n",
    "element = 4\n",
    "\n",
    "if element in new:\n",
    "    print('Yes the element exists')\n",
    "else:\n",
    "    print('No is does not exists')"
   ]
  },
  {
   "cell_type": "markdown",
   "id": "d12dd50e",
   "metadata": {},
   "source": [
    "#### 7. Convert a tuple to a list."
   ]
  },
  {
   "cell_type": "code",
   "execution_count": 4,
   "id": "4b76575b",
   "metadata": {},
   "outputs": [
    {
     "name": "stdout",
     "output_type": "stream",
     "text": [
      "[1, 2, 3, 4, 5]\n"
     ]
    }
   ],
   "source": [
    "new = (1,2,3,4,5)\n",
    "\n",
    "print(list(new))"
   ]
  },
  {
   "cell_type": "markdown",
   "id": "2fd7b880",
   "metadata": {},
   "source": [
    "#### 8. Convert a list to a tuple."
   ]
  },
  {
   "cell_type": "code",
   "execution_count": 5,
   "id": "ad01770d",
   "metadata": {},
   "outputs": [
    {
     "name": "stdout",
     "output_type": "stream",
     "text": [
      "(1, 2, 3, 4, 5)\n"
     ]
    }
   ],
   "source": [
    "new = [1, 2, 3, 4, 5]\n",
    "\n",
    "print(tuple(new))"
   ]
  },
  {
   "cell_type": "markdown",
   "id": "090dbc4a",
   "metadata": {},
   "source": [
    "#### 9. Unpack the elements of a tuple into variables."
   ]
  },
  {
   "cell_type": "code",
   "execution_count": 7,
   "id": "d32645d0",
   "metadata": {},
   "outputs": [
    {
     "name": "stdout",
     "output_type": "stream",
     "text": [
      "99 55 77\n"
     ]
    }
   ],
   "source": [
    "new = (99,55,77)\n",
    "\n",
    "a,b,c =new\n",
    "\n",
    "print(a,b,c)"
   ]
  },
  {
   "cell_type": "markdown",
   "id": "e541d866",
   "metadata": {},
   "source": [
    "#### 10. Create a tuple of even numbers from 1 to 10."
   ]
  },
  {
   "cell_type": "code",
   "execution_count": 8,
   "id": "6d09f3df",
   "metadata": {},
   "outputs": [
    {
     "name": "stdout",
     "output_type": "stream",
     "text": [
      "(2, 4, 6, 8, 10)\n"
     ]
    }
   ],
   "source": [
    "lst=[]\n",
    "for i in range(1,11):\n",
    "    if i %2 == 0:\n",
    "        lst.append(i)\n",
    "print(tuple(lst))"
   ]
  },
  {
   "cell_type": "markdown",
   "id": "8098686a",
   "metadata": {},
   "source": [
    "#### 11. Create a tuple of odd numbers from 1 to 10."
   ]
  },
  {
   "cell_type": "code",
   "execution_count": 9,
   "id": "a7851243",
   "metadata": {},
   "outputs": [
    {
     "name": "stdout",
     "output_type": "stream",
     "text": [
      "(1, 3, 5, 7, 9)\n"
     ]
    }
   ],
   "source": [
    "lst=[]\n",
    "for i in range(1,11):\n",
    "    if i %2 != 0:\n",
    "        lst.append(i)\n",
    "print(tuple(lst))"
   ]
  },
  {
   "cell_type": "markdown",
   "id": "37e1ceb5",
   "metadata": {},
   "source": [
    "#### 12. Concatenate two tuples."
   ]
  },
  {
   "cell_type": "code",
   "execution_count": 10,
   "id": "d244c021",
   "metadata": {},
   "outputs": [
    {
     "name": "stdout",
     "output_type": "stream",
     "text": [
      "(1, 2, 3, 4, 5, 6)\n"
     ]
    }
   ],
   "source": [
    "a=(1,2,3)\n",
    "b=(4,5,6)\n",
    "print(a+b)"
   ]
  },
  {
   "cell_type": "markdown",
   "id": "74788264",
   "metadata": {},
   "source": [
    "#### 13. Repeat a tuple three times."
   ]
  },
  {
   "cell_type": "code",
   "execution_count": 11,
   "id": "2d8b84a8",
   "metadata": {},
   "outputs": [
    {
     "name": "stdout",
     "output_type": "stream",
     "text": [
      "(1, 2, 3, 1, 2, 3, 1, 2, 3)\n"
     ]
    }
   ],
   "source": [
    "a=(1,2,3)\n",
    "\n",
    "print(a*3)"
   ]
  },
  {
   "cell_type": "markdown",
   "id": "0baa8159",
   "metadata": {},
   "source": [
    "#### 14. Check if a tuple is empty."
   ]
  },
  {
   "cell_type": "code",
   "execution_count": 14,
   "id": "6e215503",
   "metadata": {},
   "outputs": [
    {
     "name": "stdout",
     "output_type": "stream",
     "text": [
      "The tuple is empty\n"
     ]
    }
   ],
   "source": [
    "a_tuple = ()\n",
    "\n",
    "if not a_tuple:\n",
    "    print('The tuple is empty')\n",
    "else:\n",
    "    print('The tuple is not empty')"
   ]
  },
  {
   "cell_type": "markdown",
   "id": "03866e2b",
   "metadata": {},
   "source": [
    "#### 15. Create a nested tuple."
   ]
  },
  {
   "cell_type": "code",
   "execution_count": 21,
   "id": "f1f711aa",
   "metadata": {},
   "outputs": [
    {
     "name": "stdout",
     "output_type": "stream",
     "text": [
      "((34, 42, 21), (43, 125, 46), (457, 18, 49))\n"
     ]
    }
   ],
   "source": [
    "a_tuple = ((34,42,21),(43,125,46), (457,18,49))\n",
    "\n",
    "print(a_tuple)"
   ]
  },
  {
   "cell_type": "markdown",
   "id": "2a5ea1ea",
   "metadata": {},
   "source": [
    "#### 16. Access the first element of a nested tuple."
   ]
  },
  {
   "cell_type": "code",
   "execution_count": 18,
   "id": "033a0fa9",
   "metadata": {},
   "outputs": [
    {
     "name": "stdout",
     "output_type": "stream",
     "text": [
      "34\n"
     ]
    }
   ],
   "source": [
    "a_tuple = ((34,42,21),(43,125,46), (457,18,49))\n",
    "\n",
    "first_element= print(a_tuple[0][0])"
   ]
  },
  {
   "cell_type": "markdown",
   "id": "4135a562",
   "metadata": {},
   "source": [
    "#### 17. Create a tuple with a single element."
   ]
  },
  {
   "cell_type": "code",
   "execution_count": 20,
   "id": "84cec629",
   "metadata": {},
   "outputs": [
    {
     "name": "stdout",
     "output_type": "stream",
     "text": [
      "(1,)\n"
     ]
    }
   ],
   "source": [
    "a_tuple = (1,)\n",
    "\n",
    "print(a_tuple)"
   ]
  },
  {
   "cell_type": "markdown",
   "id": "7c809478",
   "metadata": {},
   "source": [
    "#### 18. Compare two tuples."
   ]
  },
  {
   "cell_type": "code",
   "execution_count": 26,
   "id": "736eb6e3",
   "metadata": {},
   "outputs": [
    {
     "name": "stdout",
     "output_type": "stream",
     "text": [
      "Tuples are not equal\n",
      "Tuples are not equal\n",
      "Tuple b is greater than a\n"
     ]
    }
   ],
   "source": [
    "a= (1,2,4)\n",
    "b=(3,4,5)\n",
    "\n",
    "# Check tuples are equal\n",
    "if a == b:\n",
    "    print('Tuples are equal')\n",
    "else:\n",
    "    print('Tuples are not equal')\n",
    "\n",
    "# Check tuples are not equal\n",
    "\n",
    "if a != b:\n",
    "    print('Tuples are not equal')\n",
    "else:\n",
    "    print('The Tuples are equal')\n",
    "    \n",
    "# Check tuples based on their elements\n",
    "\n",
    "if a<b:\n",
    "    print('Tuple b is greater than a')\n",
    "else:\n",
    "    print('Tuple b is less than a')\n",
    "\n"
   ]
  },
  {
   "cell_type": "markdown",
   "id": "5352602e",
   "metadata": {},
   "source": [
    "#### 19. Delete a tuple."
   ]
  },
  {
   "cell_type": "code",
   "execution_count": 31,
   "id": "69189f10",
   "metadata": {},
   "outputs": [],
   "source": [
    "a= (1,2,4)\n",
    "\n",
    "del a"
   ]
  },
  {
   "cell_type": "markdown",
   "id": "69e12e51",
   "metadata": {},
   "source": [
    "#### 20. Slice a tuple."
   ]
  },
  {
   "cell_type": "code",
   "execution_count": 35,
   "id": "51e0bf81",
   "metadata": {},
   "outputs": [
    {
     "name": "stdout",
     "output_type": "stream",
     "text": [
      "(3, 4, 5, 6, 7)\n"
     ]
    }
   ],
   "source": [
    "a=(1,2,3,4,5,6,7,8)\n",
    "\n",
    "print(a[2:7])"
   ]
  },
  {
   "cell_type": "markdown",
   "id": "5b72f1ca",
   "metadata": {},
   "source": [
    "#### 21. Find the maximum value in a tuple."
   ]
  },
  {
   "cell_type": "code",
   "execution_count": 39,
   "id": "313affe7",
   "metadata": {},
   "outputs": [
    {
     "name": "stdout",
     "output_type": "stream",
     "text": [
      "8\n"
     ]
    }
   ],
   "source": [
    "a=(1,2,3,4,5,6,7,8)\n",
    "\n",
    "print(max(a))"
   ]
  },
  {
   "cell_type": "markdown",
   "id": "e4b10ec2",
   "metadata": {},
   "source": [
    "#### 22. Find the minimum value in a tuple."
   ]
  },
  {
   "cell_type": "code",
   "execution_count": 40,
   "id": "69b0621a",
   "metadata": {},
   "outputs": [
    {
     "name": "stdout",
     "output_type": "stream",
     "text": [
      "1\n"
     ]
    }
   ],
   "source": [
    "a=(1,2,3,4,5,6,7,8)\n",
    "\n",
    "print(min(a))"
   ]
  },
  {
   "cell_type": "markdown",
   "id": "a39ea369",
   "metadata": {},
   "source": [
    "#### 23. Convert a string to a tuple of characters."
   ]
  },
  {
   "cell_type": "code",
   "execution_count": 41,
   "id": "89d2a9a0",
   "metadata": {},
   "outputs": [
    {
     "name": "stdout",
     "output_type": "stream",
     "text": [
      "('s', 'a', 'n', 'j', 'u', ' ', 'i', 's', ' ', 'm', 'l', ' ', 'e', 'n', 'g', 'i', 'n', 'e', 'e', 'r')\n"
     ]
    }
   ],
   "source": [
    "string = 'sanju is ml engineer'\n",
    "\n",
    "print(tuple(string))"
   ]
  },
  {
   "cell_type": "markdown",
   "id": "f288de76",
   "metadata": {},
   "source": [
    "#### 24. Convert a tuple of characters to a string."
   ]
  },
  {
   "cell_type": "code",
   "execution_count": 54,
   "id": "f3a1d135",
   "metadata": {},
   "outputs": [
    {
     "name": "stdout",
     "output_type": "stream",
     "text": [
      "sanju is ml engineer\n"
     ]
    }
   ],
   "source": [
    "a_tuple = ('s', 'a', 'n', 'j', 'u', ' ', 'i', 's', ' ', 'm', 'l', ' ', 'e', 'n', 'g', 'i', 'n', 'e', 'e', 'r')\n",
    "\n",
    "a = ''.join(a_tuple)\n",
    "\n",
    "print(a)"
   ]
  },
  {
   "cell_type": "markdown",
   "id": "1d0866f8",
   "metadata": {},
   "source": [
    "#### 25. Create a tuple from multiple data types."
   ]
  },
  {
   "cell_type": "code",
   "execution_count": 57,
   "id": "5d736b31",
   "metadata": {},
   "outputs": [
    {
     "name": "stdout",
     "output_type": "stream",
     "text": [
      "(5.9, 'Sanju', 99, False)\n"
     ]
    }
   ],
   "source": [
    "a = (5.9, 'Sanju', 99, False)\n",
    "\n",
    "print(a)"
   ]
  },
  {
   "cell_type": "markdown",
   "id": "465b1b9a",
   "metadata": {},
   "source": [
    "#### 26. Check if two tuples are identical."
   ]
  },
  {
   "cell_type": "code",
   "execution_count": 62,
   "id": "579937be",
   "metadata": {},
   "outputs": [
    {
     "name": "stdout",
     "output_type": "stream",
     "text": [
      "The two tuples are identical\n"
     ]
    }
   ],
   "source": [
    "a= (1,2,4)\n",
    "b=(1,2,4)\n",
    "\n",
    "if a == b:\n",
    "    print('The two tuples are identical')\n",
    "else:\n",
    "    print('They are not identical')"
   ]
  },
  {
   "cell_type": "markdown",
   "id": "384eacd2",
   "metadata": {},
   "source": [
    "#### 27. Sort the elements of a tuple."
   ]
  },
  {
   "cell_type": "code",
   "execution_count": 73,
   "id": "1c198602",
   "metadata": {},
   "outputs": [
    {
     "name": "stdout",
     "output_type": "stream",
     "text": [
      "(1, 3, 4, 5, 6, 7, 8)\n"
     ]
    }
   ],
   "source": [
    "a = (1,4,6,7,8,3,5)\n",
    "\n",
    "b=list(a)\n",
    "\n",
    "b.sort()\n",
    "\n",
    "print(tuple(b))"
   ]
  },
  {
   "cell_type": "markdown",
   "id": "392d5c1c",
   "metadata": {},
   "source": [
    "#### 28. Convert a tuple of integers to a tuple of strings."
   ]
  },
  {
   "cell_type": "code",
   "execution_count": 78,
   "id": "0c38f876",
   "metadata": {},
   "outputs": [
    {
     "name": "stdout",
     "output_type": "stream",
     "text": [
      "('1', '3', '4', '5', '6', '7', '8')\n"
     ]
    }
   ],
   "source": [
    "a = (1, 3, 4, 5, 6, 7, 8)\n",
    "\n",
    "tuple_of_strings=tuple(str(i) for i in a)\n",
    "\n",
    "print(tuple_of_strings)"
   ]
  },
  {
   "cell_type": "markdown",
   "id": "92675330",
   "metadata": {},
   "source": [
    "#### 29. Convert a tuple of strings to a tuple of integers."
   ]
  },
  {
   "cell_type": "code",
   "execution_count": 80,
   "id": "5643d6e6",
   "metadata": {},
   "outputs": [
    {
     "name": "stdout",
     "output_type": "stream",
     "text": [
      "(1, 3, 4, 5, 6, 7, 8)\n"
     ]
    }
   ],
   "source": [
    "a =('1', '3', '4', '5', '6', '7', '8')\n",
    "\n",
    "tuple_of_intergers = tuple(int(i) for i in a)\n",
    "\n",
    "print(tuple_of_intergers)"
   ]
  },
  {
   "cell_type": "markdown",
   "id": "f0952a0e",
   "metadata": {},
   "source": [
    "#### 30. Merge two tuples."
   ]
  },
  {
   "cell_type": "code",
   "execution_count": 81,
   "id": "f3f3b050",
   "metadata": {},
   "outputs": [
    {
     "name": "stdout",
     "output_type": "stream",
     "text": [
      "(1, 2, 4, 1, 2, 4)\n"
     ]
    }
   ],
   "source": [
    "a= (1,2,4)\n",
    "b=(1,2,4)\n",
    "\n",
    "print(a+b)"
   ]
  },
  {
   "cell_type": "markdown",
   "id": "d2641b1f",
   "metadata": {},
   "source": [
    "#### 31. Flatten a nested tuple."
   ]
  },
  {
   "cell_type": "code",
   "execution_count": 91,
   "id": "8f64c424",
   "metadata": {},
   "outputs": [
    {
     "name": "stdout",
     "output_type": "stream",
     "text": [
      "(34, 42, 21, 43, 125, 46, 457, 18, 49)\n"
     ]
    }
   ],
   "source": [
    "a_tuple = ((34,42,21),(43,125,46), (457,18,49))\n",
    "\n",
    "print(tuple(i for inner_tuple in a_tuple for i in inner_tuple))\n"
   ]
  },
  {
   "cell_type": "markdown",
   "id": "0a9e0b3d",
   "metadata": {},
   "source": [
    "#### 32. Create a tuple of the first 5 prime numbers."
   ]
  },
  {
   "cell_type": "code",
   "execution_count": 92,
   "id": "90908618",
   "metadata": {},
   "outputs": [
    {
     "name": "stdout",
     "output_type": "stream",
     "text": [
      "(2, 3, 5, 7, 11)\n"
     ]
    }
   ],
   "source": [
    "prime = (2,3,5,7,11)\n",
    "\n",
    "print(prime)"
   ]
  },
  {
   "cell_type": "markdown",
   "id": "be1dcdc0",
   "metadata": {},
   "source": [
    "#### 33. Check if a tuple is a palindrome."
   ]
  },
  {
   "cell_type": "code",
   "execution_count": 1,
   "id": "5a0c34cd",
   "metadata": {},
   "outputs": [
    {
     "name": "stdout",
     "output_type": "stream",
     "text": [
      "The tuple is palindrome\n"
     ]
    }
   ],
   "source": [
    "a_tuple =(1,2,3,2,1)\n",
    "\n",
    "lst = list(a_tuple)\n",
    "\n",
    "reversed_list = lst[::-1]\n",
    "\n",
    "if lst == reversed_list:\n",
    "    print('The tuple is palindrome')\n",
    "else:\n",
    "    print('The Tuple is not palindrome')"
   ]
  },
  {
   "cell_type": "markdown",
   "id": "5c517b6d",
   "metadata": {},
   "source": [
    "#### 34. Create a tuple of squares of numbers from 1 to 5."
   ]
  },
  {
   "cell_type": "code",
   "execution_count": 7,
   "id": "525e3c7f",
   "metadata": {},
   "outputs": [
    {
     "name": "stdout",
     "output_type": "stream",
     "text": [
      "(1, 4, 9, 16, 25)\n"
     ]
    }
   ],
   "source": [
    "a_tuple =(1,2,3,4,5)\n",
    "new = []\n",
    "for i in list(a_tuple):\n",
    "    new.append(i**2)\n",
    "print(tuple(new))"
   ]
  },
  {
   "cell_type": "markdown",
   "id": "48f47e75",
   "metadata": {},
   "source": [
    "#### 35. Filter out all even numbers from a tuple."
   ]
  },
  {
   "cell_type": "code",
   "execution_count": 9,
   "id": "edc43b3f",
   "metadata": {},
   "outputs": [
    {
     "name": "stdout",
     "output_type": "stream",
     "text": [
      "2,4,6,8,10,"
     ]
    }
   ],
   "source": [
    "a_tuple =(1,2,3,4,5,6,7,8,9,10)\n",
    "\n",
    "for i in a_tuple:\n",
    "    if i %2 == 0:\n",
    "        print(i, end=',')\n"
   ]
  },
  {
   "cell_type": "markdown",
   "id": "db3f4fd1",
   "metadata": {},
   "source": [
    "#### 36. Multiply all elements in a tuple by 2."
   ]
  },
  {
   "cell_type": "code",
   "execution_count": 15,
   "id": "d99edb99",
   "metadata": {},
   "outputs": [
    {
     "name": "stdout",
     "output_type": "stream",
     "text": [
      "(2, 4, 6, 8, 10, 12, 14, 16, 18, 20)\n"
     ]
    }
   ],
   "source": [
    "a_tuple =(1,2,3,4,5,6,7,8,9,10)\n",
    "\n",
    "multipled_2 = tuple(i*2 for i in a_tuple)\n",
    "\n",
    "print(multipled_2)"
   ]
  },
  {
   "cell_type": "markdown",
   "id": "3e91bb66",
   "metadata": {},
   "source": [
    "#### 37. Create a tuple of random numbers."
   ]
  },
  {
   "cell_type": "code",
   "execution_count": 29,
   "id": "6790a79e",
   "metadata": {},
   "outputs": [
    {
     "name": "stdout",
     "output_type": "stream",
     "text": [
      "(2, 3, 9, 8, 9, 7, 6, 7)\n"
     ]
    }
   ],
   "source": [
    "import random\n",
    "\n",
    "lower_limit = 1  \n",
    "upper_limit = 10\n",
    "tuple_size = 8\n",
    "\n",
    "random_numbers_tuple = tuple(random.randint(lower_limit, upper_limit) for i in range(tuple_size))\n",
    "\n",
    "print(random_numbers_tuple)"
   ]
  },
  {
   "cell_type": "markdown",
   "id": "1ba8467d",
   "metadata": {},
   "source": [
    "#### 38. Check if a tuple is sorted."
   ]
  },
  {
   "cell_type": "code",
   "execution_count": 35,
   "id": "7e6a5815",
   "metadata": {},
   "outputs": [
    {
     "name": "stdout",
     "output_type": "stream",
     "text": [
      "The tuple is sorted [1, 2, 3, 4, 5, 6, 7, 8, 9, 10]\n"
     ]
    }
   ],
   "source": [
    "a_tuple =(1,2,3,4,5,6,7,8,9,10)\n",
    "\n",
    "a_tuple = list(a_tuple)\n",
    "\n",
    "if a_tuple == sorted(tuple(a_tuple)):\n",
    "    print('The tuple is sorted', a_tuple)"
   ]
  },
  {
   "cell_type": "code",
   "execution_count": 40,
   "id": "c29c15d0",
   "metadata": {},
   "outputs": [
    {
     "name": "stdout",
     "output_type": "stream",
     "text": [
      "The tuple is not sorted\n"
     ]
    }
   ],
   "source": [
    "a_tuple =(1,2,3,4,89,6,7,8,9,10)\n",
    "\n",
    "if a_tuple == tuple(sorted(a_tuple)):\n",
    "    print('The tuple is sorted')\n",
    "else:\n",
    "    print('The tuple is not sorted')"
   ]
  },
  {
   "cell_type": "markdown",
   "id": "a0f0f187",
   "metadata": {},
   "source": [
    "#### 39. Rotate a tuple to the left by `n` positions."
   ]
  },
  {
   "cell_type": "code",
   "execution_count": 41,
   "id": "fc480362",
   "metadata": {},
   "outputs": [
    {
     "name": "stdout",
     "output_type": "stream",
     "text": [
      "(3, 4, 5, 6, 7, 8, 9, 10, 1, 2)\n"
     ]
    }
   ],
   "source": [
    "a_tuple = (1, 2, 3, 4, 5, 6, 7, 8, 9, 10)\n",
    "\n",
    "position = 2\n",
    "\n",
    "print(a_tuple[position:] + a_tuple[:position])"
   ]
  },
  {
   "cell_type": "markdown",
   "id": "add96268",
   "metadata": {},
   "source": [
    "#### 40. Rotate a tuple to the right by `n` positions."
   ]
  },
  {
   "cell_type": "code",
   "execution_count": 43,
   "id": "7b2f3e08",
   "metadata": {},
   "outputs": [
    {
     "name": "stdout",
     "output_type": "stream",
     "text": [
      "(9, 10, 1, 2, 3, 4, 5, 6, 7, 8)\n"
     ]
    }
   ],
   "source": [
    "a_tuple = (1, 2, 3, 4, 5, 6, 7, 8, 9, 10)\n",
    "\n",
    "position = 2\n",
    "\n",
    "print(a_tuple[-position:] + a_tuple[:-position])"
   ]
  },
  {
   "cell_type": "markdown",
   "id": "5253aff2",
   "metadata": {},
   "source": [
    "#### 41. Create a tuple of the first 5 Fibonacci numbers."
   ]
  },
  {
   "cell_type": "code",
   "execution_count": 6,
   "id": "6653f8c4",
   "metadata": {},
   "outputs": [
    {
     "name": "stdout",
     "output_type": "stream",
     "text": [
      "First 5 Fibonacci numbers: (0, 1, 1, 2, 3)\n"
     ]
    }
   ],
   "source": [
    "tuple_fibo = (0,1,1,2,3)\n",
    "\n",
    "print(\"First 5 Fibonacci numbers:\", tuple_fibo)"
   ]
  },
  {
   "cell_type": "markdown",
   "id": "3d0785d6",
   "metadata": {},
   "source": [
    "#### 42. Create a tuple from user input."
   ]
  },
  {
   "cell_type": "code",
   "execution_count": 9,
   "id": "a3f9b1f8",
   "metadata": {},
   "outputs": [
    {
     "name": "stdout",
     "output_type": "stream",
     "text": [
      "1,2,3,4,5,6\n",
      "<class 'tuple'>\n"
     ]
    }
   ],
   "source": [
    "a_tuple = tuple(input())\n",
    "print(type(a_tuple))"
   ]
  },
  {
   "cell_type": "markdown",
   "id": "cf031c23",
   "metadata": {},
   "source": [
    "#### 43. Swap two elements in a tuple."
   ]
  },
  {
   "cell_type": "code",
   "execution_count": 24,
   "id": "356e02d2",
   "metadata": {},
   "outputs": [
    {
     "name": "stdout",
     "output_type": "stream",
     "text": [
      "(0, 1, 1, 2, 3) \n",
      " (0, 1, 1, 3, 2)\n"
     ]
    }
   ],
   "source": [
    "oldtuple_= (0,1,1,2,3)\n",
    "\n",
    "element1 = 3\n",
    "element2 = 2\n",
    "\n",
    "new_tuple = tuple(element1 if i == element2 else (element2 if i == element1 else i) for i in oldtuple_)\n",
    "\n",
    "print(oldtuple_,'\\n',new_tuple)"
   ]
  },
  {
   "cell_type": "markdown",
   "id": "63ea7d5e",
   "metadata": {},
   "source": [
    "#### 44. Reverse the elements of a tuple."
   ]
  },
  {
   "cell_type": "code",
   "execution_count": 29,
   "id": "97e4ff3b",
   "metadata": {},
   "outputs": [
    {
     "name": "stdout",
     "output_type": "stream",
     "text": [
      "Reversed_tuple:  (3, 2, 1, 1, 0)\n"
     ]
    }
   ],
   "source": [
    "oldtuple_= (0,1,1,2,3)\n",
    "\n",
    "print('Reversed_tuple: ', oldtuple_[::-1])"
   ]
  },
  {
   "cell_type": "markdown",
   "id": "46efff56",
   "metadata": {},
   "source": [
    "#### 45. Create a tuple of the first `n` powers of 2."
   ]
  },
  {
   "cell_type": "code",
   "execution_count": 1,
   "id": "75920a79",
   "metadata": {},
   "outputs": [
    {
     "name": "stdout",
     "output_type": "stream",
     "text": [
      "(1, 2, 4, 8, 16, 32)\n",
      "1, 4, 16, 64, 256, 1024, "
     ]
    }
   ],
   "source": [
    "n = 6  \n",
    "powers_of_2_tuple = tuple(2 ** i for i in range(n))\n",
    "\n",
    "print(powers_of_2_tuple)\n",
    "\n",
    "for num in powers_of_2_tuple:\n",
    "    print(num ** 2, end=', ')\n"
   ]
  },
  {
   "cell_type": "markdown",
   "id": "1d1e8f32",
   "metadata": {},
   "source": [
    "#### 46. Find the longest string in a tuple of strings."
   ]
  },
  {
   "cell_type": "code",
   "execution_count": 50,
   "id": "e11dedd6",
   "metadata": {},
   "outputs": [
    {
     "name": "stdout",
     "output_type": "stream",
     "text": [
      "Engineer\n"
     ]
    }
   ],
   "source": [
    "tuple_str = ('sanju', 'is', 'a', 'ML', 'Engineer')\n",
    "\n",
    "longest_str = ''\n",
    "\n",
    "for i in tuple_str:\n",
    "    if len(i) > len(longest_str):\n",
    "        longest_str = i\n",
    "print(longest_str)"
   ]
  },
  {
   "cell_type": "markdown",
   "id": "f29fc9e0",
   "metadata": {},
   "source": [
    "#### 47. Find the shortest string in a tuple of strings."
   ]
  },
  {
   "cell_type": "code",
   "execution_count": 55,
   "id": "cccb6fa2",
   "metadata": {},
   "outputs": [
    {
     "name": "stdout",
     "output_type": "stream",
     "text": [
      "a\n"
     ]
    }
   ],
   "source": [
    "tuple_str = ('sanju','is','a','ML','Engineer')\n",
    "\n",
    "shortest_str = tuple_str[0]\n",
    "\n",
    "for i in tuple_str[1:]:\n",
    "    if len(i) < len(shortest_str):\n",
    "        shortest_str = i\n",
    "print(shortest_str)"
   ]
  },
  {
   "cell_type": "markdown",
   "id": "95d9ac1d",
   "metadata": {},
   "source": [
    "#### 48. Create a tuple of the first `n` triangular numbers."
   ]
  },
  {
   "cell_type": "code",
   "execution_count": 2,
   "id": "7d4acd45",
   "metadata": {},
   "outputs": [
    {
     "name": "stdout",
     "output_type": "stream",
     "text": [
      "(1, 3, 6, 10, 15)\n"
     ]
    }
   ],
   "source": [
    "n = 5 \n",
    "triangular_numbers = tuple((i * (i + 1)) // 2 for i in range(1, n + 1))\n",
    "print(triangular_numbers)"
   ]
  },
  {
   "cell_type": "markdown",
   "id": "90e0407e",
   "metadata": {},
   "source": [
    "#### 49. Check if a tuple contains another tuple as a subsequence."
   ]
  },
  {
   "cell_type": "code",
   "execution_count": 14,
   "id": "f816f82a",
   "metadata": {},
   "outputs": [
    {
     "name": "stdout",
     "output_type": "stream",
     "text": [
      "The tuple2 is a subsequence of tuple1\n"
     ]
    }
   ],
   "source": [
    "tuple1= ('sanju', 'is', 'ml', 'engineer')\n",
    "tuple2 = ('ml', 'engineer')\n",
    "\n",
    "if all(i in tuple1 for i in tuple2):\n",
    "    print('The tuple2 is a subsequence of tuple1')\n",
    "else:\n",
    "    print('The tuple2 is not a subsequence of tuple1')"
   ]
  },
  {
   "cell_type": "markdown",
   "id": "d2c08502",
   "metadata": {},
   "source": [
    "#### 50. Create a tuple of alternating 1s and 0s of length `n`"
   ]
  },
  {
   "cell_type": "code",
   "execution_count": 16,
   "id": "faf4ac4a",
   "metadata": {},
   "outputs": [
    {
     "name": "stdout",
     "output_type": "stream",
     "text": [
      "(1, 0, 1, 0, 1, 0, 1, 0, 1, 0)\n"
     ]
    }
   ],
   "source": [
    "n = 10\n",
    "\n",
    "a_tuple = tuple((1 if i % 2 == 0 else 0) for i in range(n))\n",
    "\n",
    "print(a_tuple)"
   ]
  },
  {
   "cell_type": "markdown",
   "id": "b0f7d4b8",
   "metadata": {},
   "source": [
    "#### Set based practice questions"
   ]
  },
  {
   "cell_type": "markdown",
   "id": "c35708bb",
   "metadata": {},
   "source": [
    "#### 1. Create a set with integers from 1 to 5."
   ]
  },
  {
   "cell_type": "code",
   "execution_count": 21,
   "id": "13a1e2b6",
   "metadata": {},
   "outputs": [
    {
     "name": "stdout",
     "output_type": "stream",
     "text": [
      "{1, 2, 3, 4, 5}\n"
     ]
    }
   ],
   "source": [
    "a = {1,2,3,4,5}\n",
    "\n",
    "print(a)"
   ]
  },
  {
   "cell_type": "markdown",
   "id": "d0134462",
   "metadata": {},
   "source": [
    "#### 2. Add an element to a set."
   ]
  },
  {
   "cell_type": "code",
   "execution_count": 23,
   "id": "b210ef50",
   "metadata": {},
   "outputs": [
    {
     "name": "stdout",
     "output_type": "stream",
     "text": [
      "{1, 2, 3, 4, 5, 6}\n"
     ]
    }
   ],
   "source": [
    "a = {1,2,3,4,5}\n",
    "\n",
    "a.add(6)\n",
    "\n",
    "print(a)"
   ]
  },
  {
   "cell_type": "markdown",
   "id": "19f7a0f1",
   "metadata": {},
   "source": [
    "#### 3. Remove an element from a set."
   ]
  },
  {
   "cell_type": "code",
   "execution_count": 24,
   "id": "28ec159b",
   "metadata": {},
   "outputs": [
    {
     "name": "stdout",
     "output_type": "stream",
     "text": [
      "{1, 2, 3, 4}\n"
     ]
    }
   ],
   "source": [
    "a = {1,2,3,4,5}\n",
    "\n",
    "a.remove(5)\n",
    "\n",
    "print(a)"
   ]
  },
  {
   "cell_type": "markdown",
   "id": "97756c7b",
   "metadata": {},
   "source": [
    "#### 4. Check if an element exists in a set."
   ]
  },
  {
   "cell_type": "code",
   "execution_count": 34,
   "id": "3699e04b",
   "metadata": {},
   "outputs": [
    {
     "name": "stdout",
     "output_type": "stream",
     "text": [
      "Element doesnt exists\n"
     ]
    }
   ],
   "source": [
    "a = {1,2,3,4,5}\n",
    "\n",
    "element =  10\n",
    "\n",
    "if element in a:\n",
    "    print('Element exists')\n",
    "else:\n",
    "    print('Element doesnt exists')"
   ]
  },
  {
   "cell_type": "markdown",
   "id": "d7205bf9",
   "metadata": {},
   "source": [
    "#### 5. Find the length of a set without using the `len()` function."
   ]
  },
  {
   "cell_type": "code",
   "execution_count": 44,
   "id": "a44f33e8",
   "metadata": {},
   "outputs": [
    {
     "name": "stdout",
     "output_type": "stream",
     "text": [
      "6\n"
     ]
    }
   ],
   "source": [
    "a = {1,2,3,4,5,6}\n",
    "\n",
    "length = 0\n",
    "\n",
    "for i in a:\n",
    "    length+=1\n",
    "print(length)"
   ]
  },
  {
   "cell_type": "markdown",
   "id": "c0473057",
   "metadata": {},
   "source": [
    "#### 6. Clear all elements from a set."
   ]
  },
  {
   "cell_type": "code",
   "execution_count": 46,
   "id": "937c444e",
   "metadata": {},
   "outputs": [
    {
     "name": "stdout",
     "output_type": "stream",
     "text": [
      "set()\n"
     ]
    }
   ],
   "source": [
    "a = {1,2,3,4,5,6}\n",
    "\n",
    "a.clear()\n",
    "\n",
    "print(a)"
   ]
  },
  {
   "cell_type": "markdown",
   "id": "688dc0c7",
   "metadata": {},
   "source": [
    "#### 7. Create a set of even numbers from 1 to 10."
   ]
  },
  {
   "cell_type": "code",
   "execution_count": 58,
   "id": "a9632cec",
   "metadata": {},
   "outputs": [
    {
     "name": "stdout",
     "output_type": "stream",
     "text": [
      "{0, 2, 4, 6, 8, 10}\n"
     ]
    }
   ],
   "source": [
    "even_number = {i:i for i in range(11) if i % 2 == 0}\n",
    "\n",
    "print(set(even_number))"
   ]
  },
  {
   "cell_type": "markdown",
   "id": "f041e43c",
   "metadata": {},
   "source": [
    "#### 8. Create a set of odd numbers from 1 to 10."
   ]
  },
  {
   "cell_type": "code",
   "execution_count": 59,
   "id": "52cb517e",
   "metadata": {},
   "outputs": [
    {
     "name": "stdout",
     "output_type": "stream",
     "text": [
      "{1, 3, 5, 7, 9}\n"
     ]
    }
   ],
   "source": [
    "odd_number = {i:i for i in range(11) if i % 2 != 0}\n",
    "\n",
    "print(set(odd_number))"
   ]
  },
  {
   "cell_type": "markdown",
   "id": "dec9c61c",
   "metadata": {},
   "source": [
    "#### 9. Find the union of two sets."
   ]
  },
  {
   "cell_type": "code",
   "execution_count": 62,
   "id": "d757334b",
   "metadata": {},
   "outputs": [
    {
     "name": "stdout",
     "output_type": "stream",
     "text": [
      "{1, 2, 3, 4, 5, 6, 7, 8}\n"
     ]
    }
   ],
   "source": [
    "a = {1,3,5,7}\n",
    "\n",
    "b = {2,4,6,8}\n",
    "\n",
    "print(a.union(b))"
   ]
  },
  {
   "cell_type": "markdown",
   "id": "49733660",
   "metadata": {},
   "source": [
    "#### 10. Find the intersection of two sets."
   ]
  },
  {
   "cell_type": "code",
   "execution_count": 63,
   "id": "828e5bbe",
   "metadata": {},
   "outputs": [
    {
     "name": "stdout",
     "output_type": "stream",
     "text": [
      "{8, 4}\n"
     ]
    }
   ],
   "source": [
    "a = {1,3,9,4,8}\n",
    "\n",
    "b = {2,4,6,8,10}\n",
    "\n",
    "print(a.intersection(b))"
   ]
  },
  {
   "cell_type": "markdown",
   "id": "60fb2651",
   "metadata": {},
   "source": [
    "#### 11. Find the difference between two sets."
   ]
  },
  {
   "cell_type": "code",
   "execution_count": 64,
   "id": "30352ac6",
   "metadata": {},
   "outputs": [
    {
     "name": "stdout",
     "output_type": "stream",
     "text": [
      "{1, 3, 9}\n"
     ]
    }
   ],
   "source": [
    "a = {1,3,9,4,8}\n",
    "\n",
    "b = {2,4,6,8,10}\n",
    "\n",
    "print(a.difference(b))"
   ]
  },
  {
   "cell_type": "markdown",
   "id": "6a1a5055",
   "metadata": {},
   "source": [
    "#### 12. Check if a set is a subset of another set."
   ]
  },
  {
   "cell_type": "code",
   "execution_count": 76,
   "id": "955e2320",
   "metadata": {},
   "outputs": [
    {
     "name": "stdout",
     "output_type": "stream",
     "text": [
      "B is a subset of A\n"
     ]
    }
   ],
   "source": [
    "a = {1,3,9}\n",
    "\n",
    "b = {1,3}\n",
    "\n",
    "if b.issubset(a):\n",
    "    print('B is a subset of A')\n",
    "else:\n",
    "    print('B is not a subset of A')"
   ]
  },
  {
   "cell_type": "markdown",
   "id": "5fc2a6fc",
   "metadata": {},
   "source": [
    "####  13. Check if a set is a superset of another set."
   ]
  },
  {
   "cell_type": "code",
   "execution_count": 77,
   "id": "e9538032",
   "metadata": {},
   "outputs": [
    {
     "name": "stdout",
     "output_type": "stream",
     "text": [
      "A is a superset of B\n"
     ]
    }
   ],
   "source": [
    "a = {1,3,9,4,8}\n",
    "\n",
    "b = {1,3}\n",
    "\n",
    "if a.issuperset(b):\n",
    "    print('A is a superset of B')\n",
    "else:\n",
    "    print('A is not a superset of B')"
   ]
  },
  {
   "cell_type": "markdown",
   "id": "9bbe4da9",
   "metadata": {},
   "source": [
    "#### 14. Create a set from a list."
   ]
  },
  {
   "cell_type": "code",
   "execution_count": 78,
   "id": "b4b227b6",
   "metadata": {},
   "outputs": [
    {
     "name": "stdout",
     "output_type": "stream",
     "text": [
      "{1, 3, 4, 8, 9}\n"
     ]
    }
   ],
   "source": [
    "a = [1,3,9,4,8]\n",
    "\n",
    "print(set(a))"
   ]
  },
  {
   "cell_type": "markdown",
   "id": "fd17be0a",
   "metadata": {},
   "source": [
    "#### 15. Convert a set to a list."
   ]
  },
  {
   "cell_type": "code",
   "execution_count": 79,
   "id": "667f524a",
   "metadata": {},
   "outputs": [
    {
     "name": "stdout",
     "output_type": "stream",
     "text": [
      "[1, 3, 4, 8, 9]\n"
     ]
    }
   ],
   "source": [
    "a = {1,3,9,4,8}\n",
    "\n",
    "print(list(a))"
   ]
  },
  {
   "cell_type": "markdown",
   "id": "5e303439",
   "metadata": {},
   "source": [
    "#### 16. Remove a random element from a set."
   ]
  },
  {
   "cell_type": "code",
   "execution_count": 110,
   "id": "ae9fdd35",
   "metadata": {},
   "outputs": [
    {
     "name": "stdout",
     "output_type": "stream",
     "text": [
      "{0, 1, 2, 3, 4, 5, 6, 7, 8}\n"
     ]
    }
   ],
   "source": [
    "import random\n",
    "random_element = random.randint(0,10)\n",
    "\n",
    "set_1 = set({i: i for i in range(0,10)})\n",
    "\n",
    "set_1.remove(random_element)\n",
    "\n",
    "print(set_1)"
   ]
  },
  {
   "cell_type": "markdown",
   "id": "3c80e0d7",
   "metadata": {},
   "source": [
    "#### 17. Pop an element from a set."
   ]
  },
  {
   "cell_type": "code",
   "execution_count": 116,
   "id": "1f8c301d",
   "metadata": {},
   "outputs": [
    {
     "name": "stdout",
     "output_type": "stream",
     "text": [
      "1\n"
     ]
    }
   ],
   "source": [
    "a = {1,3,9,4,8}\n",
    "\n",
    "print(a.pop())"
   ]
  },
  {
   "cell_type": "markdown",
   "id": "0e895aee",
   "metadata": {},
   "source": [
    "#### 18. Check if two sets have no elements in common."
   ]
  },
  {
   "cell_type": "code",
   "execution_count": 119,
   "id": "67606b33",
   "metadata": {},
   "outputs": [
    {
     "name": "stdout",
     "output_type": "stream",
     "text": [
      "They dont have common elements\n"
     ]
    }
   ],
   "source": [
    "a = {1,3,5,7}\n",
    "\n",
    "b = {1,4,6,8}\n",
    "\n",
    "if a not in b:\n",
    "    print('They dont have common elements')\n",
    "else:\n",
    "    print('They have common elements')"
   ]
  },
  {
   "cell_type": "markdown",
   "id": "98db505c",
   "metadata": {},
   "source": [
    "#### 19. Find the symmetric difference between two sets."
   ]
  },
  {
   "cell_type": "code",
   "execution_count": 123,
   "id": "d3f40234",
   "metadata": {},
   "outputs": [
    {
     "name": "stdout",
     "output_type": "stream",
     "text": [
      "{1, 2, 7, 8}\n"
     ]
    }
   ],
   "source": [
    "a = {2,4,6,7}\n",
    "\n",
    "b = {1,4,6,8}\n",
    "\n",
    "print(a.symmetric_difference(b))"
   ]
  },
  {
   "cell_type": "markdown",
   "id": "89622818",
   "metadata": {},
   "source": [
    "#### 20. Update a set with elements from another set."
   ]
  },
  {
   "cell_type": "code",
   "execution_count": 126,
   "id": "e6c1d9e6",
   "metadata": {},
   "outputs": [
    {
     "name": "stdout",
     "output_type": "stream",
     "text": [
      "{1, 2, 3, 4, 5, 6, 7, 8}\n"
     ]
    }
   ],
   "source": [
    "a = {1,3,5,7}\n",
    "\n",
    "b = {2,4,6,8}\n",
    "\n",
    "a.update(b)\n",
    "\n",
    "print(a)"
   ]
  },
  {
   "cell_type": "markdown",
   "id": "16746d13",
   "metadata": {},
   "source": [
    "#### 21. Create a set of the first 5 prime numbers."
   ]
  },
  {
   "cell_type": "code",
   "execution_count": 128,
   "id": "feac3aef",
   "metadata": {},
   "outputs": [
    {
     "name": "stdout",
     "output_type": "stream",
     "text": [
      "(2, 3, 5, 7, 11, 13, 17, 19, 23, 29, 31, 37, 41, 43, 47)\n"
     ]
    }
   ],
   "source": [
    "def prime_number(num):\n",
    "    if num < 2:\n",
    "        return False\n",
    "    for i in range(2, int(num**0.5) +1):\n",
    "        if num% i == 0:\n",
    "            return False\n",
    "    return True\n",
    "\n",
    "prime_number = tuple((num for num in range(2,51) if prime_number(num)))\n",
    "\n",
    "print(prime_number)"
   ]
  },
  {
   "cell_type": "markdown",
   "id": "5ab26949",
   "metadata": {},
   "source": [
    "#### 22. Check if two sets are identical."
   ]
  },
  {
   "cell_type": "code",
   "execution_count": 131,
   "id": "42d02d34",
   "metadata": {},
   "outputs": [
    {
     "name": "stdout",
     "output_type": "stream",
     "text": [
      "They are not Identical\n"
     ]
    }
   ],
   "source": [
    "a = {1,3,5,7}\n",
    "\n",
    "b = {2,4,6,8}\n",
    "\n",
    "if a == b:\n",
    "    print('The two sets are identical')\n",
    "else:\n",
    "    print('They are not Identical')"
   ]
  },
  {
   "cell_type": "markdown",
   "id": "3d93b097",
   "metadata": {},
   "source": [
    "#### 23. Create a frozen set."
   ]
  },
  {
   "cell_type": "code",
   "execution_count": 133,
   "id": "ac9e8d3f",
   "metadata": {},
   "outputs": [
    {
     "name": "stdout",
     "output_type": "stream",
     "text": [
      "frozenset({1, 2, 3, 4, 5})\n"
     ]
    }
   ],
   "source": [
    "a = frozenset([1,2,3,4,5])\n",
    "\n",
    "print(a)"
   ]
  },
  {
   "cell_type": "markdown",
   "id": "37b65cb2",
   "metadata": {},
   "source": [
    "#### 24. Check if a set is disjoint with another set."
   ]
  },
  {
   "cell_type": "code",
   "execution_count": 137,
   "id": "5f8ffe4f",
   "metadata": {},
   "outputs": [
    {
     "name": "stdout",
     "output_type": "stream",
     "text": [
      "set1 and set2 are disjoint.\n"
     ]
    }
   ],
   "source": [
    "a = {1,3,5,7}\n",
    "\n",
    "b = {2,4,6,8}\n",
    "\n",
    "disjoint = a.isdisjoint(b)\n",
    "\n",
    "if disjoint:\n",
    "    print(\"set1 and set2 are disjoint.\")\n",
    "else:\n",
    "    print(\"set1 and set2 have at least one common element.\")"
   ]
  },
  {
   "cell_type": "markdown",
   "id": "10ba0d48",
   "metadata": {},
   "source": [
    "#### 25. Create a set of squares of numbers from 1 to 5."
   ]
  },
  {
   "cell_type": "code",
   "execution_count": 140,
   "id": "9eab7b6a",
   "metadata": {},
   "outputs": [
    {
     "name": "stdout",
     "output_type": "stream",
     "text": [
      "{1, 4, 9, 16, 25}\n"
     ]
    }
   ],
   "source": [
    "a = {1,2,3,4,5}\n",
    "\n",
    "set_of_squares = {i**2 for i in a}\n",
    "\n",
    "print(set_of_squares)"
   ]
  },
  {
   "cell_type": "markdown",
   "id": "82336677",
   "metadata": {},
   "source": [
    "#### 26. Filter out all even numbers from a set."
   ]
  },
  {
   "cell_type": "code",
   "execution_count": 143,
   "id": "7e903b17",
   "metadata": {},
   "outputs": [
    {
     "name": "stdout",
     "output_type": "stream",
     "text": [
      "{2, 4, 6, 8, 10}\n"
     ]
    }
   ],
   "source": [
    "a = {1,2,3,4,5,6,7,8,9,10}\n",
    "\n",
    "even_number = set(filter(lambda x: x%2 == 0, a))\n",
    "\n",
    "print(even_number)"
   ]
  },
  {
   "cell_type": "markdown",
   "id": "6c84c259",
   "metadata": {},
   "source": [
    "#### 27. Multiply all elements in a set by 2."
   ]
  },
  {
   "cell_type": "code",
   "execution_count": 149,
   "id": "867f67c5",
   "metadata": {},
   "outputs": [
    {
     "data": {
      "text/plain": [
       "{2, 4, 6, 8, 10, 12, 14, 16, 18, 20}"
      ]
     },
     "execution_count": 149,
     "metadata": {},
     "output_type": "execute_result"
    }
   ],
   "source": [
    "a = {1,2,3,4,5,6,7,8,9,10}\n",
    "\n",
    "Multiple_2 = set(i*2 for i in a)\n",
    "\n",
    "Multiple_2"
   ]
  },
  {
   "cell_type": "markdown",
   "id": "5e2eaf2f",
   "metadata": {},
   "source": [
    "#### 28. Create a set of random numbers."
   ]
  },
  {
   "cell_type": "code",
   "execution_count": 158,
   "id": "c77e131c",
   "metadata": {},
   "outputs": [
    {
     "name": "stdout",
     "output_type": "stream",
     "text": [
      "{1, 2, 4, 9, 10, 12, 14, 19, 22, 23, 34, 39, 44, 47, 49, 55, 58, 59, 61, 68, 69, 73, 75, 79, 84, 85, 87, 90, 91}\n"
     ]
    }
   ],
   "source": [
    "import random\n",
    "\n",
    "start = 1\n",
    "end = 100\n",
    "size = 30\n",
    "\n",
    "new = set(random.randint(start, end) for i in range(size))\n",
    "          \n",
    "print(new)"
   ]
  },
  {
   "cell_type": "markdown",
   "id": "7690ef6f",
   "metadata": {},
   "source": [
    "#### 29. Check if a set is empty."
   ]
  },
  {
   "cell_type": "code",
   "execution_count": 159,
   "id": "20fa36ac",
   "metadata": {},
   "outputs": [
    {
     "name": "stdout",
     "output_type": "stream",
     "text": [
      "The set is empty\n"
     ]
    }
   ],
   "source": [
    "a = {}\n",
    "\n",
    "if len(a) == 0:\n",
    "    print('The set is empty')\n",
    "else:\n",
    "    print('The set is not empty')"
   ]
  },
  {
   "cell_type": "markdown",
   "id": "35ced8db",
   "metadata": {},
   "source": [
    "#### 30. Create a nested set (hint: use frozenset)."
   ]
  },
  {
   "cell_type": "code",
   "execution_count": 165,
   "id": "53bf0a9f",
   "metadata": {},
   "outputs": [
    {
     "name": "stdout",
     "output_type": "stream",
     "text": [
      "{frozenset({1, 2, 3, 4, 5, 6, 7})}\n"
     ]
    }
   ],
   "source": [
    "a = frozenset([1,2,3,4,5,6,7])\n",
    "\n",
    "nested_set = {a}\n",
    "\n",
    "print(nested_set)"
   ]
  },
  {
   "cell_type": "markdown",
   "id": "699a4785",
   "metadata": {},
   "source": [
    "#### 31. Remove an element from a set using the discard method"
   ]
  },
  {
   "cell_type": "code",
   "execution_count": 175,
   "id": "07143864",
   "metadata": {},
   "outputs": [
    {
     "name": "stdout",
     "output_type": "stream",
     "text": [
      "{1, 2, 3, 4, 5, 6, 7, 8, 10}\n"
     ]
    }
   ],
   "source": [
    "a = {1,2,3,4,5,6,7,8,9,10}\n",
    "\n",
    "a.discard(9)\n",
    "\n",
    "print(a)"
   ]
  },
  {
   "cell_type": "markdown",
   "id": "34b615b2",
   "metadata": {},
   "source": [
    "#### 32. Compare two sets."
   ]
  },
  {
   "cell_type": "code",
   "execution_count": 176,
   "id": "6d5d57df",
   "metadata": {},
   "outputs": [
    {
     "name": "stdout",
     "output_type": "stream",
     "text": [
      "Sets are not equal\n",
      "Sets are not equal\n",
      "Set b is less than a\n"
     ]
    }
   ],
   "source": [
    "a= {1,2,4}\n",
    "b={3,4,5}\n",
    "\n",
    "# Check sets are equal\n",
    "if a == b:\n",
    "    print('Sets are equal')\n",
    "else:\n",
    "    print('Sets are not equal')\n",
    "\n",
    "# Check sets are not equal\n",
    "\n",
    "if a != b:\n",
    "    print('Sets are not equal')\n",
    "else:\n",
    "    print('The Sets are equal')\n",
    "    \n",
    "# Check sets based on their elements\n",
    "\n",
    "if a<b:\n",
    "    print('Set b is greater than a')\n",
    "else:\n",
    "    print('Set b is less than a')\n"
   ]
  },
  {
   "cell_type": "markdown",
   "id": "7aa340fa",
   "metadata": {},
   "source": [
    "#### 33. Create a set from a string."
   ]
  },
  {
   "cell_type": "code",
   "execution_count": 180,
   "id": "9bea74dc",
   "metadata": {},
   "outputs": [
    {
     "name": "stdout",
     "output_type": "stream",
     "text": [
      "{'a', 's', 'j', 'u', 'n'}\n"
     ]
    }
   ],
   "source": [
    "string  = 'sanju'\n",
    "\n",
    "set1 = set(string)\n",
    "\n",
    "print(set1)"
   ]
  },
  {
   "cell_type": "markdown",
   "id": "190c9665",
   "metadata": {},
   "source": [
    "#### 34. Convert a set of strings to a set of integers."
   ]
  },
  {
   "cell_type": "code",
   "execution_count": 187,
   "id": "a0948aab",
   "metadata": {},
   "outputs": [
    {
     "name": "stdout",
     "output_type": "stream",
     "text": [
      "{1, 2, 3, 4, 5}\n"
     ]
    }
   ],
   "source": [
    "set_strings = {'1','2','3','4','5'}\n",
    "\n",
    "set_integers = set(int(i) for i in set_strings)\n",
    "\n",
    "print(set_integers)"
   ]
  },
  {
   "cell_type": "markdown",
   "id": "e34c4be5",
   "metadata": {},
   "source": [
    "#### 35. Convert a set of integers to a set of strings."
   ]
  },
  {
   "cell_type": "code",
   "execution_count": 188,
   "id": "b04acefd",
   "metadata": {},
   "outputs": [
    {
     "name": "stdout",
     "output_type": "stream",
     "text": [
      "{'3', '5', '4', '1', '2'}\n"
     ]
    }
   ],
   "source": [
    "set_integers = {1, 2, 3, 4, 5}\n",
    "\n",
    "set_strings = set(str(i) for i in set_integers)\n",
    "\n",
    "print(set_strings)"
   ]
  },
  {
   "cell_type": "markdown",
   "id": "1346ac3e",
   "metadata": {},
   "source": [
    "#### 36. Create a set from a tuple."
   ]
  },
  {
   "cell_type": "code",
   "execution_count": 195,
   "id": "f37d558e",
   "metadata": {},
   "outputs": [
    {
     "name": "stdout",
     "output_type": "stream",
     "text": [
      "{1, 2, 3, 4, 5}\n"
     ]
    }
   ],
   "source": [
    "tuple_ = (1,2,3,4,5)\n",
    "\n",
    "print(set(tuple_))"
   ]
  },
  {
   "cell_type": "markdown",
   "id": "1a364cb1",
   "metadata": {},
   "source": [
    "#### 37. Convert a set to a tuple."
   ]
  },
  {
   "cell_type": "code",
   "execution_count": 196,
   "id": "57dfd2e7",
   "metadata": {},
   "outputs": [
    {
     "name": "stdout",
     "output_type": "stream",
     "text": [
      "(1, 2, 3, 4, 5)\n"
     ]
    }
   ],
   "source": [
    "set_ = {1, 2, 3, 4, 5}\n",
    "\n",
    "print(tuple(set_))"
   ]
  },
  {
   "cell_type": "markdown",
   "id": "f92c5da5",
   "metadata": {},
   "source": [
    "#### 38. Find the maximum value in a set."
   ]
  },
  {
   "cell_type": "code",
   "execution_count": 201,
   "id": "6a73cae3",
   "metadata": {},
   "outputs": [
    {
     "name": "stdout",
     "output_type": "stream",
     "text": [
      "Maximum: 5\n"
     ]
    }
   ],
   "source": [
    "set_ = {1, 2, 3, 4, 5}\n",
    "\n",
    "print('Maximum:', max(set_))"
   ]
  },
  {
   "cell_type": "markdown",
   "id": "386a53eb",
   "metadata": {},
   "source": [
    "#### 39. Find the minimum value in a set."
   ]
  },
  {
   "cell_type": "code",
   "execution_count": 202,
   "id": "9820ee49",
   "metadata": {},
   "outputs": [
    {
     "name": "stdout",
     "output_type": "stream",
     "text": [
      "Minimum: 1\n"
     ]
    }
   ],
   "source": [
    "set_ = {1, 2, 3, 4, 5}\n",
    "\n",
    "print('Minimum:', min(set_))"
   ]
  },
  {
   "cell_type": "markdown",
   "id": "97c3ac75",
   "metadata": {},
   "source": [
    "#### 40. Create a set from user input."
   ]
  },
  {
   "cell_type": "code",
   "execution_count": 210,
   "id": "bf6d2abc",
   "metadata": {},
   "outputs": [
    {
     "name": "stdout",
     "output_type": "stream",
     "text": [
      "sanju\n",
      "{'a', 's', 'j', 'u', 'n'}\n"
     ]
    }
   ],
   "source": [
    "user_input = input()\n",
    "set_ = set()\n",
    "\n",
    "for i in user_input:\n",
    "    set_.add(i)\n",
    "print(set_)"
   ]
  },
  {
   "cell_type": "markdown",
   "id": "59045a66",
   "metadata": {},
   "source": [
    "#### 41. Check if the intersection of two sets is empty. "
   ]
  },
  {
   "cell_type": "code",
   "execution_count": 212,
   "id": "a11d5bcd",
   "metadata": {},
   "outputs": [
    {
     "name": "stdout",
     "output_type": "stream",
     "text": [
      "The set is empty\n"
     ]
    }
   ],
   "source": [
    "set1 = {1, 2, 3, 4, 5}\n",
    "\n",
    "set2 = {6,7,8,9,10}\n",
    "\n",
    "intersection = set1.intersection(set2)\n",
    "\n",
    "if intersection:\n",
    "    print('The set is not empty')\n",
    "else:\n",
    "    print('The set is empty')"
   ]
  },
  {
   "cell_type": "markdown",
   "id": "88554ac0",
   "metadata": {},
   "source": [
    "#### 42. Create a set of the first 5 Fibonacci numbers."
   ]
  },
  {
   "cell_type": "code",
   "execution_count": 220,
   "id": "f9fe1c1d",
   "metadata": {},
   "outputs": [
    {
     "name": "stdout",
     "output_type": "stream",
     "text": [
      "First 5 Fibonacci numbers: {0, 1, 2, 3, 5}\n"
     ]
    }
   ],
   "source": [
    "set_ = set()\n",
    "\n",
    "a,b = 0, 1\n",
    "\n",
    "for i in range(2, 8):\n",
    "    next_fibonacci = set_.add(a)\n",
    "    a,b = b, a+b\n",
    "\n",
    "print(\"First 5 Fibonacci numbers:\", set_)\n",
    "\n"
   ]
  },
  {
   "cell_type": "markdown",
   "id": "de4bd08d",
   "metadata": {},
   "source": [
    "#### 43. Remove duplicates from a list using sets."
   ]
  },
  {
   "cell_type": "code",
   "execution_count": 222,
   "id": "a39fc9bc",
   "metadata": {},
   "outputs": [
    {
     "name": "stdout",
     "output_type": "stream",
     "text": [
      "{1, 2, 3, 4, 5, 8, 9, 10, 12}\n"
     ]
    }
   ],
   "source": [
    "lst = [1, 2, 3, 4, 5, 4, 3, 2, 10, 9, 8, 12]\n",
    "\n",
    "print(set(lst))"
   ]
  },
  {
   "cell_type": "markdown",
   "id": "09ba6139",
   "metadata": {},
   "source": [
    "#### 44. Check if two sets have the same elements, regardless of their count."
   ]
  },
  {
   "cell_type": "code",
   "execution_count": 223,
   "id": "8c11c8e5",
   "metadata": {},
   "outputs": [
    {
     "name": "stdout",
     "output_type": "stream",
     "text": [
      "The sets have same elements\n"
     ]
    }
   ],
   "source": [
    "set1 = {1, 2, 3, 4, 5}\n",
    "\n",
    "set2 = {1,2,3,4,5}\n",
    "\n",
    "if set1 == set2:\n",
    "    print('The sets have same elements')\n",
    "else:\n",
    "    print('They have different elements')"
   ]
  },
  {
   "cell_type": "markdown",
   "id": "575d4e96",
   "metadata": {},
   "source": [
    "#### 45. Create a set of the first `n` powers of 2"
   ]
  },
  {
   "cell_type": "code",
   "execution_count": 3,
   "id": "b678a1f9",
   "metadata": {},
   "outputs": [
    {
     "name": "stdout",
     "output_type": "stream",
     "text": [
      "{32, 1, 2, 4, 8, 16}\n"
     ]
    }
   ],
   "source": [
    "n = 6  \n",
    "powers_of_2_set = set(2 ** i for i in range(n))\n",
    "\n",
    "print(powers_of_2_set)"
   ]
  },
  {
   "cell_type": "markdown",
   "id": "2c782207",
   "metadata": {},
   "source": [
    "#### 46. Find the common elements between a set and a list."
   ]
  },
  {
   "cell_type": "code",
   "execution_count": 5,
   "id": "885ba116",
   "metadata": {},
   "outputs": [
    {
     "name": "stdout",
     "output_type": "stream",
     "text": [
      "[1, 2, 3, 4, 5, 21]\n"
     ]
    }
   ],
   "source": [
    "lst = [1, 2, 3, 4, 5, 8,10,21]\n",
    "\n",
    "set1 = {1,2,3,4,5,34,21,12}\n",
    "\n",
    "common_element = [i for i in lst if i in set1]\n",
    "\n",
    "print(common_element)"
   ]
  },
  {
   "cell_type": "markdown",
   "id": "0daa0276",
   "metadata": {},
   "source": [
    "#### 47. Create a set of the first `n` triangular numbers"
   ]
  },
  {
   "cell_type": "code",
   "execution_count": 6,
   "id": "1c115c6d",
   "metadata": {},
   "outputs": [
    {
     "name": "stdout",
     "output_type": "stream",
     "text": [
      "{1, 3, 6, 10, 15}\n"
     ]
    }
   ],
   "source": [
    "n = 5 \n",
    "triangular_numbers = set((i * (i + 1)) // 2 for i in range(1, n + 1))\n",
    "print(triangular_numbers)"
   ]
  },
  {
   "cell_type": "markdown",
   "id": "9e89c69c",
   "metadata": {},
   "source": [
    "#### 48. Check if a set contains another set as a subset."
   ]
  },
  {
   "cell_type": "code",
   "execution_count": 9,
   "id": "f6bdcf23",
   "metadata": {},
   "outputs": [
    {
     "name": "stdout",
     "output_type": "stream",
     "text": [
      "The set2 is not a subset of set1\n"
     ]
    }
   ],
   "source": [
    "set1 = {1,2,3,4,5}\n",
    "set2 = {31,14}\n",
    "\n",
    "subset =set2.issubset(set1)\n",
    "\n",
    "if subset:\n",
    "    print('The set2 is a subset of set1')\n",
    "else:\n",
    "    print('The set2 is not a subset of set1')"
   ]
  },
  {
   "cell_type": "markdown",
   "id": "7697e73d",
   "metadata": {},
   "source": [
    "#### 49. Create a set of alternating 1s and 0s of length `n`."
   ]
  },
  {
   "cell_type": "code",
   "execution_count": 14,
   "id": "9ea3b482",
   "metadata": {},
   "outputs": [
    {
     "name": "stdout",
     "output_type": "stream",
     "text": [
      "{0, 1}\n"
     ]
    }
   ],
   "source": [
    "n = 10\n",
    "\n",
    "newset = set((1 if i %2 != 0 else 0) for i in range(n))\n",
    "\n",
    "print(newset)"
   ]
  },
  {
   "cell_type": "markdown",
   "id": "3fd0a490",
   "metadata": {},
   "source": [
    "#### 50. Merge multiple sets into one."
   ]
  },
  {
   "cell_type": "code",
   "execution_count": 23,
   "id": "99120a85",
   "metadata": {},
   "outputs": [
    {
     "name": "stdout",
     "output_type": "stream",
     "text": [
      "{1, 2, 3, 4, 5, 6, 7, 8, 9, 10, 11, 12}\n"
     ]
    }
   ],
   "source": [
    "a = {1,2,3,4}\n",
    "b = {5,6,7,8}\n",
    "c = {9,10,11,12}\n",
    "\n",
    "merge = a.union(b,c)\n",
    "\n",
    "print(merge)"
   ]
  },
  {
   "cell_type": "code",
   "execution_count": null,
   "id": "1c66eba6",
   "metadata": {},
   "outputs": [],
   "source": []
  }
 ],
 "metadata": {
  "kernelspec": {
   "display_name": "Python 3 (ipykernel)",
   "language": "python",
   "name": "python3"
  },
  "language_info": {
   "codemirror_mode": {
    "name": "ipython",
    "version": 3
   },
   "file_extension": ".py",
   "mimetype": "text/x-python",
   "name": "python",
   "nbconvert_exporter": "python",
   "pygments_lexer": "ipython3",
   "version": "3.9.13"
  }
 },
 "nbformat": 4,
 "nbformat_minor": 5
}

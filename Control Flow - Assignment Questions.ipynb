{
 "cells": [
  {
   "cell_type": "markdown",
   "id": "5ae02965",
   "metadata": {},
   "source": [
    "### Basic If-Else Statements: "
   ]
  },
  {
   "cell_type": "markdown",
   "id": "45648b61",
   "metadata": {},
   "source": [
    "#### 1. Write a Python program to check if a given number is positive or negative."
   ]
  },
  {
   "cell_type": "code",
   "execution_count": 1,
   "id": "ac6e0ee4",
   "metadata": {},
   "outputs": [
    {
     "name": "stdout",
     "output_type": "stream",
     "text": [
      "The number is negative\n"
     ]
    }
   ],
   "source": [
    "number = -10\n",
    "\n",
    "if number < 0:\n",
    "    print('The number is negative')\n",
    "else:\n",
    "    print('The number is positive')"
   ]
  },
  {
   "cell_type": "markdown",
   "id": "7ad98e3f",
   "metadata": {},
   "source": [
    "#### 2. Create a program that determines if a person is eligible to vote based on their age."
   ]
  },
  {
   "cell_type": "code",
   "execution_count": 8,
   "id": "712f3fe6",
   "metadata": {},
   "outputs": [
    {
     "name": "stdout",
     "output_type": "stream",
     "text": [
      "Please enter your age: 18\n",
      "You are eligible to vote now\n"
     ]
    }
   ],
   "source": [
    "Age = int(input('Please enter your age: '))\n",
    "\n",
    "if Age < 18:\n",
    "    print('You are not eligible for voting, please come back after {} year'.format(18 - Age))\n",
    "else:\n",
    "    print('You are eligible to vote now')"
   ]
  },
  {
   "cell_type": "markdown",
   "id": "3ee75ecd",
   "metadata": {},
   "source": [
    "#### 3. Develop a program to find the maximum of two numbers using if-else statements."
   ]
  },
  {
   "cell_type": "code",
   "execution_count": 9,
   "id": "a51c89e6",
   "metadata": {},
   "outputs": [
    {
     "name": "stdout",
     "output_type": "stream",
     "text": [
      "7\n",
      "8\n",
      "8\n"
     ]
    }
   ],
   "source": [
    "num1 = int(input())\n",
    "\n",
    "num2 = int(input())\n",
    "\n",
    "if num1 > num2:\n",
    "    print(num1)\n",
    "else:\n",
    "    print(num2)"
   ]
  },
  {
   "cell_type": "markdown",
   "id": "ebe2d34c",
   "metadata": {},
   "source": [
    "#### 4. Write a Python script to classify a given year as a leap year or not."
   ]
  },
  {
   "cell_type": "code",
   "execution_count": 10,
   "id": "7c8ed5f3",
   "metadata": {},
   "outputs": [
    {
     "name": "stdout",
     "output_type": "stream",
     "text": [
      "2004\n",
      "The year 2004 is leap year\n"
     ]
    }
   ],
   "source": [
    "year = int(input())\n",
    "\n",
    "if year % 4 == 0 or (year % 100 == 0 and year % 400 == 0):\n",
    "    print(f'The year {year} is leap year')\n",
    "else:\n",
    "    print('It is not leap year')"
   ]
  },
  {
   "cell_type": "markdown",
   "id": "19ef7aef",
   "metadata": {},
   "source": [
    "#### 5. Create a program that checks whether a character is a vowel or a consonant.\n"
   ]
  },
  {
   "cell_type": "code",
   "execution_count": 12,
   "id": "221e6293",
   "metadata": {},
   "outputs": [
    {
     "name": "stdout",
     "output_type": "stream",
     "text": [
      "a\n",
      "a is a vowel\n"
     ]
    }
   ],
   "source": [
    "char = input()\n",
    "vowels = 'aeiouAEIOU'\n",
    "\n",
    "if char.isalpha():\n",
    "    if char in vowels:\n",
    "        print(f'{char} is a vowel')\n",
    "    else:\n",
    "        print(f'{char} is not a vowel')"
   ]
  },
  {
   "cell_type": "markdown",
   "id": "6a8f9142",
   "metadata": {},
   "source": [
    "#### 6. Implement a program to determine whether a given number is even or odd."
   ]
  },
  {
   "cell_type": "code",
   "execution_count": 3,
   "id": "88c6b09e",
   "metadata": {},
   "outputs": [
    {
     "name": "stdout",
     "output_type": "stream",
     "text": [
      "The 34 is an even number\n"
     ]
    }
   ],
   "source": [
    "num = 34\n",
    "\n",
    "if num % 2 == 0:\n",
    "    print(f'The {num} is an even number')\n",
    "else:\n",
    "    print(f'The {num} is an odd number')"
   ]
  },
  {
   "cell_type": "markdown",
   "id": "cc7b1e9b",
   "metadata": {},
   "source": [
    "#### 7. Write a Python function to calculate the absolute value of a number without using the `abs()` function.`"
   ]
  },
  {
   "cell_type": "code",
   "execution_count": 4,
   "id": "c2c9529e",
   "metadata": {},
   "outputs": [
    {
     "name": "stdout",
     "output_type": "stream",
     "text": [
      "10\n"
     ]
    }
   ],
   "source": [
    "num = -10\n",
    "\n",
    "if num < 0:\n",
    "    num = -(num)\n",
    "    \n",
    "print(num)"
   ]
  },
  {
   "cell_type": "markdown",
   "id": "7c39e5cb",
   "metadata": {},
   "source": [
    "#### 8. Develop a program that determines the largest of three given numbers using if-else statements."
   ]
  },
  {
   "cell_type": "code",
   "execution_count": 1,
   "id": "bf49e5e4",
   "metadata": {},
   "outputs": [
    {
     "name": "stdout",
     "output_type": "stream",
     "text": [
      "110\n"
     ]
    }
   ],
   "source": [
    "num1 = 90\n",
    "num2 =80\n",
    "num3 = 110\n",
    "\n",
    "if num1>num2 and num1>num3:\n",
    "    print(num1)\n",
    "elif num2 >= num1 and num2 >= num3:\n",
    "    print(num2)\n",
    "else:\n",
    "    print(num3)"
   ]
  },
  {
   "cell_type": "markdown",
   "id": "8eb4ebb3",
   "metadata": {},
   "source": [
    "#### 9. Create a program that checks if a given string is a palindrome."
   ]
  },
  {
   "cell_type": "code",
   "execution_count": 4,
   "id": "7110823e",
   "metadata": {},
   "outputs": [
    {
     "name": "stdout",
     "output_type": "stream",
     "text": [
      "racecar is a Palindrome\n"
     ]
    }
   ],
   "source": [
    "string = 'racecar'\n",
    "\n",
    "if string == string[::-1]:\n",
    "    print(f'{string} is a Palindrome')"
   ]
  },
  {
   "cell_type": "markdown",
   "id": "ca48e02c",
   "metadata": {},
   "source": [
    "#### 10. Write a Python program to calculate the grade based on a student's scor"
   ]
  },
  {
   "cell_type": "code",
   "execution_count": 21,
   "id": "2250d381",
   "metadata": {},
   "outputs": [
    {
     "name": "stdout",
     "output_type": "stream",
     "text": [
      "Please enter your score: 55\n",
      "The Student grade is Pass Grade\n"
     ]
    }
   ],
   "source": [
    "student_score = int(input('Please enter your score: '))\n",
    "\n",
    "if student_score >= 85 and student_score < 100:\n",
    "    print('The Student grade is HD Grade')\n",
    "elif student_score >=75 and student_score <=84:\n",
    "    print('The Student grade is Distinction Grade')\n",
    "elif student_score >= 65 and student_score <= 74:\n",
    "    print('The Student grade is Credit Grade')\n",
    "elif student_score >= 50 and student_score <=64:\n",
    "    print('The Student grade is Pass Grade')\n",
    "else:\n",
    "    print('The Student grade is Fail Grade')"
   ]
  },
  {
   "cell_type": "markdown",
   "id": "1ef6895c",
   "metadata": {},
   "source": [
    "### Nested If-Else Statements:"
   ]
  },
  {
   "cell_type": "markdown",
   "id": "c1c70983",
   "metadata": {},
   "source": [
    "#### 11. Write a program to find the largest among three numbers using nested if-else statements."
   ]
  },
  {
   "cell_type": "code",
   "execution_count": null,
   "id": "53bda37b",
   "metadata": {},
   "outputs": [],
   "source": [
    "num1 = 90\n",
    "num2 =80\n",
    "num3 = 110\n",
    "\n",
    "if num1>num2 and num1>num3:\n",
    "    print(num1)\n",
    "elif num2 >= num1 and num2 >= num3:\n",
    "    print(num2)\n",
    "else:\n",
    "    print(num3)"
   ]
  },
  {
   "cell_type": "markdown",
   "id": "ea8e50e5",
   "metadata": {},
   "source": [
    "#### 12. Implement a program to determine if a triangle is equilateral, isosceles, or scalene."
   ]
  },
  {
   "cell_type": "code",
   "execution_count": 29,
   "id": "395447c2",
   "metadata": {},
   "outputs": [
    {
     "name": "stdout",
     "output_type": "stream",
     "text": [
      "5\n",
      "5\n",
      "8\n",
      "The Triangle is Isosceles Traingle\n"
     ]
    }
   ],
   "source": [
    "a= int(input())\n",
    "b = int(input())\n",
    "c = int(input())\n",
    "\n",
    "if a==b==c:\n",
    "    print('The Triangle is Equivalent Traingle')\n",
    "elif a==b or b==c or c==a:\n",
    "    print('The Triangle is Isosceles Traingle')\n",
    "else:\n",
    "    print('The Triangle is Scalene Traingle')"
   ]
  },
  {
   "cell_type": "markdown",
   "id": "dfa45200",
   "metadata": {},
   "source": [
    "#### 13. Develop a program that checks if a year is a leap year and also if it is a century year."
   ]
  },
  {
   "cell_type": "code",
   "execution_count": 38,
   "id": "b2a04de5",
   "metadata": {},
   "outputs": [
    {
     "name": "stdout",
     "output_type": "stream",
     "text": [
      "2000\n",
      "The 2000 year is a leap year also a century year\n"
     ]
    }
   ],
   "source": [
    "year = int(input())\n",
    "if ((year % 4 == 0 and year % 100 != 0) or (year % 400 == 0)) and (year % 100 == 0):\n",
    "    print(f'The {year} year is a leap year also a century year')\n",
    "elif (year % 4 == 0 and year % 100 != 0) or (year % 400 == 0):\n",
    "    print(f'The {year} is a leap year but not a century year')\n",
    "else:\n",
    "    print(f'The {year} is not a leap year and not a century year as well')"
   ]
  },
  {
   "cell_type": "markdown",
   "id": "36549eba",
   "metadata": {},
   "source": [
    "#### 14. Write a Python script to determine if a number is positive, negative, or zero."
   ]
  },
  {
   "cell_type": "code",
   "execution_count": 42,
   "id": "410a5457",
   "metadata": {},
   "outputs": [
    {
     "name": "stdout",
     "output_type": "stream",
     "text": [
      "-5\n",
      "The -5 is negative number\n"
     ]
    }
   ],
   "source": [
    "num = int(input())\n",
    "\n",
    "if num<0:\n",
    "    print(f'The {num} is negative number')\n",
    "elif num>0:\n",
    "    print(f'The {num} is Positive number')\n",
    "elif num == 0:\n",
    "    print(f'The {num} is Zero')"
   ]
  },
  {
   "cell_type": "markdown",
   "id": "a017c149",
   "metadata": {},
   "source": [
    "#### 15. Create a program to check if a person is a teenager (between 13 and 19 years old)."
   ]
  },
  {
   "cell_type": "code",
   "execution_count": 53,
   "id": "e8675517",
   "metadata": {},
   "outputs": [
    {
     "name": "stdout",
     "output_type": "stream",
     "text": [
      "Please Enter your age: 19\n",
      "You are a Teenager\n"
     ]
    }
   ],
   "source": [
    "person_age = int(input('Please Enter your age: '))\n",
    "\n",
    "if person_age >= 13 and person_age <=19:\n",
    "    print('You are a Teenager')\n",
    "else:\n",
    "    print('No you are not a Teenager')"
   ]
  },
  {
   "cell_type": "markdown",
   "id": "5b5d87c9",
   "metadata": {},
   "source": [
    "#### 16. Develop a program that determines the type of angle based on its measure (acute, obtuse, or right)."
   ]
  },
  {
   "cell_type": "code",
   "execution_count": 61,
   "id": "89fcc1be",
   "metadata": {},
   "outputs": [
    {
     "name": "stdout",
     "output_type": "stream",
     "text": [
      "Please enter any angle degree: 90\n",
      "It is a Right Angle\n"
     ]
    }
   ],
   "source": [
    "angle = int(input('Please enter any angle degree: '))\n",
    "\n",
    "if angle <90 and angle >=0:\n",
    "    print('It is a Acute Angle')\n",
    "elif angle ==90:\n",
    "    print('It is a Right Angle')\n",
    "elif angle > 90:\n",
    "    print('It is a obtuse angle')\n",
    "else:\n",
    "    print('Please enter the proper angle')"
   ]
  },
  {
   "cell_type": "markdown",
   "id": "5d8c2f8b",
   "metadata": {},
   "source": [
    "#### 17. Write a Python program to calculate the roots of a quadratic equation."
   ]
  },
  {
   "cell_type": "code",
   "execution_count": 1,
   "id": "4988c0dc",
   "metadata": {},
   "outputs": [],
   "source": [
    "import math"
   ]
  },
  {
   "cell_type": "code",
   "execution_count": 9,
   "id": "32490959",
   "metadata": {},
   "outputs": [
    {
     "name": "stdout",
     "output_type": "stream",
     "text": [
      "8\n",
      "7\n",
      "5\n",
      "-0.4375 0.6584783595532961\n"
     ]
    }
   ],
   "source": [
    "a = int(input())\n",
    "b= int(input())\n",
    "c =int(input())\n",
    "\n",
    "determinant = b**2 - 4*a*c\n",
    "\n",
    "if determinant > 0:\n",
    "    root1 = (-b+math.sqrt(determinant))/2*a\n",
    "    root2 = (-b-math.sqrt(determinant))/2*a\n",
    "    print(root1, root2)\n",
    "    \n",
    "elif determinant == 0:\n",
    "    root = -b/(2*a)\n",
    "    print(root)\n",
    "    \n",
    "else:\n",
    "    real_part = -b/(2*a)\n",
    "    imaginary_part = math.sqrt(abs(determinant))/(2*a)\n",
    "    print(real_part, imaginary_part)"
   ]
  },
  {
   "cell_type": "markdown",
   "id": "08a39efc",
   "metadata": {},
   "source": [
    "#### 18. Implement a program to determine the day of the week based on a user-provided number (1 for Monday, 2 for Tuesday, etc.)."
   ]
  },
  {
   "cell_type": "code",
   "execution_count": 12,
   "id": "11688001",
   "metadata": {},
   "outputs": [
    {
     "name": "stdout",
     "output_type": "stream",
     "text": [
      "4\n",
      "It is a Thursday\n"
     ]
    }
   ],
   "source": [
    "number = int(input())\n",
    "\n",
    "day= ['Monday', 'Tuesday', 'Wednesday', 'Thursday', 'Friday', 'Saturday', 'Sunday']\n",
    "\n",
    "\n",
    "if number == 1:\n",
    "    print(f'It is a {day[0]}')\n",
    "elif number == 2:\n",
    "    print(f'It is a {day[1]}')\n",
    "elif number == 3:\n",
    "    print(f'It is a {day[2]}')\n",
    "elif number == 4:\n",
    "    print(f'It is a {day[3]}')\n",
    "elif number  == 5:\n",
    "    print(f'It is a {day[4]}')\n",
    "elif number == 6:\n",
    "    print(f'It is a {day[5]}')\n",
    "elif number ==7:\n",
    "    print(f'It is a {day[6]}')\n",
    "else:\n",
    "    print('Please enter the number between 1 to 7')"
   ]
  },
  {
   "cell_type": "markdown",
   "id": "4795f584",
   "metadata": {},
   "source": [
    "#### 19. Create a program that determines if a year is a leap year and also if it is evenly divisible by 400."
   ]
  },
  {
   "cell_type": "code",
   "execution_count": 14,
   "id": "6a7cd016",
   "metadata": {},
   "outputs": [
    {
     "name": "stdout",
     "output_type": "stream",
     "text": [
      "2000\n",
      "It is a leap year\n",
      "The Year is evenly divisible by 400\n"
     ]
    }
   ],
   "source": [
    "year = int(input())\n",
    "if ((year % 4 == 0 and year % 100 != 0) or (year % 400 == 0)) :\n",
    "    print('It is a leap year')\n",
    "else:\n",
    "    print('It is not a leap year')\n",
    "    \n",
    "if year % 400 == 0:\n",
    "    print('The Year is evenly divisible by 400')\n",
    "else:\n",
    "    print('The Year is not evenly divisible by 400')"
   ]
  },
  {
   "cell_type": "markdown",
   "id": "04cd35b8",
   "metadata": {},
   "source": [
    "#### 20. Develop a program that checks if a given number is prime or not using nested if-else statements."
   ]
  },
  {
   "cell_type": "code",
   "execution_count": 16,
   "id": "0c345cf9",
   "metadata": {},
   "outputs": [
    {
     "name": "stdout",
     "output_type": "stream",
     "text": [
      "Enter a number: 5\n",
      "5 is a prime number.\n"
     ]
    }
   ],
   "source": [
    "def prime(number):\n",
    "    if number < 2:\n",
    "        return False\n",
    "    elif number == 2:\n",
    "        return True\n",
    "    elif number % 2 == 0:\n",
    "        return False\n",
    "    else:\n",
    "        sqrt_num = int(number**0.5) + 1\n",
    "        for i in range(3, sqrt_num, 2):\n",
    "            if number % i == 0:\n",
    "                return False\n",
    "        return True\n",
    "\n",
    "num = int(input(\"Enter a number: \"))\n",
    "\n",
    "if prime(num):\n",
    "    print(f\"{num} is a prime number.\")\n",
    "else:\n",
    "    print(f\"{num} is not a prime number.\")\n"
   ]
  },
  {
   "cell_type": "markdown",
   "id": "db94b95b",
   "metadata": {},
   "source": [
    "### Elif Statements:"
   ]
  },
  {
   "cell_type": "markdown",
   "id": "00ef035a",
   "metadata": {},
   "source": [
    "#### 21. Write a Python program to assign grades based on different ranges of scores using elif statements."
   ]
  },
  {
   "cell_type": "code",
   "execution_count": 1,
   "id": "2feccad0",
   "metadata": {},
   "outputs": [
    {
     "name": "stdout",
     "output_type": "stream",
     "text": [
      "Enter the score: 95\n",
      "The grade is: A\n"
     ]
    }
   ],
   "source": [
    "def grade(score):\n",
    "    if score >= 90:\n",
    "        return 'A'\n",
    "    elif score >= 80:\n",
    "        return 'B'\n",
    "    elif score >= 70:\n",
    "        return 'C'\n",
    "    elif score >= 60:\n",
    "        return 'D'\n",
    "    else:\n",
    "        return 'F'\n",
    "\n",
    "Score = float(input(\"Enter the score: \"))\n",
    "Grade = grade(Score)\n",
    "print(f\"The grade is: {Grade}\")"
   ]
  },
  {
   "cell_type": "markdown",
   "id": "6384d19b",
   "metadata": {},
   "source": [
    "#### 22. Implement a program to determine the type of a triangle based on its angles."
   ]
  },
  {
   "cell_type": "code",
   "execution_count": 11,
   "id": "c3629530",
   "metadata": {},
   "outputs": [
    {
     "name": "stdout",
     "output_type": "stream",
     "text": [
      "Enter the first angle: 90\n",
      "Enter the second angle: 90\n",
      "Enter the third angle: 120\n",
      "The triangle is: Isosceles Triangle\n"
     ]
    }
   ],
   "source": [
    "def triangle(angle1, angle2, angle3):\n",
    "    if angle1 == angle2 == angle3:\n",
    "        return \"Equilateral Triangle\"\n",
    "    elif angle1 == angle2 or angle2 == angle3 or angle1 == angle3:\n",
    "        return \"Isosceles Triangle\"\n",
    "    else:\n",
    "        return \"Scalene Triangle\"\n",
    "\n",
    "angle1 = int(input(\"Enter the first angle: \"))\n",
    "angle2 = int(input(\"Enter the second angle: \"))\n",
    "angle3 = int(input(\"Enter the third angle: \"))\n",
    "\n",
    "result = triangle(angle1, angle2, angle3)\n",
    "print(f\"The triangle is: {result}\")"
   ]
  },
  {
   "cell_type": "markdown",
   "id": "55f3b18e",
   "metadata": {},
   "source": [
    "#### 23. Develop a program to categorize a given person's BMI into underweight, normal, overweight, or obese using  elif statements."
   ]
  },
  {
   "cell_type": "code",
   "execution_count": 2,
   "id": "b38e2ed5",
   "metadata": {},
   "outputs": [
    {
     "name": "stdout",
     "output_type": "stream",
     "text": [
      "Enter weight in kg: 78\n",
      "Enter height in meters: 54.86\n",
      "The BMI is 0.03, which is categorized as Underweight\n"
     ]
    }
   ],
   "source": [
    "def bmi1(bmi):\n",
    "    if bmi < 18.5:\n",
    "        return \"Underweight\"\n",
    "    elif 18.5 <= bmi < 24.9:\n",
    "        return \"Normal Weight\"\n",
    "    elif 25 <= bmi < 29.9:\n",
    "        return \"Overweight\"\n",
    "    else:\n",
    "        return \"Obese\"\n",
    "\n",
    "weight = float(input(\"Enter weight in kg: \"))\n",
    "height = float(input(\"Enter height in meters: \"))\n",
    "\n",
    "bmi = weight / (height**2)\n",
    "category = bmi1(bmi)\n",
    "\n",
    "print(f\"The BMI is {bmi:.2f}, which is categorized as {category}\")"
   ]
  },
  {
   "cell_type": "markdown",
   "id": "efb2bdd9",
   "metadata": {},
   "source": [
    "#### 24. Create a program that determines whether a given number is positive, negative, or zero using elif statements.\n"
   ]
  },
  {
   "cell_type": "code",
   "execution_count": 4,
   "id": "133e1996",
   "metadata": {},
   "outputs": [
    {
     "name": "stdout",
     "output_type": "stream",
     "text": [
      "Enter a number: -1\n",
      "The number is Negative\n"
     ]
    }
   ],
   "source": [
    "def number_type(number):\n",
    "    if number > 0:\n",
    "        return \"Positive\"\n",
    "    elif number < 0:\n",
    "        return \"Negative\"\n",
    "    else:\n",
    "        return \"Zero\"\n",
    "\n",
    "num = float(input(\"Enter a number: \"))\n",
    "result = number_type(num)\n",
    "print(f\"The number is {result}\")"
   ]
  },
  {
   "cell_type": "markdown",
   "id": "b9ad35e1",
   "metadata": {},
   "source": [
    "#### 25. Write a Python script to determine the type of a character (uppercase, lowercase, or special) using elif statements."
   ]
  },
  {
   "cell_type": "code",
   "execution_count": 5,
   "id": "7629c006",
   "metadata": {},
   "outputs": [
    {
     "name": "stdout",
     "output_type": "stream",
     "text": [
      "Enter a character: U\n",
      "The character is a Uppercase Letter\n"
     ]
    }
   ],
   "source": [
    "def char_type(char):\n",
    "    if char.isalpha():\n",
    "        if char.isupper():\n",
    "            return \"Uppercase Letter\"\n",
    "        else:\n",
    "            return \"Lowercase Letter\"\n",
    "    else:\n",
    "        return \"Special Character\"\n",
    "\n",
    "character = input(\"Enter a character: \")\n",
    "result = char_type(character)\n",
    "print(f\"The character is a {result}\")"
   ]
  },
  {
   "cell_type": "markdown",
   "id": "b8c7dcb6",
   "metadata": {},
   "source": [
    "#### 26. Implement a program to calculate the discounted price based on different purchase amounts using elif statements."
   ]
  },
  {
   "cell_type": "code",
   "execution_count": 7,
   "id": "aa879bb2",
   "metadata": {},
   "outputs": [
    {
     "name": "stdout",
     "output_type": "stream",
     "text": [
      "Enter the purchase amount: 1500\n",
      "The final price after discount is: 1350.00\n"
     ]
    }
   ],
   "source": [
    "def discounted_price(amount):\n",
    "    if amount >= 1000:\n",
    "        discount = 0.1 * amount\n",
    "    elif amount >= 500:\n",
    "        discount = 0.05 * amount\n",
    "    else:\n",
    "        discount = 0\n",
    "    discounted_price = amount - discount\n",
    "    return discounted_price\n",
    "\n",
    "purchase_amount = float(input(\"Enter the purchase amount: \"))\n",
    "final_price = discounted_price(purchase_amount)\n",
    "print(f\"The final price after discount is: {final_price:.2f}\")"
   ]
  },
  {
   "cell_type": "markdown",
   "id": "e4026935",
   "metadata": {},
   "source": [
    "#### 27. Develop a program to calculate the electricity bill based on different consumption slabs using elif statements."
   ]
  },
  {
   "cell_type": "code",
   "execution_count": 8,
   "id": "824ee4fe",
   "metadata": {},
   "outputs": [
    {
     "name": "stdout",
     "output_type": "stream",
     "text": [
      "Enter the number of units consumed: 50\n",
      "The total electricity bill is: 25.00\n"
     ]
    }
   ],
   "source": [
    "def calculate_electricity_bill(units):\n",
    "    if units <= 50:\n",
    "        bill = units * 0.50\n",
    "    elif units <= 150:\n",
    "        bill = 50 + (units - 50) * 0.75\n",
    "    elif units <= 250:\n",
    "        bill = 100 + (units - 150) * 1.20\n",
    "    else:\n",
    "        bill = 220 + (units - 250) * 1.50\n",
    "    return bill\n",
    "\n",
    "consumed_units = float(input(\"Enter the number of units consumed: \"))\n",
    "total_bill = calculate_electricity_bill(consumed_units)\n",
    "print(f\"The total electricity bill is: {total_bill:.2f}\")\n"
   ]
  },
  {
   "cell_type": "markdown",
   "id": "ec155e6a",
   "metadata": {},
   "source": [
    "#### 28. Create a program to determine the type of quadrilateral based on its angles and sides using elif statements."
   ]
  },
  {
   "cell_type": "code",
   "execution_count": 10,
   "id": "5cf44920",
   "metadata": {},
   "outputs": [
    {
     "name": "stdout",
     "output_type": "stream",
     "text": [
      "Enter side 1: 10\n",
      "Enter side 2: 15\n",
      "Enter side 3: 10\n",
      "Enter side 4: 15\n",
      "Enter angle 1: 90\n",
      "Enter angle 2: 90\n",
      "Enter angle 3: 180\n",
      "Enter angle 4: 180\n",
      "The quadrilateral is a Quadrilateral\n"
     ]
    }
   ],
   "source": [
    "def quadrilateral_type(sides, angles):\n",
    "    if all(sides[i] == sides[i+1] for i in range(len(sides)-1)):\n",
    "        return \"Square\"\n",
    "    elif angles[0] == angles[1] == angles[2] == angles[3] == 90:\n",
    "        return \"Rectangle\"\n",
    "    elif angles[0] == angles[1] == angles[2] == angles[3] and sum(angles) == 360:\n",
    "        return \"Rhombus\"\n",
    "    else:\n",
    "        return \"Quadrilateral\"\n",
    "\n",
    "sides = [float(input(f\"Enter side {i+1}: \")) for i in range(4)]\n",
    "angles = [int(input(f\"Enter angle {i+1}: \")) for i in range(4)]\n",
    "\n",
    "result = quadrilateral_type(sides, angles)\n",
    "print(f\"The quadrilateral is a {result}\")"
   ]
  },
  {
   "cell_type": "markdown",
   "id": "60275f41",
   "metadata": {},
   "source": [
    "#### 29. Write a Python script to determine the season based on a user-provided month using elif statements."
   ]
  },
  {
   "cell_type": "code",
   "execution_count": 11,
   "id": "8f67d55c",
   "metadata": {},
   "outputs": [
    {
     "name": "stdout",
     "output_type": "stream",
     "text": [
      "Enter the month (as a number): 5\n",
      "The season is: Spring\n"
     ]
    }
   ],
   "source": [
    "def determine_season(month):\n",
    "    if month in [12, 1, 2]:\n",
    "        return \"Winter\"\n",
    "    elif month in [3, 4, 5]:\n",
    "        return \"Spring\"\n",
    "    elif month in [6, 7, 8]:\n",
    "        return \"Summer\"\n",
    "    elif month in [9, 10, 11]:\n",
    "        return \"Autumn\"\n",
    "    else:\n",
    "        return \"Invalid Month\"\n",
    "\n",
    "user_month = int(input(\"Enter the month (as a number): \"))\n",
    "season = determine_season(user_month)\n",
    "print(f\"The season is: {season}\")"
   ]
  },
  {
   "cell_type": "markdown",
   "id": "3ddec6c4",
   "metadata": {},
   "source": [
    "#### 30. Implement a program to determine the type of a year (leap or common) and month (30 or 31 days) using elif statements"
   ]
  },
  {
   "cell_type": "code",
   "execution_count": 12,
   "id": "daef4453",
   "metadata": {},
   "outputs": [
    {
     "name": "stdout",
     "output_type": "stream",
     "text": [
      "Enter the year: 2005\n",
      "Enter the month (as a number): 12\n",
      "The year is a Common Year and the month has 31 days.\n"
     ]
    }
   ],
   "source": [
    "def determine_year_and_month(year, month):\n",
    "    if year % 4 == 0 and (year % 100 != 0 or year % 400 == 0):\n",
    "        year_type = \"Leap Year\"\n",
    "    else:\n",
    "        year_type = \"Common Year\"\n",
    "\n",
    "    if month in [4, 6, 9, 11]:\n",
    "        days_in_month = 30\n",
    "    elif month == 2:\n",
    "        if year_type == \"Leap Year\":\n",
    "            days_in_month = 29\n",
    "        else:\n",
    "            days_in_month = 28\n",
    "    else:\n",
    "        days_in_month = 31\n",
    "\n",
    "    return year_type, days_in_month\n",
    "\n",
    "user_year = int(input(\"Enter the year: \"))\n",
    "user_month = int(input(\"Enter the month (as a number): \"))\n",
    "\n",
    "year_type, days_in_month = determine_year_and_month(user_year, user_month)\n",
    "print(f\"The year is a {year_type} and the month has {days_in_month} days.\")\n"
   ]
  },
  {
   "cell_type": "markdown",
   "id": "68d69dd2",
   "metadata": {},
   "source": [
    "### Basic"
   ]
  },
  {
   "cell_type": "markdown",
   "id": "7036fb5b",
   "metadata": {},
   "source": [
    "#### 1. Write a Python program that checks if a given number is positive, negative, or zero."
   ]
  },
  {
   "cell_type": "code",
   "execution_count": 13,
   "id": "944dacb2",
   "metadata": {},
   "outputs": [
    {
     "name": "stdout",
     "output_type": "stream",
     "text": [
      "Enter a number: 5\n",
      "The number is Positive\n"
     ]
    }
   ],
   "source": [
    "def check_number(number):\n",
    "    if number > 0:\n",
    "        return \"Positive\"\n",
    "    elif number < 0:\n",
    "        return \"Negative\"\n",
    "    else:\n",
    "        return \"Zero\"\n",
    "\n",
    "num = float(input(\"Enter a number: \"))\n",
    "result = check_number(num)\n",
    "print(f\"The number is {result}\")\n"
   ]
  },
  {
   "cell_type": "markdown",
   "id": "dc6c0139",
   "metadata": {},
   "source": [
    "#### 2. Create a program to determine if a person is eligible to vote based on their age."
   ]
  },
  {
   "cell_type": "code",
   "execution_count": 14,
   "id": "a8e346ed",
   "metadata": {},
   "outputs": [
    {
     "name": "stdout",
     "output_type": "stream",
     "text": [
      "Enter your age: 25\n",
      "You are Eligible to Vote\n"
     ]
    }
   ],
   "source": [
    "def check_voting_eligibility(age):\n",
    "    if age >= 18:\n",
    "        return \"Eligible to Vote\"\n",
    "    else:\n",
    "        return \"Not Eligible to Vote\"\n",
    "\n",
    "age = int(input(\"Enter your age: \"))\n",
    "result = check_voting_eligibility(age)\n",
    "print(f\"You are {result}\")\n"
   ]
  },
  {
   "cell_type": "markdown",
   "id": "6d601e65",
   "metadata": {},
   "source": [
    "#### 3. Write a program to find the maximum of two given numbers using conditional statements."
   ]
  },
  {
   "cell_type": "code",
   "execution_count": 15,
   "id": "02d45b8a",
   "metadata": {},
   "outputs": [
    {
     "name": "stdout",
     "output_type": "stream",
     "text": [
      "Enter the first number: 5\n",
      "Enter the second number: 9\n",
      "The maximum number is: 9.0\n"
     ]
    }
   ],
   "source": [
    "def find_maximum(num1, num2):\n",
    "    if num1 > num2:\n",
    "        return num1\n",
    "    else:\n",
    "        return num2\n",
    "\n",
    "num1 = float(input(\"Enter the first number: \"))\n",
    "num2 = float(input(\"Enter the second number: \"))\n",
    "max_number = find_maximum(num1, num2)\n",
    "print(f\"The maximum number is: {max_number}\")\n"
   ]
  },
  {
   "cell_type": "markdown",
   "id": "986c41b3",
   "metadata": {},
   "source": [
    "#### 4. Develop a program that calculates the grade of a student based on their exam score."
   ]
  },
  {
   "cell_type": "code",
   "execution_count": 16,
   "id": "6a75dd06",
   "metadata": {},
   "outputs": [
    {
     "name": "stdout",
     "output_type": "stream",
     "text": [
      "Enter the exam score: 84\n",
      "The grade is: B\n"
     ]
    }
   ],
   "source": [
    "def calculate_grade(score):\n",
    "    if score >= 90:\n",
    "        return 'A'\n",
    "    elif score >= 80:\n",
    "        return 'B'\n",
    "    elif score >= 70:\n",
    "        return 'C'\n",
    "    elif score >= 60:\n",
    "        return 'D'\n",
    "    else:\n",
    "        return 'F'\n",
    "\n",
    "score = float(input(\"Enter the exam score: \"))\n",
    "grade = calculate_grade(score)\n",
    "print(f\"The grade is: {grade}\")\n"
   ]
  },
  {
   "cell_type": "markdown",
   "id": "04502da9",
   "metadata": {},
   "source": [
    "#### 5. Create a program that checks if a year is a leap year or not.\n"
   ]
  },
  {
   "cell_type": "code",
   "execution_count": 17,
   "id": "5d582d65",
   "metadata": {},
   "outputs": [
    {
     "name": "stdout",
     "output_type": "stream",
     "text": [
      "Enter the year: 2000\n",
      "The year is Leap Year\n"
     ]
    }
   ],
   "source": [
    "def check_leap_year(year):\n",
    "    if year % 4 == 0 and (year % 100 != 0 or year % 400 == 0):\n",
    "        return \"Leap Year\"\n",
    "    else:\n",
    "        return \"Not a Leap Year\"\n",
    "\n",
    "year = int(input(\"Enter the year: \"))\n",
    "result = check_leap_year(year)\n",
    "print(f\"The year is {result}\")"
   ]
  },
  {
   "cell_type": "markdown",
   "id": "ae4b4b3d",
   "metadata": {},
   "source": [
    "#### 6. Write a program to classify a triangle based on its sides' lengths."
   ]
  },
  {
   "cell_type": "code",
   "execution_count": 18,
   "id": "e6c71dcb",
   "metadata": {},
   "outputs": [
    {
     "name": "stdout",
     "output_type": "stream",
     "text": [
      "Enter the length of side 1: 3\n",
      "Enter the length of side 2: 3\n",
      "Enter the length of side 3: 3\n",
      "The triangle is: Equilateral Triangle\n"
     ]
    }
   ],
   "source": [
    "def classify_triangle(side1, side2, side3):\n",
    "    if side1 == side2 == side3:\n",
    "        return \"Equilateral Triangle\"\n",
    "    elif side1 == side2 or side2 == side3 or side1 == side3:\n",
    "        return \"Isosceles Triangle\"\n",
    "    else:\n",
    "        return \"Scalene Triangle\"\n",
    "\n",
    "side1 = float(input(\"Enter the length of side 1: \"))\n",
    "side2 = float(input(\"Enter the length of side 2: \"))\n",
    "side3 = float(input(\"Enter the length of side 3: \"))\n",
    "\n",
    "result = classify_triangle(side1, side2, side3)\n",
    "print(f\"The triangle is: {result}\")"
   ]
  },
  {
   "cell_type": "markdown",
   "id": "76368e00",
   "metadata": {},
   "source": [
    "#### 7. Build a program that determines the largest of three given numbers."
   ]
  },
  {
   "cell_type": "code",
   "execution_count": 19,
   "id": "fff67b5a",
   "metadata": {},
   "outputs": [
    {
     "name": "stdout",
     "output_type": "stream",
     "text": [
      "Enter the first number: 15\n",
      "Enter the second number: 98\n",
      "Enter the third number: 108\n",
      "The largest number is: 108.0\n"
     ]
    }
   ],
   "source": [
    "def find_largest(num1, num2, num3):\n",
    "    largest = max(num1, num2, num3)\n",
    "    return largest\n",
    "\n",
    "num1 = float(input(\"Enter the first number: \"))\n",
    "num2 = float(input(\"Enter the second number: \"))\n",
    "num3 = float(input(\"Enter the third number: \"))\n",
    "\n",
    "max_number = find_largest(num1, num2, num3)\n",
    "print(f\"The largest number is: {max_number}\")"
   ]
  },
  {
   "cell_type": "markdown",
   "id": "b3d0909a",
   "metadata": {},
   "source": [
    "\n",
    "#### 8. Develop a program that checks whether a character is a vowel or a consonant."
   ]
  },
  {
   "cell_type": "code",
   "execution_count": 20,
   "id": "fb9d9827",
   "metadata": {},
   "outputs": [
    {
     "name": "stdout",
     "output_type": "stream",
     "text": [
      "Enter a character: a\n",
      "The character is a Vowel\n"
     ]
    }
   ],
   "source": [
    "def check_vowel_or_consonant(char):\n",
    "    vowels = 'aeiouAEIOU'\n",
    "    if char.isalpha() and char in vowels:\n",
    "        return \"Vowel\"\n",
    "    else:\n",
    "        return \"Consonant\"\n",
    "\n",
    "character = input(\"Enter a character: \")\n",
    "result = check_vowel_or_consonant(character)\n",
    "print(f\"The character is a {result}\")\n"
   ]
  },
  {
   "cell_type": "markdown",
   "id": "4459a66a",
   "metadata": {},
   "source": [
    "#### 9. Create a program to calculate the total cost of a shopping cart based on discounts."
   ]
  },
  {
   "cell_type": "code",
   "execution_count": 21,
   "id": "ae0a250b",
   "metadata": {},
   "outputs": [
    {
     "name": "stdout",
     "output_type": "stream",
     "text": [
      "Enter the total value of the shopping cart: 1158\n",
      "The final cost after discount is: 1042.20\n"
     ]
    }
   ],
   "source": [
    "def calculate_total_cost(cart_value):\n",
    "    if cart_value >= 1000:\n",
    "        discount = 0.1 * cart_value\n",
    "    elif cart_value >= 500:\n",
    "        discount = 0.05 * cart_value\n",
    "    else:\n",
    "        discount = 0\n",
    "    total_cost = cart_value - discount\n",
    "    return total_cost\n",
    "\n",
    "cart_value = float(input(\"Enter the total value of the shopping cart: \"))\n",
    "final_cost = calculate_total_cost(cart_value)\n",
    "print(f\"The final cost after discount is: {final_cost:.2f}\")\n"
   ]
  },
  {
   "cell_type": "markdown",
   "id": "a3fc2e84",
   "metadata": {},
   "source": [
    "#### 10. Write a program that checks if a given number is even or odd"
   ]
  },
  {
   "cell_type": "code",
   "execution_count": 22,
   "id": "2d3d703b",
   "metadata": {},
   "outputs": [
    {
     "name": "stdout",
     "output_type": "stream",
     "text": [
      "Enter a number: 8\n",
      "The number is Even\n"
     ]
    }
   ],
   "source": [
    "def even_or_odd(number):\n",
    "    if number % 2 == 0:\n",
    "        return \"Even\"\n",
    "    else:\n",
    "        return \"Odd\"\n",
    "\n",
    "num = int(input(\"Enter a number: \"))\n",
    "result = even_or_odd(num)\n",
    "print(f\"The number is {result}\")\n"
   ]
  },
  {
   "cell_type": "markdown",
   "id": "2529698f",
   "metadata": {},
   "source": [
    "### Intermediate"
   ]
  },
  {
   "cell_type": "markdown",
   "id": "61efc312",
   "metadata": {},
   "source": [
    "#### 11. Write a program that calculates the roots of a quadratic equation ."
   ]
  },
  {
   "cell_type": "code",
   "execution_count": 29,
   "id": "34a9fa7e",
   "metadata": {},
   "outputs": [],
   "source": [
    "import math as m"
   ]
  },
  {
   "cell_type": "code",
   "execution_count": 31,
   "id": "e22eddcc",
   "metadata": {},
   "outputs": [
    {
     "name": "stdout",
     "output_type": "stream",
     "text": [
      "Enter coefficient a: 5\n",
      "Enter coefficient b: 6\n",
      "Enter coefficient c: 4\n",
      "The roots are: ((-0.6+0.6633249580710799j), (-0.6-0.6633249580710799j))\n"
     ]
    }
   ],
   "source": [
    "def quadratic_roots(a, b, c):\n",
    "    discriminant = b**2 - 4*a*c\n",
    "    \n",
    "    if discriminant > 0:\n",
    "        root1 = (-b + m.sqrt(discriminant)) / (2*a)\n",
    "        root2 = (-b - m.sqrt(discriminant)) / (2*a)\n",
    "        return root1, root2\n",
    "    elif discriminant == 0:\n",
    "        root = -b / (2*a)\n",
    "        return root\n",
    "    else:\n",
    "        real_part = -b / (2*a)\n",
    "        imaginary_part = m.sqrt(abs(discriminant)) / (2*a)\n",
    "        return complex(real_part, imaginary_part), complex(real_part, -imaginary_part)\n",
    "\n",
    "a = float(input(\"Enter coefficient a: \"))\n",
    "b = float(input(\"Enter coefficient b: \"))\n",
    "c = float(input(\"Enter coefficient c: \"))\n",
    "\n",
    "roots = quadratic_roots(a, b, c)\n",
    "print(f\"The roots are: {roots}\")\n"
   ]
  },
  {
   "cell_type": "markdown",
   "id": "caed1877",
   "metadata": {},
   "source": [
    "#### 12. Create a program that determines the day of the week based on the day number (1-7)"
   ]
  },
  {
   "cell_type": "code",
   "execution_count": 32,
   "id": "49166b4d",
   "metadata": {},
   "outputs": [
    {
     "name": "stdout",
     "output_type": "stream",
     "text": [
      "Enter the day number (1-7): 5\n",
      "The day is: Thursday\n"
     ]
    }
   ],
   "source": [
    "def day_of_week(day_number):\n",
    "    days = [\"Sunday\", \"Monday\", \"Tuesday\", \"Wednesday\", \"Thursday\", \"Friday\", \"Saturday\"]\n",
    "    if 1 <= day_number <= 7:\n",
    "        return days[day_number - 1]\n",
    "    else:\n",
    "        return \"Invalid day number\"\n",
    "\n",
    "day_number = int(input(\"Enter the day number (1-7): \"))\n",
    "day = day_of_week(day_number)\n",
    "print(f\"The day is: {day}\")"
   ]
  },
  {
   "cell_type": "markdown",
   "id": "1b7b8fa5",
   "metadata": {},
   "source": [
    "\n",
    "#### 13. Develop a program that calculates the factorial of a given number using recursion."
   ]
  },
  {
   "cell_type": "code",
   "execution_count": 34,
   "id": "f705302e",
   "metadata": {},
   "outputs": [
    {
     "name": "stdout",
     "output_type": "stream",
     "text": [
      "Enter a non-negative integer: 6\n",
      "The factorial of 6 is: 720\n"
     ]
    }
   ],
   "source": [
    "def factorial(n):\n",
    "    if n == 0:\n",
    "        return 1\n",
    "    else:\n",
    "        return n * factorial(n-1)\n",
    "\n",
    "num = int(input(\"Enter a non-negative integer: \"))\n",
    "result = factorial(num)\n",
    "print(f\"The factorial of {num} is: {result}\")\n"
   ]
  },
  {
   "cell_type": "markdown",
   "id": "fb7939c4",
   "metadata": {},
   "source": [
    "#### 14. Write a program to find the largest among three numbers without using the `max()` function."
   ]
  },
  {
   "cell_type": "code",
   "execution_count": 35,
   "id": "0741826e",
   "metadata": {},
   "outputs": [
    {
     "name": "stdout",
     "output_type": "stream",
     "text": [
      "Enter the first number: 85\n",
      "Enter the second number: 98\n",
      "Enter the third number: 45\n",
      "The largest number is: 98.0\n"
     ]
    }
   ],
   "source": [
    "def find_largest_without_max(num1, num2, num3):\n",
    "    largest = num1\n",
    "    if num2 > largest:\n",
    "        largest = num2\n",
    "    if num3 > largest:\n",
    "        largest = num3\n",
    "    return largest\n",
    "\n",
    "num1 = float(input(\"Enter the first number: \"))\n",
    "num2 = float(input(\"Enter the second number: \"))\n",
    "num3 = float(input(\"Enter the third number: \"))\n",
    "\n",
    "max_number = find_largest_without_max(num1, num2, num3)\n",
    "print(f\"The largest number is: {max_number}\")\n"
   ]
  },
  {
   "cell_type": "markdown",
   "id": "76eda2d4",
   "metadata": {},
   "source": [
    "\n",
    "#### 15. Create a program that simulates a basic ATM transaction menu."
   ]
  },
  {
   "cell_type": "code",
   "execution_count": 36,
   "id": "bc8dcc36",
   "metadata": {},
   "outputs": [
    {
     "name": "stdout",
     "output_type": "stream",
     "text": [
      "\n",
      "ATM Menu:\n",
      "1. Check Balance\n",
      "2. Deposit\n",
      "3. Withdraw\n",
      "4. Exit\n",
      "Enter your choice: 1\n",
      "Your balance is: 1000\n",
      "\n",
      "ATM Menu:\n",
      "1. Check Balance\n",
      "2. Deposit\n",
      "3. Withdraw\n",
      "4. Exit\n",
      "Enter your choice: 2\n",
      "Enter the amount to deposit: 950\n",
      "Deposit successful. New balance is: 1950.0\n",
      "\n",
      "ATM Menu:\n",
      "1. Check Balance\n",
      "2. Deposit\n",
      "3. Withdraw\n",
      "4. Exit\n",
      "Enter your choice: 3\n",
      "Enter the amount to withdraw: 50\n",
      "Withdrawal successful. New balance is: 1900.0\n",
      "\n",
      "ATM Menu:\n",
      "1. Check Balance\n",
      "2. Deposit\n",
      "3. Withdraw\n",
      "4. Exit\n",
      "Enter your choice: 4\n"
     ]
    }
   ],
   "source": [
    "def atm_menu():\n",
    "    balance = 1000\n",
    "    \n",
    "    while True:\n",
    "        print(\"\\nATM Menu:\")\n",
    "        print(\"1. Check Balance\")\n",
    "        print(\"2. Deposit\")\n",
    "        print(\"3. Withdraw\")\n",
    "        print(\"4. Exit\")\n",
    "        \n",
    "        choice = int(input(\"Enter your choice: \"))\n",
    "        \n",
    "        if choice == 1:\n",
    "            print(f\"Your balance is: {balance}\")\n",
    "        elif choice == 2:\n",
    "            amount = float(input(\"Enter the amount to deposit: \"))\n",
    "            balance += amount\n",
    "            print(f\"Deposit successful. New balance is: {balance}\")\n",
    "        elif choice == 3:\n",
    "            amount = float(input(\"Enter the amount to withdraw: \"))\n",
    "            if amount <= balance:\n",
    "                balance -= amount\n",
    "                print(f\"Withdrawal successful. New balance is: {balance}\")\n",
    "            else:\n",
    "                print(\"Insufficient funds\")\n",
    "        elif choice == 4:\n",
    "            break\n",
    "        else:\n",
    "            print(\"Invalid choice. Please try again.\")\n",
    "\n",
    "atm_menu()\n"
   ]
  },
  {
   "cell_type": "markdown",
   "id": "122285df",
   "metadata": {},
   "source": [
    "#### 16. Build a program that checks if a given string is a palindrome or not."
   ]
  },
  {
   "cell_type": "code",
   "execution_count": 37,
   "id": "8f3ea804",
   "metadata": {},
   "outputs": [
    {
     "name": "stdout",
     "output_type": "stream",
     "text": [
      "Enter a string: racecar\n",
      "It's a palindrome\n"
     ]
    }
   ],
   "source": [
    "def is_palindrome(s):\n",
    "    s = s.lower().replace(\" \", \"\").replace(\",\", \"\").replace(\".\", \"\")\n",
    "    return s == s[::-1]\n",
    "\n",
    "string = input(\"Enter a string: \")\n",
    "result = is_palindrome(string)\n",
    "\n",
    "if result:\n",
    "    print(\"It's a palindrome\")\n",
    "else:\n",
    "    print(\"It's not a palindrome\")\n"
   ]
  },
  {
   "cell_type": "markdown",
   "id": "81e84c07",
   "metadata": {},
   "source": [
    "#### 17. Write a program that calculates the average of a list of numbers, excluding the smallest and largest values."
   ]
  },
  {
   "cell_type": "code",
   "execution_count": 48,
   "id": "e7ecd3f0",
   "metadata": {},
   "outputs": [
    {
     "name": "stdout",
     "output_type": "stream",
     "text": [
      "Enter a list of numbers separated by spaces: 5 10 8 7 5 \n",
      "The average excluding the smallest and largest values is: 6.67\n"
     ]
    }
   ],
   "source": [
    "def average_without_extremes(numbers):\n",
    "    numbers.sort()\n",
    "    return sum(numbers[1:-1]) / (len(numbers) - 2) if len(numbers) > 2 else None\n",
    "\n",
    "num_list = [float(x) for x in input(\"Enter a list of numbers separated by spaces: \").split()]\n",
    "result = average_without_extremes(num_list)\n",
    "\n",
    "if result is not None:\n",
    "    print(f\"The average excluding the smallest and largest values is: {result:.2f}\")\n",
    "else:\n",
    "    print(\"Please provide at least three numbers.\")"
   ]
  },
  {
   "cell_type": "markdown",
   "id": "3128bcd7",
   "metadata": {},
   "source": [
    "#### 18. Develop a program that converts a given temperature from Celsius to Fahrenheit."
   ]
  },
  {
   "cell_type": "code",
   "execution_count": 42,
   "id": "b865bc8f",
   "metadata": {},
   "outputs": [
    {
     "name": "stdout",
     "output_type": "stream",
     "text": [
      "Enter temperature in Celsius: 85\n",
      "The temperature in Fahrenheit is: 185.00\n"
     ]
    }
   ],
   "source": [
    "def celsius_to_fahrenheit(celsius):\n",
    "    return (celsius * 9/5) + 32\n",
    "\n",
    "celsius_temp = float(input(\"Enter temperature in Celsius: \"))\n",
    "fahrenheit_temp = celsius_to_fahrenheit(celsius_temp)\n",
    "print(f\"The temperature in Fahrenheit is: {fahrenheit_temp:.2f}\")"
   ]
  },
  {
   "cell_type": "markdown",
   "id": "c7a139ff",
   "metadata": {},
   "source": [
    "#### 19. Create a program that simulates a basic calculator for addition, subtraction, multiplication, and division."
   ]
  },
  {
   "cell_type": "code",
   "execution_count": 43,
   "id": "c3442999",
   "metadata": {},
   "outputs": [
    {
     "name": "stdout",
     "output_type": "stream",
     "text": [
      "Select operation:\n",
      "1. Addition\n",
      "2. Subtraction\n",
      "3. Multiplication\n",
      "4. Division\n",
      "Enter choice (1/2/3/4): 2\n",
      "Enter first number: 56\n",
      "Enter second number: 85\n",
      "56.0 - 85.0 = -29.0\n"
     ]
    }
   ],
   "source": [
    "def calculator():\n",
    "    print(\"Select operation:\")\n",
    "    print(\"1. Addition\")\n",
    "    print(\"2. Subtraction\")\n",
    "    print(\"3. Multiplication\")\n",
    "    print(\"4. Division\")\n",
    "\n",
    "    choice = int(input(\"Enter choice (1/2/3/4): \"))\n",
    "\n",
    "    num1 = float(input(\"Enter first number: \"))\n",
    "    num2 = float(input(\"Enter second number: \"))\n",
    "\n",
    "    if choice == 1:\n",
    "        result = num1 + num2\n",
    "        operator = \"+\"\n",
    "    elif choice == 2:\n",
    "        result = num1 - num2\n",
    "        operator = \"-\"\n",
    "    elif choice == 3:\n",
    "        result = num1 * num2\n",
    "        operator = \"*\"\n",
    "    elif choice == 4:\n",
    "        if num2 != 0:\n",
    "            result = num1 / num2\n",
    "            operator = \"/\"\n",
    "        else:\n",
    "            print(\"Error: Division by zero\")\n",
    "            return\n",
    "\n",
    "    print(f\"{num1} {operator} {num2} = {result}\")\n",
    "\n",
    "calculator()"
   ]
  },
  {
   "cell_type": "markdown",
   "id": "4dfe4e36",
   "metadata": {},
   "source": [
    "#### 20. Write a program that determines the roots of a cubic equation using the Cardano formula."
   ]
  },
  {
   "cell_type": "code",
   "execution_count": 47,
   "id": "9cb3c6a1",
   "metadata": {},
   "outputs": [
    {
     "name": "stdout",
     "output_type": "stream",
     "text": [
      "Enter coefficient a: 5\n",
      "Enter coefficient b: 7\n",
      "Enter coefficient c: 6\n",
      "Enter coefficient d: 8\n",
      "The roots are: (0.24091559758591008+0.9324264570299029j)\n"
     ]
    }
   ],
   "source": [
    "import math\n",
    "\n",
    "def cubic_roots(a, b, c, d):\n",
    "    p = (3*a*c - b**2) / (3*a**2)\n",
    "    q = (2*b**3 - 9*a*b*c + 27*a**2*d) / (27*a**3)\n",
    "    delta = (q/2)**2 + (p/3)**3\n",
    "    \n",
    "    if delta > 0:\n",
    "        u1 = -q/2 + delta**0.5\n",
    "        u2 = -q/2 - delta**0.5\n",
    "        u1_cbrt = u1**(1/3)\n",
    "        u2_cbrt = u2**(1/3)\n",
    "        root1 = u1_cbrt + u2_cbrt - b/(3*a)\n",
    "        return root1\n",
    "    elif delta == 0:\n",
    "        if q == 0:\n",
    "            root1 = -b/(3*a)\n",
    "            return root1\n",
    "        else:\n",
    "            u = -q/2\n",
    "            u_cbrt = u**(1/3)\n",
    "            root1 = 2*u_cbrt - b/(3*a)\n",
    "            root2 = -(u_cbrt + b/(3*a))\n",
    "            return root1, root2\n",
    "    else:\n",
    "        phi = math.acos(-q/2 * math.sqrt(-27/(p**3)))\n",
    "        u1 = 2 * math.sqrt(-p/3) * math.cos(phi/3)\n",
    "        u2 = 2 * math.sqrt(-p/3) * math.cos((phi + 2*math.pi)/3)\n",
    "        u3 = 2 * math.sqrt(-p/3) * math.cos((phi + 4*math.pi)/3)\n",
    "        root1 = u1 - b/(3*a)\n",
    "        root2 = u2 - b/(3*a)\n",
    "        root3 = u3 - b/(3*a)\n",
    "        return root1, root2, root3\n",
    "\n",
    "a = float(input(\"Enter coefficient a: \"))\n",
    "b = float(input(\"Enter coefficient b: \"))\n",
    "c = float(input(\"Enter coefficient c: \"))\n",
    "d = float(input(\"Enter coefficient d: \"))\n",
    "\n",
    "roots = cubic_roots(a, b, c, d)\n",
    "print(f\"The roots are: {roots}\")"
   ]
  },
  {
   "cell_type": "code",
   "execution_count": null,
   "id": "92b328d7",
   "metadata": {},
   "outputs": [],
   "source": []
  },
  {
   "cell_type": "markdown",
   "id": "34aace5b",
   "metadata": {},
   "source": [
    "### Advanced Level:"
   ]
  },
  {
   "cell_type": "markdown",
   "id": "bd8e9466",
   "metadata": {},
   "source": [
    "#### 21. Create a program that calculates the income tax based on the user's income and tax brackets."
   ]
  },
  {
   "cell_type": "code",
   "execution_count": 49,
   "id": "a49fba8d",
   "metadata": {},
   "outputs": [
    {
     "name": "stdout",
     "output_type": "stream",
     "text": [
      "Enter your annual income: 300000\n",
      "The income tax is: 105667.00\n"
     ]
    }
   ],
   "source": [
    "def calculate_income_tax(income):\n",
    "    if income <= 18200:\n",
    "        tax = 0\n",
    "    elif 18201 <= income <= 45000:\n",
    "        tax = 0.19 * (income - 18200)\n",
    "    elif 45001 <= income <= 120000:\n",
    "        tax = 5092 + 0.32 * (income - 45000)\n",
    "    elif 120001 <= income <= 180000:\n",
    "        tax = 29467 + 0.37 * (income - 120000)\n",
    "    else:\n",
    "        tax = 51667 + 0.45 * (income - 180000)\n",
    "    return tax\n",
    "\n",
    "income = float(input(\"Enter your annual income: \"))\n",
    "tax = calculate_income_tax(income)\n",
    "print(f\"The income tax is: {tax:.2f}\")\n"
   ]
  },
  {
   "cell_type": "markdown",
   "id": "10926818",
   "metadata": {},
   "source": [
    "#### 22. Write a program that simulates a rock-paper-scissors game against the computer."
   ]
  },
  {
   "cell_type": "code",
   "execution_count": 50,
   "id": "c47d0874",
   "metadata": {},
   "outputs": [
    {
     "name": "stdout",
     "output_type": "stream",
     "text": [
      "Enter your choice (rock, paper, or scissors): paper\n",
      "You chose: paper\n",
      "Computer chose: rock\n",
      "You win!\n"
     ]
    }
   ],
   "source": [
    "import random\n",
    "\n",
    "def play_rps(player_choice):\n",
    "    choices = ['rock', 'paper', 'scissors']\n",
    "    computer_choice = random.choice(choices)\n",
    "\n",
    "    print(f\"You chose: {player_choice}\")\n",
    "    print(f\"Computer chose: {computer_choice}\")\n",
    "\n",
    "    if player_choice == computer_choice:\n",
    "        return \"It's a tie!\"\n",
    "    elif (player_choice == 'rock' and computer_choice == 'scissors') or \\\n",
    "         (player_choice == 'paper' and computer_choice == 'rock') or \\\n",
    "         (player_choice == 'scissors' and computer_choice == 'paper'):\n",
    "        return \"You win!\"\n",
    "    else:\n",
    "        return \"You lose!\"\n",
    "\n",
    "player_choice = input(\"Enter your choice (rock, paper, or scissors): \").lower()\n",
    "result = play_rps(player_choice)\n",
    "print(result)"
   ]
  },
  {
   "cell_type": "markdown",
   "id": "d5bc27fb",
   "metadata": {},
   "source": [
    "#### 23. Develop a program that generates a random password based on user preferences (length, complexity)."
   ]
  },
  {
   "cell_type": "code",
   "execution_count": 52,
   "id": "e44f05e6",
   "metadata": {},
   "outputs": [
    {
     "name": "stdout",
     "output_type": "stream",
     "text": [
      "Enter the length of the password: 5\n",
      "Enter the complexity (low/high): low\n",
      "Generated Password: Q67m5\n"
     ]
    }
   ],
   "source": [
    "import random\n",
    "import string\n",
    "\n",
    "def generate_password(length, complexity):\n",
    "    if complexity == 'low':\n",
    "        characters = string.ascii_letters + string.digits\n",
    "    else:\n",
    "        characters = string.ascii_letters + string.digits + string.punctuation\n",
    "\n",
    "    password = ''.join(random.choice(characters) for _ in range(length))\n",
    "    return password\n",
    "\n",
    "length = int(input(\"Enter the length of the password: \"))\n",
    "complexity = input(\"Enter the complexity (low/high): \").lower()\n",
    "\n",
    "password = generate_password(length, complexity)\n",
    "print(f\"Generated Password: {password}\")"
   ]
  },
  {
   "cell_type": "markdown",
   "id": "6390f5e5",
   "metadata": {},
   "source": [
    "#### 24. Create a program that implements a simple text-based adventure game with branching scenarios."
   ]
  },
  {
   "cell_type": "code",
   "execution_count": 53,
   "id": "e61a72a8",
   "metadata": {},
   "outputs": [
    {
     "name": "stdout",
     "output_type": "stream",
     "text": [
      "Welcome to the Adventure Game!\n",
      "You find yourself at a crossroads. Which path will you take?\n",
      "1. Left\n",
      "2. Right\n",
      "Enter your choice (1 or 2): 1\n",
      "You chose the left path. You encounter a dragon!\n",
      "What will you do?\n",
      "1. Fight\n",
      "2. Run\n",
      "Enter your choice (1 or 2): 2\n",
      "You ran away and lived to tell the tale.\n"
     ]
    }
   ],
   "source": [
    "def adventure_game():\n",
    "    print(\"Welcome to the Adventure Game!\")\n",
    "    print(\"You find yourself at a crossroads. Which path will you take?\")\n",
    "    print(\"1. Left\")\n",
    "    print(\"2. Right\")\n",
    "\n",
    "    choice = input(\"Enter your choice (1 or 2): \")\n",
    "\n",
    "    if choice == '1':\n",
    "        print(\"You chose the left path. You encounter a dragon!\")\n",
    "        print(\"What will you do?\")\n",
    "        print(\"1. Fight\")\n",
    "        print(\"2. Run\")\n",
    "\n",
    "        fight_choice = input(\"Enter your choice (1 or 2): \")\n",
    "\n",
    "        if fight_choice == '1':\n",
    "            print(\"You defeated the dragon! You are a hero!\")\n",
    "        else:\n",
    "            print(\"You ran away and lived to tell the tale.\")\n",
    "\n",
    "    elif choice == '2':\n",
    "        print(\"You chose the right path. You find a chest full of treasure!\")\n",
    "        print(\"You are rich and live happily ever after!\")\n",
    "\n",
    "    else:\n",
    "        print(\"Invalid choice. The adventure ends here.\")\n",
    "\n",
    "adventure_game()"
   ]
  },
  {
   "cell_type": "markdown",
   "id": "d4733f19",
   "metadata": {},
   "source": [
    "#### 25. Build a program that solves a linear equation  for x, considering different cases.\n"
   ]
  },
  {
   "cell_type": "code",
   "execution_count": 54,
   "id": "42f3ea19",
   "metadata": {},
   "outputs": [
    {
     "name": "stdout",
     "output_type": "stream",
     "text": [
      "Enter coefficient a: 8\n",
      "Enter coefficient b: 6\n",
      "x = -0.75\n"
     ]
    }
   ],
   "source": [
    "def solve_linear_equation(a, b):\n",
    "    if a == 0:\n",
    "        if b == 0:\n",
    "            return \"Infinite solutions (identity)\"\n",
    "        else:\n",
    "            return \"No solution\"\n",
    "    else:\n",
    "        x = -b / a\n",
    "        return f\"x = {x}\"\n",
    "\n",
    "a = float(input(\"Enter coefficient a: \"))\n",
    "b = float(input(\"Enter coefficient b: \"))\n",
    "\n",
    "result = solve_linear_equation(a, b)\n",
    "print(result)\n"
   ]
  },
  {
   "cell_type": "markdown",
   "id": "3c6fe85c",
   "metadata": {},
   "source": [
    "#### 26. Write a program that simulates a basic quiz game with multiple-choice questions and scoring."
   ]
  },
  {
   "cell_type": "code",
   "execution_count": 58,
   "id": "12fab2f8",
   "metadata": {},
   "outputs": [
    {
     "name": "stdout",
     "output_type": "stream",
     "text": [
      "Question 1: What is the capital of France?\n",
      "Your answer: paris\n",
      "Correct!\n",
      "Question 2: What is 2 + 2?\n",
      "Your answer: 4\n",
      "Correct!\n",
      "Question 3: Who wrote 'Romeo and Juliet'?\n",
      "Your answer: william\n",
      "Correct!\n",
      "You got 3 out of 3 questions correct.\n"
     ]
    }
   ],
   "source": [
    "def quiz():\n",
    "    questions = [\"What is the capital of France?\",\n",
    "                 \"What is 2 + 2?\",\n",
    "                 \"Who wrote 'Romeo and Juliet'?\"]\n",
    "    answers = [\"Paris\", \"4\", \"William Shakespeare\"]\n",
    "    score = 0\n",
    "\n",
    "    for i in range(len(questions)):\n",
    "        print(f\"Question {i+1}: {questions[i]}\")\n",
    "        user_answer = input(\"Your answer: \")\n",
    "        if user_answer.lower() in answers[i].lower():\n",
    "            print(\"Correct!\")\n",
    "            score += 1\n",
    "        else:\n",
    "            print(f\"Wrong. The correct answer is {answers[i]}\")\n",
    "\n",
    "    print(f\"You got {score} out of {len(questions)} questions correct.\")\n",
    "\n",
    "quiz()"
   ]
  },
  {
   "cell_type": "markdown",
   "id": "b4535720",
   "metadata": {},
   "source": [
    "#### 28. Create a program that sorts three numbers in ascending order using conditional statements."
   ]
  },
  {
   "cell_type": "code",
   "execution_count": 61,
   "id": "13525cda",
   "metadata": {},
   "outputs": [
    {
     "name": "stdout",
     "output_type": "stream",
     "text": [
      "Enter the first number: 5\n",
      "Enter the second number: 8\n",
      "Enter the third number: 9\n",
      "The numbers in ascending order are: (5, 8, 9)\n"
     ]
    }
   ],
   "source": [
    "def sort_numbers(num1, num2, num3):\n",
    "    smallest = min(num1, num2, num3)\n",
    "    largest = max(num1, num2, num3)\n",
    "    middle = (num1 + num2 + num3) - smallest - largest\n",
    "    return smallest, middle, largest\n",
    "\n",
    "num1 = int(input(\"Enter the first number: \"))\n",
    "num2 = int(input(\"Enter the second number: \"))\n",
    "num3 = int(input(\"Enter the third number: \"))\n",
    "\n",
    "sorted_numbers = sort_numbers(num1, num2, num3)\n",
    "print(f\"The numbers in ascending order are: {sorted_numbers}\")"
   ]
  },
  {
   "cell_type": "markdown",
   "id": "d0af6a8b",
   "metadata": {},
   "source": [
    "#### 29. Build a program that determines the roots of a quartic equation using numerical methods."
   ]
  },
  {
   "cell_type": "code",
   "execution_count": 64,
   "id": "4cf98391",
   "metadata": {},
   "outputs": [
    {
     "name": "stdout",
     "output_type": "stream",
     "text": [
      "Enter coefficient a: 7\n",
      "Enter coefficient b: 6\n",
      "Enter coefficient c: 5\n",
      "Enter coefficient d: 9\n",
      "Enter coefficient e: 5\n",
      "No root found within the maximum number of iterations.\n"
     ]
    }
   ],
   "source": [
    "def solve_quartic(a, b, c, d, e):\n",
    "    epsilon = 1e-6\n",
    "    max_iterations = 1000\n",
    "\n",
    "    def f(x):\n",
    "        return a*x**4 + b*x**3 + c*x**2 + d*x + e\n",
    "\n",
    "    def f_prime(x):\n",
    "        return 4*a*x**3 + 3*b*x**2 + 2*c*x + d\n",
    "\n",
    "    x = 0  # Initial guess\n",
    "\n",
    "    for _ in range(max_iterations):\n",
    "        x_next = x - f(x) / f_prime(x)\n",
    "\n",
    "        if abs(x_next - x) < epsilon:\n",
    "            return x_next\n",
    "\n",
    "        x = x_next\n",
    "\n",
    "    return None\n",
    "\n",
    "# Coefficients of the quartic equation: ax^4 + bx^3 + cx^2 + dx + e\n",
    "a = float(input(\"Enter coefficient a: \"))\n",
    "b = float(input(\"Enter coefficient b: \"))\n",
    "c = float(input(\"Enter coefficient c: \"))\n",
    "d = float(input(\"Enter coefficient d: \"))\n",
    "e = float(input(\"Enter coefficient e: \"))\n",
    "\n",
    "root = solve_quartic(a, b, c, d, e)\n",
    "\n",
    "if root is not None:\n",
    "    print(f\"A root of the quartic equation is approximately {root:.6f}\")\n",
    "else:\n",
    "    print(\"No root found within the maximum number of iterations.\")"
   ]
  },
  {
   "cell_type": "markdown",
   "id": "a5412eec",
   "metadata": {},
   "source": [
    "#### 30. Write a program that calculates the BMI (Body Mass Index) and provides health recommendations based on the user's input."
   ]
  },
  {
   "cell_type": "code",
   "execution_count": 62,
   "id": "ee8fd2ee",
   "metadata": {},
   "outputs": [
    {
     "name": "stdout",
     "output_type": "stream",
     "text": [
      "Enter weight in kg: 84\n",
      "Enter height in meters: 55\n",
      "The BMI is 0.03, which is categorized as Underweight\n"
     ]
    }
   ],
   "source": [
    "def calculate_bmi(weight, height):\n",
    "    bmi = weight / (height**2)\n",
    "    return bmi\n",
    "\n",
    "def get_bmi_category(bmi):\n",
    "    if bmi < 18.5:\n",
    "        return \"Underweight\"\n",
    "    elif 18.5 <= bmi < 24.9:\n",
    "        return \"Normal Weight\"\n",
    "    elif 25 <= bmi < 29.9:\n",
    "        return \"Overweight\"\n",
    "    else:\n",
    "        return \"Obese\"\n",
    "\n",
    "weight = float(input(\"Enter weight in kg: \"))\n",
    "height = float(input(\"Enter height in meters: \"))\n",
    "\n",
    "bmi = calculate_bmi(weight, height)\n",
    "category = get_bmi_category(bmi)\n",
    "\n",
    "print(f\"The BMI is {bmi:.2f}, which is categorized as {category}\")\n"
   ]
  },
  {
   "cell_type": "markdown",
   "id": "c1c230ad",
   "metadata": {},
   "source": [
    "#### Chalange"
   ]
  },
  {
   "cell_type": "markdown",
   "id": "d98bd030",
   "metadata": {},
   "source": [
    "#### 31. Create a program that validates a password based on complexity rules (length, characters, etc.).\n"
   ]
  },
  {
   "cell_type": "code",
   "execution_count": 67,
   "id": "4f41119a",
   "metadata": {},
   "outputs": [
    {
     "name": "stdout",
     "output_type": "stream",
     "text": [
      "Enter a password: Sanju986vega\n",
      "Password is valid\n"
     ]
    }
   ],
   "source": [
    "def validate_password(password):\n",
    "    if len(password) < 8:\n",
    "        return \"Password should be at least 8 characters long\"\n",
    "    elif not any(char.isdigit() for char in password):\n",
    "        return \"Password should contain at least one digit\"\n",
    "    elif not any(char.isalpha() for char in password):\n",
    "        return \"Password should contain at least one letter\"\n",
    "    elif not any(char.isupper() for char in password):\n",
    "        return \"Password should contain at least one uppercase letter\"\n",
    "    elif not any(char.islower() for char in password):\n",
    "        return \"Password should contain at least one lowercase letter\"\n",
    "    else:\n",
    "        return \"Password is valid\"\n",
    "\n",
    "password = input(\"Enter a password: \")\n",
    "result = validate_password(password)\n",
    "print(result)\n"
   ]
  },
  {
   "cell_type": "markdown",
   "id": "77307da8",
   "metadata": {},
   "source": [
    "#### 32. Develop a program that performs matrix addition and subtraction based on user input."
   ]
  },
  {
   "cell_type": "code",
   "execution_count": 68,
   "id": "ec3c63ad",
   "metadata": {},
   "outputs": [
    {
     "name": "stdout",
     "output_type": "stream",
     "text": [
      "Matrix Addition Result:\n",
      "[6, 8]\n",
      "[10, 12]\n",
      "\n",
      "Matrix Subtraction Result:\n",
      "[-4, -4]\n",
      "[-4, -4]\n"
     ]
    }
   ],
   "source": [
    "def add_matrices(matrix1, matrix2):\n",
    "    result = [[matrix1[i][j] + matrix2[i][j] for j in range(len(matrix1[0]))] for i in range(len(matrix1))]\n",
    "    return result\n",
    "\n",
    "def subtract_matrices(matrix1, matrix2):\n",
    "    result = [[matrix1[i][j] - matrix2[i][j] for j in range(len(matrix1[0]))] for i in range(len(matrix1))]\n",
    "    return result\n",
    "\n",
    "# Input matrices\n",
    "matrix1 = [[1, 2], [3, 4]]\n",
    "matrix2 = [[5, 6], [7, 8]]\n",
    "\n",
    "addition_result = add_matrices(matrix1, matrix2)\n",
    "subtraction_result = subtract_matrices(matrix1, matrix2)\n",
    "\n",
    "print(\"Matrix Addition Result:\")\n",
    "for row in addition_result:\n",
    "    print(row)\n",
    "\n",
    "print(\"\\nMatrix Subtraction Result:\")\n",
    "for row in subtraction_result:\n",
    "    print(row)\n"
   ]
  },
  {
   "cell_type": "markdown",
   "id": "a862610b",
   "metadata": {},
   "source": [
    "#### 33. Write a program that calculates the greatest common divisor (GCD) of two numbers using the Euclidean algorithm."
   ]
  },
  {
   "cell_type": "code",
   "execution_count": 69,
   "id": "d447ec62",
   "metadata": {},
   "outputs": [
    {
     "name": "stdout",
     "output_type": "stream",
     "text": [
      "Enter the first number: 5\n",
      "Enter the second number: 4\n",
      "The GCD of 5 and 4 is: 1\n"
     ]
    }
   ],
   "source": [
    "def gcd_euclidean(a, b):\n",
    "    while b:\n",
    "        a, b = b, a % b\n",
    "    return a\n",
    "\n",
    "num1 = int(input(\"Enter the first number: \"))\n",
    "num2 = int(input(\"Enter the second number: \"))\n",
    "\n",
    "gcd = gcd_euclidean(num1, num2)\n",
    "print(f\"The GCD of {num1} and {num2} is: {gcd}\")\n"
   ]
  },
  {
   "cell_type": "markdown",
   "id": "47c00ef6",
   "metadata": {},
   "source": [
    "#### 34. Build a program that performs matrix multiplication using nested loops and conditional statements."
   ]
  },
  {
   "cell_type": "code",
   "execution_count": 70,
   "id": "12e8b234",
   "metadata": {},
   "outputs": [
    {
     "name": "stdout",
     "output_type": "stream",
     "text": [
      "Matrix Multiplication Result:\n",
      "[19, 22]\n",
      "[43, 50]\n"
     ]
    }
   ],
   "source": [
    "def multiply_matrices(matrix1, matrix2):\n",
    "    result = [[sum(matrix1[i][k] * matrix2[k][j] for k in range(len(matrix2))) for j in range(len(matrix2[0]))] for i in range(len(matrix1))]\n",
    "    return result\n",
    "\n",
    "# Input matrices (adjust dimensions as needed)\n",
    "matrix1 = [[1, 2], [3, 4]]\n",
    "matrix2 = [[5, 6], [7, 8]]\n",
    "\n",
    "multiplication_result = multiply_matrices(matrix1, matrix2)\n",
    "\n",
    "print(\"Matrix Multiplication Result:\")\n",
    "for row in multiplication_result:\n",
    "    print(row)\n"
   ]
  },
  {
   "cell_type": "markdown",
   "id": "9ae975b0",
   "metadata": {},
   "source": [
    "\n",
    "#### 35. Create a program that simulates a basic text-based tic-tac-toe game against the computer."
   ]
  },
  {
   "cell_type": "code",
   "execution_count": 2,
   "id": "f1a3e248",
   "metadata": {},
   "outputs": [
    {
     "name": "stdout",
     "output_type": "stream",
     "text": [
      "Enter the number of Fibonacci terms to generate: 8\n",
      "The first 8 Fibonacci numbers are: [0, 1, 1, 2, 3, 5, 8, 13]\n"
     ]
    }
   ],
   "source": [
    "def generate_fibonacci(n):\n",
    "    fibonacci_sequence = [0, 1]\n",
    "    while len(fibonacci_sequence) < n:\n",
    "        fibonacci_sequence.append(fibonacci_sequence[-1] + fibonacci_sequence[-2])\n",
    "    return fibonacci_sequence[:n]\n",
    "\n",
    "term = int(input(\"Enter the number of Fibonacci terms to generate: \"))\n",
    "fibonacci_sequence = generate_fibonacci(term)\n",
    "print(f\"The first {term} Fibonacci numbers are: {fibonacci_sequence}\")\n"
   ]
  },
  {
   "cell_type": "markdown",
   "id": "2a049ed6",
   "metadata": {},
   "source": [
    "#### 36. Write a program that generates Fibonacci numbers up to a specified term using iterative methods."
   ]
  },
  {
   "cell_type": "code",
   "execution_count": 1,
   "id": "d16600c0",
   "metadata": {},
   "outputs": [
    {
     "name": "stdout",
     "output_type": "stream",
     "text": [
      "Enter the term of the Fibonacci sequence to generate: 4\n",
      "The 4th Fibonacci number is: 3\n"
     ]
    }
   ],
   "source": [
    "def fibonacci(n, memo={}):\n",
    "    if n in memo:\n",
    "        return memo[n]\n",
    "    if n <= 1:\n",
    "        return n\n",
    "    result = fibonacci(n-1, memo) + fibonacci(n-2, memo)\n",
    "    memo[n] = result\n",
    "    return result\n",
    "\n",
    "term = int(input(\"Enter the term of the Fibonacci sequence to generate: \"))\n",
    "fibonacci_number = fibonacci(term)\n",
    "print(f\"The {term}th Fibonacci number is: {fibonacci_number}\")\n"
   ]
  },
  {
   "cell_type": "markdown",
   "id": "5e6e335f",
   "metadata": {},
   "source": [
    "#### 37. Develop a program that calculates the nth term of the Fibonacci sequence using memoization."
   ]
  },
  {
   "cell_type": "code",
   "execution_count": 5,
   "id": "5f95fb6f",
   "metadata": {},
   "outputs": [
    {
     "name": "stdout",
     "output_type": "stream",
     "text": [
      "Enter the term of the Fibonacci sequence to generate: 56\n",
      "The 56th Fibonacci number is: 225851433717\n"
     ]
    }
   ],
   "source": [
    "def fibonacci(n, memo={}):\n",
    "    if n in memo:\n",
    "        return memo[n]\n",
    "    if n <= 1:\n",
    "        return n\n",
    "    result = fibonacci(n-1, memo) + fibonacci(n-2, memo)\n",
    "    memo[n] = result\n",
    "    return result\n",
    "\n",
    "term = int(input(\"Enter the term of the Fibonacci sequence to generate: \"))\n",
    "fibonacci_number = fibonacci(term)\n",
    "print(f\"The {term}th Fibonacci number is: {fibonacci_number}\")\n"
   ]
  },
  {
   "cell_type": "markdown",
   "id": "8e0a35bc",
   "metadata": {},
   "source": [
    "#### 38. Create a program that generates a calendar for a given month and year using conditional statements."
   ]
  },
  {
   "cell_type": "code",
   "execution_count": 3,
   "id": "48b6d986",
   "metadata": {},
   "outputs": [
    {
     "name": "stdout",
     "output_type": "stream",
     "text": [
      "Enter the year: 2004\n",
      "Enter the month (1-12): 8\n",
      "The calendar for August 2004 is:\n",
      "    August 2004\n",
      "Mo Tu We Th Fr Sa Su\n",
      "                   1\n",
      " 2  3  4  5  6  7  8\n",
      " 9 10 11 12 13 14 15\n",
      "16 17 18 19 20 21 22\n",
      "23 24 25 26 27 28 29\n",
      "30 31\n",
      "\n"
     ]
    }
   ],
   "source": [
    "import calendar\n",
    "\n",
    "year = int(input(\"Enter the year: \"))\n",
    "month = int(input(\"Enter the month (1-12): \"))\n",
    "\n",
    "cal = calendar.month(year, month)\n",
    "print(f\"The calendar for {calendar.month_name[month]} {year} is:\")\n",
    "print(cal)\n"
   ]
  },
  {
   "cell_type": "markdown",
   "id": "b595ad23",
   "metadata": {},
   "source": [
    "#### 39. Build a program that simulates a basic text-based blackjack game against the computer."
   ]
  },
  {
   "cell_type": "code",
   "execution_count": 6,
   "id": "5f1a32fa",
   "metadata": {},
   "outputs": [
    {
     "name": "stdout",
     "output_type": "stream",
     "text": [
      "Welcome to Blackjack!\n",
      "Player's hand: K, 4 (Total: 14)\n",
      "Dealer's hand: Q, ?\n",
      "Do you want to 'hit' or 'stand'? hit\n",
      "Player's hand: K, 4, K (Total: 24)\n",
      "Dealer's hand: Q, ?\n",
      "You busted! Dealer wins.\n"
     ]
    }
   ],
   "source": [
    "import random\n",
    "\n",
    "# Function to draw a card\n",
    "def draw_card():\n",
    "    cards = ['2', '3', '4', '5', '6', '7', '8', '9', '10', 'J', 'Q', 'K', 'A']\n",
    "    return random.choice(cards)\n",
    "\n",
    "# Function to calculate the total value of a hand\n",
    "def calculate_hand_value(hand):\n",
    "    value = 0\n",
    "    num_aces = 0\n",
    "\n",
    "    for card in hand:\n",
    "        if card.isdigit():\n",
    "            value += int(card)\n",
    "        elif card in ['J', 'Q', 'K']:\n",
    "            value += 10\n",
    "        elif card == 'A':\n",
    "            value += 11\n",
    "            num_aces += 1\n",
    "\n",
    "    while value > 21 and num_aces > 0:\n",
    "        value -= 10\n",
    "        num_aces -= 1\n",
    "\n",
    "    return value\n",
    "\n",
    "# Function to display the current hands\n",
    "def display_hands(player_hand, dealer_hand):\n",
    "    print(f\"Player's hand: {', '.join(player_hand)} (Total: {calculate_hand_value(player_hand)})\")\n",
    "    print(f\"Dealer's hand: {dealer_hand[0]}, ?\")\n",
    "\n",
    "# Main game logic\n",
    "def blackjack_game():\n",
    "    player_hand = [draw_card(), draw_card()]\n",
    "    dealer_hand = [draw_card(), draw_card()]\n",
    "\n",
    "    print(\"Welcome to Blackjack!\")\n",
    "\n",
    "    while True:\n",
    "        display_hands(player_hand, dealer_hand)\n",
    "\n",
    "        if calculate_hand_value(player_hand) == 21:\n",
    "            print(\"You got a Blackjack! You win!\")\n",
    "            break\n",
    "        elif calculate_hand_value(player_hand) > 21:\n",
    "            print(\"You busted! Dealer wins.\")\n",
    "            break\n",
    "\n",
    "        action = input(\"Do you want to 'hit' or 'stand'? \").lower()\n",
    "\n",
    "        if action == 'hit':\n",
    "            player_hand.append(draw_card())\n",
    "        elif action == 'stand':\n",
    "            while calculate_hand_value(dealer_hand) < 17:\n",
    "                dealer_hand.append(draw_card())\n",
    "\n",
    "            display_hands(player_hand, dealer_hand)\n",
    "\n",
    "            if calculate_hand_value(dealer_hand) > 21:\n",
    "                print(\"Dealer busted! You win!\")\n",
    "            elif calculate_hand_value(player_hand) > calculate_hand_value(dealer_hand):\n",
    "                print(\"You win!\")\n",
    "            elif calculate_hand_value(player_hand) < calculate_hand_value(dealer_hand):\n",
    "                print(\"Dealer wins.\")\n",
    "            else:\n",
    "                print(\"It's a tie!\")\n",
    "\n",
    "            break\n",
    "        else:\n",
    "            print(\"Invalid action. Please enter 'hit' or 'stand'.\")\n",
    "\n",
    "blackjack_game()"
   ]
  },
  {
   "cell_type": "markdown",
   "id": "3eb8cd15",
   "metadata": {},
   "source": [
    "#### 40. Write a program that generates the prime factors of a given number using trial division"
   ]
  },
  {
   "cell_type": "code",
   "execution_count": 4,
   "id": "5a400547",
   "metadata": {},
   "outputs": [
    {
     "name": "stdout",
     "output_type": "stream",
     "text": [
      "Enter a number to find its prime factors: 49\n",
      "The prime factors of 49 are: [7, 7]\n"
     ]
    }
   ],
   "source": [
    "def get_prime_factors(n):\n",
    "    factors = []\n",
    "    divisor = 2\n",
    "\n",
    "    while n > 1:\n",
    "        while n % divisor == 0:\n",
    "            factors.append(divisor)\n",
    "            n = n / divisor\n",
    "        divisor += 1\n",
    "\n",
    "    return factors\n",
    "\n",
    "num = int(input(\"Enter a number to find its prime factors: \"))\n",
    "prime_factors = get_prime_factors(num)\n",
    "\n",
    "print(f\"The prime factors of {num} are: {prime_factors}\")\n"
   ]
  },
  {
   "cell_type": "code",
   "execution_count": null,
   "id": "c15d79e2",
   "metadata": {},
   "outputs": [],
   "source": []
  }
 ],
 "metadata": {
  "kernelspec": {
   "display_name": "Python 3 (ipykernel)",
   "language": "python",
   "name": "python3"
  },
  "language_info": {
   "codemirror_mode": {
    "name": "ipython",
    "version": 3
   },
   "file_extension": ".py",
   "mimetype": "text/x-python",
   "name": "python",
   "nbconvert_exporter": "python",
   "pygments_lexer": "ipython3",
   "version": "3.9.13"
  }
 },
 "nbformat": 4,
 "nbformat_minor": 5
}

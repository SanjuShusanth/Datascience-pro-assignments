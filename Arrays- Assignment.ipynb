{
 "cells": [
  {
   "cell_type": "markdown",
   "id": "31135208",
   "metadata": {},
   "source": [
    "1. Given an array, check if it contains any duplicates or not. \n",
    "\n",
    "arr = [1, 2, 4, 2, 5, 9] \n",
    "\n",
    "Output = True"
   ]
  },
  {
   "cell_type": "code",
   "execution_count": 1,
   "id": "c1bf44e0",
   "metadata": {},
   "outputs": [],
   "source": [
    "arr = [1,2,4,2,5,9]"
   ]
  },
  {
   "cell_type": "code",
   "execution_count": 7,
   "id": "d24e6409",
   "metadata": {},
   "outputs": [],
   "source": [
    "def duplicates(arr:list):\n",
    "    if len(arr) == len(set(arr)):\n",
    "        return False\n",
    "    return True"
   ]
  },
  {
   "cell_type": "code",
   "execution_count": 9,
   "id": "cb404762",
   "metadata": {},
   "outputs": [
    {
     "data": {
      "text/plain": [
       "True"
      ]
     },
     "execution_count": 9,
     "metadata": {},
     "output_type": "execute_result"
    }
   ],
   "source": [
    "duplicates(arr) # Time complexity - O(1) - constant, Space Complexity - O(1)"
   ]
  },
  {
   "cell_type": "markdown",
   "id": "a6155b32",
   "metadata": {},
   "source": [
    "2. Given an array and an integer k, rotate the array to the right by k steps. \n",
    "\n",
    "arr = [1, 2, 3, 4, 5, 6, 7] k = 3 \n",
    "\n",
    "Output = [5, 6, 7, 1, 2, 3, 4]"
   ]
  },
  {
   "cell_type": "code",
   "execution_count": 20,
   "id": "2be20f85",
   "metadata": {},
   "outputs": [],
   "source": [
    "arr=[1, 2, 3, 4, 5, 6, 7]"
   ]
  },
  {
   "cell_type": "code",
   "execution_count": 29,
   "id": "79ca4e00",
   "metadata": {},
   "outputs": [],
   "source": [
    "def rotate(arr:list, K:int):\n",
    "    return arr[-K % len(arr):] + arr[:-K % len(arr)]"
   ]
  },
  {
   "cell_type": "code",
   "execution_count": 30,
   "id": "7471c100",
   "metadata": {},
   "outputs": [
    {
     "data": {
      "text/plain": [
       "[5, 6, 7, 1, 2, 3, 4]"
      ]
     },
     "execution_count": 30,
     "metadata": {},
     "output_type": "execute_result"
    }
   ],
   "source": [
    "rotate(arr, K=3) # Time complexity - O(1) - constant, Space Complexity - O(1)"
   ]
  },
  {
   "cell_type": "markdown",
   "id": "808f630e",
   "metadata": {},
   "source": [
    "3. Reverse the given array in-place, means without using any extra data structure. \n",
    "\n",
    "arr = [2, 4, 5, 7, 9, 12] \n",
    "\n",
    "Output = [12, 9, 7, 5, 4, 2]"
   ]
  },
  {
   "cell_type": "code",
   "execution_count": 59,
   "id": "86ac1f71",
   "metadata": {},
   "outputs": [],
   "source": [
    "arr = [2, 4, 5, 7, 9, 12] "
   ]
  },
  {
   "cell_type": "code",
   "execution_count": 60,
   "id": "9fcf216d",
   "metadata": {},
   "outputs": [],
   "source": [
    "arr.sort(reverse=True)"
   ]
  },
  {
   "cell_type": "code",
   "execution_count": 61,
   "id": "f7575382",
   "metadata": {},
   "outputs": [
    {
     "data": {
      "text/plain": [
       "[12, 9, 7, 5, 4, 2]"
      ]
     },
     "execution_count": 61,
     "metadata": {},
     "output_type": "execute_result"
    }
   ],
   "source": [
    "arr # Time complexity - O(1) - constant, Space Complexity - O(1)"
   ]
  },
  {
   "cell_type": "markdown",
   "id": "996763e9",
   "metadata": {},
   "source": [
    "4. Given an array of integers, find the maximum element in an array\n",
    "\n",
    " arr = [10, 5, 20, 8, 15]\n",
    "\n",
    " Output = 20"
   ]
  },
  {
   "cell_type": "code",
   "execution_count": 19,
   "id": "3d86bca0",
   "metadata": {},
   "outputs": [],
   "source": [
    "arr = [10, 5, 200, 8, 15]"
   ]
  },
  {
   "cell_type": "code",
   "execution_count": 20,
   "id": "8aad28a9",
   "metadata": {},
   "outputs": [
    {
     "name": "stdout",
     "output_type": "stream",
     "text": [
      "200\n"
     ]
    }
   ],
   "source": [
    "max_num = 0\n",
    "for i in range(len(arr)):\n",
    "    if max_num < arr[i]:\n",
    "        max_num = arr[i]\n",
    "print(max_num) # Time complexity - O(n), Space Complexity - O(1)"
   ]
  },
  {
   "cell_type": "code",
   "execution_count": 21,
   "id": "d4ac701e",
   "metadata": {},
   "outputs": [],
   "source": [
    "def max_num(arr:list):\n",
    "    # base case\n",
    "    if len(arr)<2:\n",
    "        return arr[0]\n",
    "    else:\n",
    "        max_of_rest = max_num(arr[1:])\n",
    "        return arr[0] if arr[0] > max_of_rest else max_of_rest # Time complexity - O(1) - constant, Space Complexity - O(1)"
   ]
  },
  {
   "cell_type": "code",
   "execution_count": 22,
   "id": "29eaad5a",
   "metadata": {},
   "outputs": [
    {
     "data": {
      "text/plain": [
       "200"
      ]
     },
     "execution_count": 22,
     "metadata": {},
     "output_type": "execute_result"
    }
   ],
   "source": [
    "max_num(arr)"
   ]
  },
  {
   "cell_type": "markdown",
   "id": "de34a4af",
   "metadata": {},
   "source": [
    "5. Given a sorted array, remove the duplicate element without using any extra data structure. \n",
    "\n",
    "arr = [1, 1, 2, 2, 2, 3, 3, 4, 4, 4, 5, 5] \n",
    "\n",
    "Output = [1, 2, 3, 4, 5]"
   ]
  },
  {
   "cell_type": "code",
   "execution_count": 23,
   "id": "22e3f23f",
   "metadata": {},
   "outputs": [],
   "source": [
    "arr = [1, 1, 2, 2, 2, 3, 3, 4, 4, 4, 5, 5]"
   ]
  },
  {
   "cell_type": "code",
   "execution_count": 26,
   "id": "2df495ac",
   "metadata": {},
   "outputs": [
    {
     "name": "stdout",
     "output_type": "stream",
     "text": [
      "[1, 2, 3, 4, 5]\n"
     ]
    }
   ],
   "source": [
    "arr1 = []\n",
    "for i in arr:\n",
    "    if i not in arr1:\n",
    "        arr1.append(i)\n",
    "print(arr1)# Time complexity - O(n), Space Complexity - O(1)"
   ]
  },
  {
   "cell_type": "code",
   "execution_count": null,
   "id": "546db9df",
   "metadata": {},
   "outputs": [],
   "source": []
  }
 ],
 "metadata": {
  "kernelspec": {
   "display_name": "Python 3 (ipykernel)",
   "language": "python",
   "name": "python3"
  },
  "language_info": {
   "codemirror_mode": {
    "name": "ipython",
    "version": 3
   },
   "file_extension": ".py",
   "mimetype": "text/x-python",
   "name": "python",
   "nbconvert_exporter": "python",
   "pygments_lexer": "ipython3",
   "version": "3.10.13"
  }
 },
 "nbformat": 4,
 "nbformat_minor": 5
}
